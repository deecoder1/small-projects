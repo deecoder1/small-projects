{
 "cells": [
  {
   "cell_type": "markdown",
   "id": "0cad77f3-28d1-4f94-be18-d390946d64ec",
   "metadata": {},
   "source": [
    " "
   ]
  },
  {
   "cell_type": "markdown",
   "id": "452d7cae-e7fb-4c9c-a222-a98d3e2dc225",
   "metadata": {},
   "source": [
    "## Notes for Practices (from Powerpoint Slide)"
   ]
  },
  {
   "cell_type": "markdown",
   "id": "2c28b1bd-1ce4-41f3-a1fd-d5e4de37cd7d",
   "metadata": {},
   "source": [
    "### 1. Python Basics"
   ]
  },
  {
   "attachments": {},
   "cell_type": "markdown",
   "id": "3ff5027a-6604-4f9c-b3d9-0ca2a23e1ae1",
   "metadata": {},
   "source": [
    "##### Python *print()* Method\n",
    "\n",
    "The print() function is used to print output."
   ]
  },
  {
   "cell_type": "code",
   "execution_count": 1,
   "id": "4c30e4f6-980e-4ad5-91ec-c746562036d2",
   "metadata": {},
   "outputs": [
    {
     "name": "stdout",
     "output_type": "stream",
     "text": [
      "Good Morning!\n",
      "It is rainy today\n"
     ]
    }
   ],
   "source": [
    "# Simple print statements\n",
    "print(\"Good Morning!\")\n",
    "print('It is rainy today')"
   ]
  },
  {
   "cell_type": "code",
   "execution_count": 2,
   "id": "2cf5b9a6-d205-4433-a0ad-ee570b23dcb0",
   "metadata": {},
   "outputs": [
    {
     "name": "stdout",
     "output_type": "stream",
     "text": [
      "Good Morning Mary\n",
      "apple orange grapes\n"
     ]
    }
   ],
   "source": [
    "# You can specify multiple strings with the print() function:\n",
    "print('Good Morning', \"Mary\")\n",
    "print('apple', 'orange', 'grapes')"
   ]
  },
  {
   "cell_type": "markdown",
   "id": "e9afadae-d524-4d9e-b934-0db470a08085",
   "metadata": {},
   "source": [
    " "
   ]
  },
  {
   "cell_type": "markdown",
   "id": "87894e74-c5dd-4e58-ab15-021de20c7307",
   "metadata": {},
   "source": [
    "##### Python *input()* Method\n",
    "\n",
    "In Python, we can use the input() function get input from the user"
   ]
  },
  {
   "cell_type": "code",
   "execution_count": 3,
   "id": "154e800b-1c1d-4204-8cd4-38836ae5d0d5",
   "metadata": {},
   "outputs": [
    {
     "name": "stdout",
     "output_type": "stream",
     "text": [
      "Enter a number:  99\n"
     ]
    },
    {
     "name": "stdout",
     "output_type": "stream",
     "text": [
      "You Entered: 99\n",
      "Data type of num: <class 'str'>\n"
     ]
    }
   ],
   "source": [
    "# using input() to take user input\n",
    "num = input('Enter a number: ')\n",
    "\n",
    "print('You Entered:', num)\n",
    "print('Data type of num:', type(num))"
   ]
  },
  {
   "cell_type": "markdown",
   "id": "1e7858e4-5c53-4490-966c-0fc5abd5e301",
   "metadata": {},
   "source": [
    "In the above example, we have used the input() function to take input from the user and stored the user input in the num variable.\n",
    "\n",
    "It is important to note that the entered value 10 is a string, not a number. So, type(num) returns <class 'str'>."
   ]
  },
  {
   "cell_type": "markdown",
   "id": "4d1d6674-5f42-42b5-a465-ef76399eb21b",
   "metadata": {},
   "source": [
    "To convert user input into a number we can use int() or float() functions as:"
   ]
  },
  {
   "cell_type": "code",
   "execution_count": 4,
   "id": "86961421-2ab8-4061-8151-9a2fe805a3fe",
   "metadata": {},
   "outputs": [
    {
     "name": "stdout",
     "output_type": "stream",
     "text": [
      "Enter a number:  88\n"
     ]
    }
   ],
   "source": [
    "num = int(input('Enter a number: '))"
   ]
  },
  {
   "cell_type": "markdown",
   "id": "03eaaacd-52de-4b97-bc12-7bba1b8872d5",
   "metadata": {},
   "source": [
    "Here, the data type of the user input is converted from string to integer ."
   ]
  },
  {
   "cell_type": "code",
   "execution_count": 5,
   "id": "4ff12302-437f-423c-b45e-623f0c157f7d",
   "metadata": {},
   "outputs": [
    {
     "name": "stdout",
     "output_type": "stream",
     "text": [
      "You Entered: 88\n",
      "Data type of num: <class 'int'>\n"
     ]
    }
   ],
   "source": [
    "print('You Entered:', num)\n",
    "print('Data type of num:', type(num))"
   ]
  },
  {
   "cell_type": "markdown",
   "id": "217167a4-00a6-4150-b2ae-3189931acc1c",
   "metadata": {},
   "source": [
    " "
   ]
  },
  {
   "attachments": {},
   "cell_type": "markdown",
   "id": "72dc12ff-3c98-4a5c-bdd5-1ffe301d0b0b",
   "metadata": {},
   "source": [
    "##### Data Type Conversion\n",
    "It’s generally possible to convert some of the data type of a variable from one type to another. Here is an example of data type conversion between integer and floating point variables: "
   ]
  },
  {
   "cell_type": "code",
   "execution_count": 6,
   "id": "e9e43a13-e21d-4135-9765-363572a9c4c5",
   "metadata": {},
   "outputs": [
    {
     "name": "stdout",
     "output_type": "stream",
     "text": [
      "<class 'float'>\n",
      "<class 'int'>\n"
     ]
    }
   ],
   "source": [
    "x = 1       # int\n",
    "y = 2.8     # float\n",
    "\n",
    "a = float(x)    #convert from int to float:\n",
    "b = int(y)      #convert from float to int:\n",
    "\n",
    "print(type(a))\n",
    "print(type(b))"
   ]
  },
  {
   "cell_type": "code",
   "execution_count": null,
   "id": "b167479f-d862-4c7c-903b-dbade2f73b94",
   "metadata": {},
   "outputs": [],
   "source": []
  },
  {
   "attachments": {},
   "cell_type": "markdown",
   "id": "795673d4-c4c2-476e-97fe-fe8fd15309c9",
   "metadata": {},
   "source": [
    "##### Python Boolean "
   ]
  },
  {
   "attachments": {},
   "cell_type": "markdown",
   "id": "828b5c6a-1a7f-4e05-b43b-a1d70f361a05",
   "metadata": {},
   "source": [
    "Booleans represent one of two values: True or False.\n",
    "When we compare two values, the expression is evaluated and Python returns the Boolean answer:"
   ]
  },
  {
   "cell_type": "code",
   "execution_count": 7,
   "id": "5c0993bb-671b-4e12-9d3d-c0bbc3377ff4",
   "metadata": {},
   "outputs": [
    {
     "name": "stdout",
     "output_type": "stream",
     "text": [
      "True\n",
      "False\n",
      "False\n"
     ]
    }
   ],
   "source": [
    "print(10 > 9)\n",
    "print(10 == 9)\n",
    "print(10 < 9) "
   ]
  },
  {
   "cell_type": "markdown",
   "id": "191a30b1-0af5-4627-8b55-82a5338217ec",
   "metadata": {},
   "source": [
    "Example: print a message based on whether the condition is True or False:"
   ]
  },
  {
   "cell_type": "code",
   "execution_count": 8,
   "id": "ad205bd4-1fc5-4067-8d91-e59e4d996e8c",
   "metadata": {},
   "outputs": [
    {
     "name": "stdout",
     "output_type": "stream",
     "text": [
      "b is not greater than a\n"
     ]
    }
   ],
   "source": [
    "a = 200\n",
    "b = 33\n",
    "\n",
    "if b > a:\n",
    "  print(\"b is greater than a\")\n",
    "else:\n",
    "  print(\"b is not greater than a\") "
   ]
  },
  {
   "cell_type": "markdown",
   "id": "cb432f2e-0a04-4c5d-86b5-ac3d190aa86c",
   "metadata": {},
   "source": [
    "##### Operator Precedence"
   ]
  },
  {
   "cell_type": "markdown",
   "id": "5e4adf69-e2db-46e1-842d-a73ab40b87b7",
   "metadata": {},
   "source": [
    "Parentheses has the highest precedence, meaning that expressions inside parentheses must be evaluated first. Multiplication * has higher precedence than addition +, and therefor multiplications are evaluated before additions."
   ]
  },
  {
   "cell_type": "code",
   "execution_count": 9,
   "id": "e15cef64-9fda-49f4-858d-9cc381c2238a",
   "metadata": {},
   "outputs": [
    {
     "name": "stdout",
     "output_type": "stream",
     "text": [
      "0\n"
     ]
    }
   ],
   "source": [
    "print((6 + 3) - (6 + 3)) "
   ]
  },
  {
   "cell_type": "code",
   "execution_count": 10,
   "id": "c17fdce0-a12d-4d35-a1e5-d912618ba222",
   "metadata": {},
   "outputs": [
    {
     "name": "stdout",
     "output_type": "stream",
     "text": [
      "115\n"
     ]
    }
   ],
   "source": [
    "print(100 + 5 * 3) "
   ]
  },
  {
   "cell_type": "markdown",
   "id": "bc785e92-c86b-4522-8875-0af3511c005c",
   "metadata": {},
   "source": [
    "##### Casting Functions\n",
    "\n",
    "int() - constructs an integer number from an integer literal, a float literal (by removing all decimals), or a string literal\n",
    "\n",
    "float() - constructs a float number from an integer literal, a float literal or a string literal\n",
    "\n",
    "str() - constructs a string from a wide variety of data types, including strings, integer literals and float literals\n"
   ]
  },
  {
   "cell_type": "code",
   "execution_count": 11,
   "id": "f3de0bf0-d026-479f-add1-eb63d8aa3f8f",
   "metadata": {},
   "outputs": [],
   "source": [
    "# Integers:\n",
    "x = int(1)   # x will be 1\n",
    "y = int(2.8) # y will be 2\n",
    "z = int(\"3\") # z will be 3"
   ]
  },
  {
   "cell_type": "code",
   "execution_count": 12,
   "id": "2a12b197-b638-4f67-98e6-872f88787a82",
   "metadata": {},
   "outputs": [],
   "source": [
    "# Floats:\n",
    "x = float(1)     # x will be 1.0\n",
    "y = float(2.8)   # y will be 2.8\n",
    "z = float(\"3\")   # z will be 3.0\n",
    "w = float(\"4.2\") # w will be 4.2"
   ]
  },
  {
   "cell_type": "code",
   "execution_count": 13,
   "id": "fb03c2d3-b259-4027-925b-cc2751ce4a74",
   "metadata": {},
   "outputs": [],
   "source": [
    "# Strings:\n",
    "x = str(\"s1\") # x will be 's1'\n",
    "y = str(2)    # y will be '2'\n",
    "z = str(3.0)  # z will be '3.0' "
   ]
  },
  {
   "cell_type": "markdown",
   "id": "9e38ce07-aa5a-48c2-96e7-4392099a0ac8",
   "metadata": {},
   "source": [
    "### 2. Strings"
   ]
  },
  {
   "cell_type": "markdown",
   "id": "837a560a-b61f-4887-9a0a-25f6abec6470",
   "metadata": {},
   "source": [
    "#### Quotes Inside Quotes"
   ]
  },
  {
   "cell_type": "markdown",
   "id": "71c6d0a5-e080-44de-88e5-1ae629bca101",
   "metadata": {},
   "source": [
    "You can use quotes inside a string, as long as they don't match the quotes surrounding the string:"
   ]
  },
  {
   "cell_type": "code",
   "execution_count": 14,
   "id": "a9eba02f-2d35-4403-9ea2-c3179c836fa4",
   "metadata": {},
   "outputs": [
    {
     "name": "stdout",
     "output_type": "stream",
     "text": [
      "It's okay, it's alright\n",
      "His name is 'Tommy'\n",
      "His name is \"John\"\n"
     ]
    }
   ],
   "source": [
    "print(\"It's okay, it's alright\")\n",
    "print(\"His name is 'Tommy'\")\n",
    "print('His name is \"John\"')"
   ]
  },
  {
   "cell_type": "markdown",
   "id": "0d05b8a5-4fdf-4698-84cb-b8c6efe7c9ca",
   "metadata": {},
   "source": [
    "#### Multiline Strings"
   ]
  },
  {
   "cell_type": "markdown",
   "id": "03d5d3c5-e88b-42b5-8791-6b815dfa3ab9",
   "metadata": {},
   "source": [
    "You can assign a multiline string to a variable by using three quotes:"
   ]
  },
  {
   "cell_type": "code",
   "execution_count": 15,
   "id": "6f4ef057-a95b-462c-a4fc-839c44357f2a",
   "metadata": {},
   "outputs": [
    {
     "name": "stdout",
     "output_type": "stream",
     "text": [
      "Lorem ipsum dolor sit amet,\n",
      "consectetur adipiscing elit,\n",
      "sed do eiusmod tempor incididunt\n",
      "ut labore et dolore magna aliqua.\n"
     ]
    }
   ],
   "source": [
    "a = \"\"\"Lorem ipsum dolor sit amet,\n",
    "consectetur adipiscing elit,\n",
    "sed do eiusmod tempor incididunt\n",
    "ut labore et dolore magna aliqua.\"\"\"\n",
    "\n",
    "print(a) "
   ]
  },
  {
   "cell_type": "code",
   "execution_count": 16,
   "id": "ed07aad7-33e4-4faf-822c-a0553854f1c9",
   "metadata": {},
   "outputs": [
    {
     "name": "stdout",
     "output_type": "stream",
     "text": [
      "Lorem ipsum dolor sit amet,\n",
      "consectetur adipiscing elit,\n",
      "sed do eiusmod tempor incididunt\n",
      "ut labore et dolore magna aliqua.\n"
     ]
    }
   ],
   "source": [
    "# This is the same as above:\n",
    "\n",
    "a = '''Lorem ipsum dolor sit amet,\n",
    "consectetur adipiscing elit,\n",
    "sed do eiusmod tempor incididunt\n",
    "ut labore et dolore magna aliqua.'''\n",
    "print(a) "
   ]
  },
  {
   "cell_type": "markdown",
   "id": "0d7e361d-b217-44aa-be88-bbaf9f987684",
   "metadata": {},
   "source": [
    "#### String Concatenation (+)"
   ]
  },
  {
   "cell_type": "markdown",
   "id": "126ac3cb-11b5-4b78-bc19-21ac4d55597a",
   "metadata": {},
   "source": [
    "To concatenate, join or combine, two strings you can use the + operator."
   ]
  },
  {
   "cell_type": "code",
   "execution_count": 17,
   "id": "530febfd-c073-43fc-930a-2f7bf3c78edc",
   "metadata": {},
   "outputs": [
    {
     "name": "stdout",
     "output_type": "stream",
     "text": [
      "HelloWorld\n"
     ]
    }
   ],
   "source": [
    "# Merge variable a with variable b into variable c:\n",
    "a = \"Hello\"\n",
    "b = \"World\"\n",
    "c = a + b\n",
    "print(c)"
   ]
  },
  {
   "cell_type": "code",
   "execution_count": 18,
   "id": "3df5067e-0cb6-4ad6-b9ab-9cb6b7b1c378",
   "metadata": {},
   "outputs": [
    {
     "name": "stdout",
     "output_type": "stream",
     "text": [
      "Hello World\n"
     ]
    }
   ],
   "source": [
    "# To add a space between them, add a \" \" in between:\n",
    "a = \"Hello\"\n",
    "b = \"World\"\n",
    "c = a + \" \" + b\n",
    "print(c)"
   ]
  },
  {
   "cell_type": "markdown",
   "id": "b9987b6c-edb2-4a6c-b95b-e99808180e0b",
   "metadata": {},
   "source": [
    "#### Python String .format() Method\n",
    "\n",
    "The .format() method is useful for inserting non-string values into another string, at locations indicated by { }, with options to define formats.\n"
   ]
  },
  {
   "cell_type": "code",
   "execution_count": 19,
   "id": "56118eb2-395e-4bf4-9231-d5645759bc7d",
   "metadata": {},
   "outputs": [
    {
     "name": "stdout",
     "output_type": "stream",
     "text": [
      "The value of x is 5 and y is 10\n"
     ]
    }
   ],
   "source": [
    "# Output formating example using str.format() method, \n",
    "# similar to printf() in C. Here, the curly braces {} \n",
    "# are used as placeholders. More info in later section on Strings.\n",
    "\n",
    "x = 5\n",
    "y = 10\n",
    "\n",
    "print('The value of x is {} and y is {}'.format(x,y))"
   ]
  },
  {
   "cell_type": "code",
   "execution_count": 20,
   "id": "26387a32-790e-403b-b655-bef61a9481ad",
   "metadata": {},
   "outputs": [
    {
     "name": "stdout",
     "output_type": "stream",
     "text": [
      "The value of x is 5.60 and y is 12.35\n"
     ]
    }
   ],
   "source": [
    "# For floating point numbers: can specify num of decimal places inside { }\n",
    "\n",
    "x = 5.6\n",
    "y = 12.345\n",
    "\n",
    "print('The value of x is {:.2f} and y is {:.2f}'.format(x,y))"
   ]
  },
  {
   "cell_type": "code",
   "execution_count": 21,
   "id": "b3ea74f1-a680-492f-8205-a3f75363bca2",
   "metadata": {},
   "outputs": [
    {
     "name": "stdout",
     "output_type": "stream",
     "text": [
      "I want to pay 49.95 dollars for 3 pieces of item 567. \n"
     ]
    }
   ],
   "source": [
    "# Another Implementation\n",
    "\n",
    "quantity = 3\n",
    "itemno = 567\n",
    "price = 49.95\n",
    "\n",
    "myorder = \"I want to pay {2} dollars for {0} pieces of item {1}. \"\n",
    "\n",
    "print( myorder.format(quantity, itemno, price) )"
   ]
  },
  {
   "cell_type": "markdown",
   "id": "83fd9c71-ec20-4ee4-baa3-1a520cd60d65",
   "metadata": {},
   "source": [
    "#### String Slicing (:) Operator"
   ]
  },
  {
   "cell_type": "code",
   "execution_count": 22,
   "id": "428f8e16-ba62-4937-a536-82138ab23c0e",
   "metadata": {},
   "outputs": [
    {
     "name": "stdout",
     "output_type": "stream",
     "text": [
      "e\n",
      "Hello\n",
      "Hippo\n",
      "Potamus!  \n",
      "HippoPotamus\n",
      "amus\n",
      "Hello, Hippo\n"
     ]
    }
   ],
   "source": [
    "a = \"Hello, HippoPotamus!  \"\n",
    "\n",
    "print( a[1] )\t\t# returns e\n",
    "print( a[0:5] ) \t\t# returns Hello\n",
    "print( a[7:12] ) \t\t# returns Hippo\n",
    "print( a[12:] ) \t\t# returns Potamus! \n",
    "\n",
    "# with negative indexing\n",
    "print( a[ 7:-3] ) \t\t# returns HippoPotamus\n",
    "print( a[-7:-3] ) \t\t# returns amus\n",
    "print( a[:-10] ) \t\t# returns Hello, Hippo\n"
   ]
  },
  {
   "cell_type": "code",
   "execution_count": 23,
   "id": "a886b6f5-d214-49b8-8910-34a353b5b300",
   "metadata": {},
   "outputs": [
    {
     "name": "stdout",
     "output_type": "stream",
     "text": [
      "True\n",
      "False\n"
     ]
    }
   ],
   "source": [
    "#The following checks if the phrase \"ppo\" is present\n",
    "x = \"ppo\" in a   \t \n",
    "print(x) \t# returns true\n",
    "\n",
    "#The following checks if the phrase “mus\" is NOT present\n",
    "x = \"mus\" not in a\n",
    "print(x) \t# returns true\n"
   ]
  },
  {
   "cell_type": "markdown",
   "id": "09bca4c5-4f5c-4838-aacd-fda68c816687",
   "metadata": {},
   "source": [
    "### 3. Lists"
   ]
  },
  {
   "cell_type": "markdown",
   "id": "a22a1bcf-002f-4d09-b119-8fec4028551e",
   "metadata": {},
   "source": [
    "##### Here's a simple list:"
   ]
  },
  {
   "cell_type": "code",
   "execution_count": 24,
   "id": "8118070c-4276-4f19-964a-b84daf7ba01f",
   "metadata": {},
   "outputs": [
    {
     "name": "stdout",
     "output_type": "stream",
     "text": [
      "['apple', 'banana', 'cherry']\n"
     ]
    }
   ],
   "source": [
    "thislist = [\"apple\", \"banana\", \"cherry\"]\n",
    "print(thislist)"
   ]
  },
  {
   "cell_type": "markdown",
   "id": "e1c18252-7877-446c-901f-478d7db4b2ec",
   "metadata": {},
   "source": [
    "##### Here's a list of numbers:"
   ]
  },
  {
   "cell_type": "code",
   "execution_count": 25,
   "id": "62cf1bc5-b5a6-461a-a2b1-effadb430d35",
   "metadata": {},
   "outputs": [
    {
     "data": {
      "text/plain": [
       "[1, 4, 9, 16, 25]"
      ]
     },
     "execution_count": 25,
     "metadata": {},
     "output_type": "execute_result"
    }
   ],
   "source": [
    "squares = [1, 4, 9, 16, 25]\n",
    "squares"
   ]
  },
  {
   "cell_type": "markdown",
   "id": "f7ef3e0c-e3b4-4c01-85ff-cea286fe5d0c",
   "metadata": {},
   "source": [
    "The function **range()** can generate a sequence of numbers, which can be cast into a list."
   ]
  },
  {
   "cell_type": "code",
   "execution_count": 26,
   "id": "7c39ddcc-eaaa-4903-8ad5-4d6ed921083f",
   "metadata": {},
   "outputs": [
    {
     "name": "stdout",
     "output_type": "stream",
     "text": [
      "[0, 1, 2, 3, 4, 5, 6, 7, 8, 9]\n"
     ]
    }
   ],
   "source": [
    "nums = list( range(10))\n",
    "print(nums)"
   ]
  },
  {
   "cell_type": "code",
   "execution_count": 27,
   "id": "cc100804-f04e-4862-bef4-18180778c95e",
   "metadata": {},
   "outputs": [
    {
     "name": "stdout",
     "output_type": "stream",
     "text": [
      "[0, 5, 10, 15, 20, 25, 30, 35, 40, 45, 50, 55, 60, 65, 70, 75, 80, 85, 90, 95]\n"
     ]
    }
   ],
   "source": [
    "nums = list( range(0,100,5))\n",
    "print(nums)"
   ]
  },
  {
   "cell_type": "markdown",
   "id": "fa72ad8e-f525-4e6b-b6e5-c0ed43b46dcc",
   "metadata": {},
   "source": [
    "##### We can join two Lists using **List Concatenation** (+ operator):"
   ]
  },
  {
   "cell_type": "code",
   "execution_count": 28,
   "id": "568d5d22-de3d-42e2-ad32-a3c71c3f3085",
   "metadata": {},
   "outputs": [
    {
     "name": "stdout",
     "output_type": "stream",
     "text": [
      "[1, 4, 9, 16, 25]\n"
     ]
    }
   ],
   "source": [
    "squares = [1, 4, 9, 16, 25]\n",
    "print(squares)"
   ]
  },
  {
   "cell_type": "code",
   "execution_count": 29,
   "id": "bc2d1484-cfbc-40dc-899f-bf49578368f3",
   "metadata": {},
   "outputs": [
    {
     "data": {
      "text/plain": [
       "[1, 4, 9, 16, 25, 36, 49, 64, 81, 100]"
      ]
     },
     "execution_count": 29,
     "metadata": {},
     "output_type": "execute_result"
    }
   ],
   "source": [
    "squares + [36, 49, 64, 81, 100]"
   ]
  },
  {
   "cell_type": "markdown",
   "id": "e83a16d1-f7a5-47eb-bff7-8bbe309c666c",
   "metadata": {},
   "source": [
    "##### Lists can also be **indexed and sliced**, just like strings:"
   ]
  },
  {
   "cell_type": "code",
   "execution_count": 30,
   "id": "e8325287-0d9f-4f91-8409-d6ef352fd702",
   "metadata": {},
   "outputs": [
    {
     "data": {
      "text/plain": [
       "[1, 4, 9, 16, 25]"
      ]
     },
     "execution_count": 30,
     "metadata": {},
     "output_type": "execute_result"
    }
   ],
   "source": [
    "squares"
   ]
  },
  {
   "cell_type": "code",
   "execution_count": 31,
   "id": "8cabc867-72c5-48ff-9939-3ae003062907",
   "metadata": {},
   "outputs": [
    {
     "name": "stdout",
     "output_type": "stream",
     "text": [
      "1\n",
      "25\n"
     ]
    }
   ],
   "source": [
    "print(squares[0] )  # indexing returns the item\n",
    "print(squares[-1])"
   ]
  },
  {
   "cell_type": "code",
   "execution_count": 32,
   "id": "a334c3c1-62f4-45f6-a680-6ad0d85323bb",
   "metadata": {},
   "outputs": [
    {
     "data": {
      "text/plain": [
       "[9, 16, 25]"
      ]
     },
     "execution_count": 32,
     "metadata": {},
     "output_type": "execute_result"
    }
   ],
   "source": [
    "squares[-3:]  # slicing returns a new list"
   ]
  },
  {
   "cell_type": "markdown",
   "id": "98b1d97e-07fb-46c5-a60f-7658e37b8f9f",
   "metadata": {},
   "source": [
    "We can also add new items at the end of the list, by using the **append()** method:"
   ]
  },
  {
   "cell_type": "code",
   "execution_count": 33,
   "id": "679cd4f8-09de-426c-8f85-82ee2575832e",
   "metadata": {},
   "outputs": [
    {
     "data": {
      "text/plain": [
       "[1, 8, 27, 64, 125]"
      ]
     },
     "execution_count": 33,
     "metadata": {},
     "output_type": "execute_result"
    }
   ],
   "source": [
    "cubes = [1, 8, 27, 64, 125]\n",
    "cubes"
   ]
  },
  {
   "cell_type": "code",
   "execution_count": 34,
   "id": "6a2dd22d-5c5e-40c3-a276-bbb204b2678c",
   "metadata": {},
   "outputs": [
    {
     "data": {
      "text/plain": [
       "[1, 8, 27, 64, 125, 216, 343]"
      ]
     },
     "execution_count": 34,
     "metadata": {},
     "output_type": "execute_result"
    }
   ],
   "source": [
    "cubes.append(216)  # add the cube of 6\n",
    "cubes.append(7 ** 3)  # and the cube of 7\n",
    "cubes"
   ]
  },
  {
   "cell_type": "markdown",
   "id": "3c00087a-7273-4846-bbc3-343f70de5919",
   "metadata": {},
   "source": [
    "**Assignment to slices** is also possible, and this can even change the size of the list or clear it entirely:"
   ]
  },
  {
   "cell_type": "code",
   "execution_count": 35,
   "id": "1a60ebb2-96fe-4b34-86e3-77f6a08caef1",
   "metadata": {},
   "outputs": [
    {
     "data": {
      "text/plain": [
       "['a', 'b', 'c', 'd', 'e', 'f', 'g']"
      ]
     },
     "execution_count": 35,
     "metadata": {},
     "output_type": "execute_result"
    }
   ],
   "source": [
    "# Define a list consisting of lower case characters\n",
    "letters = ['a', 'b', 'c', 'd', 'e', 'f', 'g']\n",
    "letters"
   ]
  },
  {
   "cell_type": "code",
   "execution_count": 36,
   "id": "ae130cfe-3d5c-4cd0-85b8-5e1f661bfc66",
   "metadata": {},
   "outputs": [
    {
     "data": {
      "text/plain": [
       "['a', 'b', 'C', 'D', 'E', 'f', 'g']"
      ]
     },
     "execution_count": 36,
     "metadata": {},
     "output_type": "execute_result"
    }
   ],
   "source": [
    "# replace slice with some other characters\n",
    "letters[2:5] = ['C', 'D', 'E']\n",
    "letters"
   ]
  },
  {
   "cell_type": "code",
   "execution_count": 37,
   "id": "97059ee2-c156-4eb7-a17e-01e40f7201ea",
   "metadata": {},
   "outputs": [
    {
     "data": {
      "text/plain": [
       "['a', 'b', 'f', 'g']"
      ]
     },
     "execution_count": 37,
     "metadata": {},
     "output_type": "execute_result"
    }
   ],
   "source": [
    "# now replace slice with empty list\n",
    "letters[2:5] = []\n",
    "letters"
   ]
  },
  {
   "cell_type": "code",
   "execution_count": 38,
   "id": "004ac66f-47ab-4068-80f5-44d9579ef64e",
   "metadata": {},
   "outputs": [
    {
     "data": {
      "text/plain": [
       "[]"
      ]
     },
     "execution_count": 38,
     "metadata": {},
     "output_type": "execute_result"
    }
   ],
   "source": [
    "# replace whole list with an empty list\n",
    "letters[:] = []\n",
    "letters"
   ]
  },
  {
   "cell_type": "markdown",
   "id": "58f10dbe-67cf-4f5f-b69a-1b0c3b1591d0",
   "metadata": {},
   "source": [
    "The functions **len(), max(), min()** also works with lists:"
   ]
  },
  {
   "cell_type": "code",
   "execution_count": 39,
   "id": "1aae7340-162f-4cbb-92a9-82ff25b96f81",
   "metadata": {},
   "outputs": [
    {
     "data": {
      "text/plain": [
       "4"
      ]
     },
     "execution_count": 39,
     "metadata": {},
     "output_type": "execute_result"
    }
   ],
   "source": [
    "letters = ['a', 'b', 'c', 'd']\n",
    "len(letters)"
   ]
  },
  {
   "cell_type": "code",
   "execution_count": 40,
   "id": "86611654-4806-4b71-9060-04e5d6c515f4",
   "metadata": {},
   "outputs": [],
   "source": [
    "numbers = [1, 3, 5, 7, 9]"
   ]
  },
  {
   "cell_type": "code",
   "execution_count": 41,
   "id": "e4b86f02-8b71-43d7-a86e-427c7b2a83e5",
   "metadata": {},
   "outputs": [
    {
     "name": "stdout",
     "output_type": "stream",
     "text": [
      "5\n",
      "1\n",
      "9\n"
     ]
    }
   ],
   "source": [
    "print(len(numbers))\n",
    "print(min(numbers))\n",
    "print(max(numbers))"
   ]
  },
  {
   "cell_type": "markdown",
   "id": "086aa462-dc29-41c1-a6c8-efacbcb2704e",
   "metadata": {},
   "source": [
    "##### Exercise 4: List Slicing\n",
    "\n",
    "1. Create a list named \"colors\" containing the strings \"red\", \"green\", \"blue\", \"yellow\", \"orange\".\n",
    "\n",
    "2. \n",
    "Use list slicing to extract the first three colors and store them in a new list called \"primary_colors\"\n",
    "\n",
    "3. \n",
    "Print the \"primary_colors\" list."
   ]
  },
  {
   "cell_type": "markdown",
   "id": "fdfdc59a-85ab-4376-92ab-7f6b510dd4ad",
   "metadata": {},
   "source": [
    "### 4. if-elif-else\n",
    "\n",
    "Some if-else Examples:"
   ]
  },
  {
   "cell_type": "code",
   "execution_count": 42,
   "id": "2c579596-a4b7-4910-a697-7184d926a9f3",
   "metadata": {},
   "outputs": [
    {
     "name": "stdout",
     "output_type": "stream",
     "text": [
      "Enter the weather condition (sunny, rainy, windy, snowy):  rainy\n"
     ]
    },
    {
     "name": "stdout",
     "output_type": "stream",
     "text": [
      "It's raining. Don't forget your umbrella!\n"
     ]
    }
   ],
   "source": [
    "# Example application with if-elif-else\n",
    "\n",
    "# Ask the user to enter the weather condition\n",
    "weather = input(\"Enter the weather condition (sunny, rainy, windy, snowy): \")\n",
    "\n",
    "# Check the weather condition and provide corresponding messages\n",
    "if weather == \"sunny\":\n",
    "    print(\"It's a sunny day! Don't forget your sunscreen.\")\n",
    "elif weather == \"rainy\":\n",
    "    print(\"It's raining. Don't forget your umbrella!\")\n",
    "elif weather == \"windy\":\n",
    "    print(\"It's windy today. Hold on to your hat!\")\n",
    "elif weather == \"snowy\":\n",
    "    print(\"It's snowing! Bundle up and stay warm.\")\n",
    "else:\n",
    "    print(\"Unknown weather condition. Please enter sunny, rainy, windy, or snowy.\")"
   ]
  },
  {
   "cell_type": "code",
   "execution_count": 43,
   "id": "8125f52e-1ecc-4551-9e8b-a558628e7c3f",
   "metadata": {},
   "outputs": [
    {
     "name": "stdout",
     "output_type": "stream",
     "text": [
      "It's a bit cold\n",
      "Done\n"
     ]
    }
   ],
   "source": [
    "temperature = 15\n",
    "\n",
    "if temperature > 30:\n",
    "  print(\"It's a hot day\")\n",
    "  print(\"Drink plenty of water\")\n",
    "elif temperature > 20:         # (20, 30]\n",
    "  print(\"It's a nice day\")\n",
    "elif temperature > 10:         # (10, 20]|\n",
    "  print(\"It's a bit cold\")\n",
    "print(\"Done\")"
   ]
  },
  {
   "cell_type": "code",
   "execution_count": 44,
   "id": "d4577b5e-8f15-4343-bb03-805fd8c6bc6c",
   "metadata": {},
   "outputs": [
    {
     "name": "stdout",
     "output_type": "stream",
     "text": [
      "Enter your age:  15\n"
     ]
    },
    {
     "name": "stdout",
     "output_type": "stream",
     "text": [
      "You are not eligible to vote yet.\n"
     ]
    }
   ],
   "source": [
    "# Simple if-else example application with user input\n",
    "\n",
    "# Ask the user to enter their age\n",
    "age = int(input(\"Enter your age: \"))\n",
    "\n",
    "# Check if the person is eligible to vote\n",
    "if age >= 18:\n",
    "    print(\"You are eligible to vote.\")\n",
    "else:\n",
    "    print(\"You are not eligible to vote yet.\")"
   ]
  },
  {
   "cell_type": "code",
   "execution_count": 45,
   "id": "3f17aba6-92d9-4e2b-a038-0c2dbf96921a",
   "metadata": {},
   "outputs": [
    {
     "name": "stdout",
     "output_type": "stream",
     "text": [
      "Weight:  50\n",
      "(K)g or (L)bs:  K\n"
     ]
    },
    {
     "name": "stdout",
     "output_type": "stream",
     "text": [
      "Weight in Lbs: 111.11111111111111\n"
     ]
    }
   ],
   "source": [
    "weight = int(input(\"Weight: \"))\n",
    "unit = input(\"(K)g or (L)bs: \")\n",
    "\n",
    "if unit. upper() == \"K\":\n",
    "  converted = weight / 0.45\n",
    "  print(\"Weight in Lbs: \" + str(converted))\n",
    "else:\n",
    "  converted = weight * 0.45\n",
    "  print(\"Weight in Kgs: \" + str(converted))"
   ]
  },
  {
   "cell_type": "markdown",
   "id": "9ab29c04-ff45-4dc4-b9bc-ea4414bba57e",
   "metadata": {},
   "source": [
    "### 5. Functions\n",
    "\n",
    "Example function for reference: "
   ]
  },
  {
   "cell_type": "code",
   "execution_count": 2,
   "id": "190aa1bd-acc3-4a29-97e1-f968fcac1120",
   "metadata": {},
   "outputs": [],
   "source": [
    "def parallel_resistor_value(r1, r2):\n",
    "    \"\"\"\n",
    "    Calculate the parallel value of two resistors.\n",
    "    Inputs:\n",
    "      r1 (float): Value of resistor 1.\n",
    "      r2 (float): Value of resistor 2.\n",
    "    Output:\n",
    "      parallel_value (float): parallel value of the resistors.\n",
    "    \"\"\"\n",
    "    if r1 <= 0 or r2 <= 0:\n",
    "        print(\"Error: resistor values must be positive and non-zero.\")\n",
    "        parallel_value = -1.0 # indicate error\n",
    "    else:\n",
    "        parallel_value = (r1 * r2) / (r1 + r2)\n",
    "\n",
    "    return parallel_value"
   ]
  },
  {
   "cell_type": "code",
   "execution_count": 3,
   "id": "2992da5c-6252-4f82-9c5a-5ec41bc934fa",
   "metadata": {
    "scrolled": true
   },
   "outputs": [
    {
     "name": "stdout",
     "output_type": "stream",
     "text": [
      "Enter the value of resistor 1 (in Ohms):  100\n",
      "Enter the value of resistor 2 (in Ohms):  200\n"
     ]
    },
    {
     "name": "stdout",
     "output_type": "stream",
     "text": [
      "The parallel value of 100.0 Ohms and 200.0 Ohms is 66.67 Ohms.\n"
     ]
    }
   ],
   "source": [
    "# Run this: test code for testing the function above.\n",
    "\n",
    "# Ask the user for input\n",
    "resistor1 = float(input(\"Enter the value of resistor 1 (in Ohms): \"))\n",
    "resistor2 = float(input(\"Enter the value of resistor 2 (in Ohms): \"))\n",
    "\n",
    "# Process and display result.\n",
    "parallel_value = parallel_resistor_value(resistor1, resistor2)\n",
    "output_str = \"The parallel value of {} Ohms and {} Ohms is {:.2f} Ohms.\"\n",
    "print(output_str.format(resistor1, resistor2, parallel_value))"
   ]
  },
  {
   "cell_type": "markdown",
   "id": "0144fb19-f904-419d-a790-d234d098e823",
   "metadata": {},
   "source": [
    "## Exercises "
   ]
  },
  {
   "attachments": {},
   "cell_type": "markdown",
   "id": "b0eb4974-b8f8-4087-ab5f-fcba2eff3b87",
   "metadata": {},
   "source": [
    "### Exercise 1: Checking the Data Types of Variables\n",
    "\n",
    "For the following items, identify the data type of x. \n",
    "Hint: use the print(type(x))command for each case."
   ]
  },
  {
   "cell_type": "code",
   "execution_count": 2,
   "id": "993cfed5-72e9-4ee7-a283-f6ef142dfb84",
   "metadata": {},
   "outputs": [
    {
     "name": "stdout",
     "output_type": "stream",
     "text": [
      "<class 'int'>\n"
     ]
    }
   ],
   "source": [
    "x = 10\n",
    "print(type(x))"
   ]
  },
  {
   "cell_type": "code",
   "execution_count": 3,
   "id": "a5ff85a2-a547-459d-bbbc-10eff2c06cfb",
   "metadata": {},
   "outputs": [
    {
     "name": "stdout",
     "output_type": "stream",
     "text": [
      "<class 'str'>\n"
     ]
    }
   ],
   "source": [
    "x = 'Hello'\n",
    "print(type(x))"
   ]
  },
  {
   "cell_type": "code",
   "execution_count": 5,
   "id": "29fed814-675d-412b-a1e8-b9c137a6555a",
   "metadata": {},
   "outputs": [
    {
     "name": "stdout",
     "output_type": "stream",
     "text": [
      "<class 'float'>\n"
     ]
    }
   ],
   "source": [
    "x = 7.346\n",
    "print(type(x))"
   ]
  },
  {
   "cell_type": "code",
   "execution_count": 7,
   "id": "9e6194dc-0ff7-4ff7-b4ca-93867fae3df1",
   "metadata": {},
   "outputs": [
    {
     "name": "stdout",
     "output_type": "stream",
     "text": [
      "<class 'list'>\n",
      "<class 'str'>\n"
     ]
    }
   ],
   "source": [
    "x = [\"apple\", \"banana\", \"cherry\"]\n",
    "print(type(x))\n",
    "print(type(x[0]))"
   ]
  },
  {
   "cell_type": "code",
   "execution_count": 9,
   "id": "517f76d1-2629-45b6-a9a4-8122c8aef5d6",
   "metadata": {},
   "outputs": [
    {
     "name": "stdout",
     "output_type": "stream",
     "text": [
      "<class 'range'>\n"
     ]
    },
    {
     "data": {
      "text/plain": [
       "[0, 1, 2, 3, 4, 5]"
      ]
     },
     "execution_count": 9,
     "metadata": {},
     "output_type": "execute_result"
    }
   ],
   "source": [
    "x = range(6)\n",
    "# enter command here...\n",
    "\n",
    "print(type(x))\n",
    "y = list(x)\n",
    "y"
   ]
  },
  {
   "cell_type": "code",
   "execution_count": 10,
   "id": "553ea5f6-9379-4972-b0ff-6e0d824ed426",
   "metadata": {},
   "outputs": [
    {
     "name": "stdout",
     "output_type": "stream",
     "text": [
      "<class 'dict'>\n"
     ]
    }
   ],
   "source": [
    "X = {\"name\" : \"John\", \"age\" : 36}\n",
    "# enter command here...\n",
    "print(type(X))"
   ]
  },
  {
   "cell_type": "code",
   "execution_count": 11,
   "id": "5ce03e20-aeb1-4d71-bcae-69b775186264",
   "metadata": {},
   "outputs": [
    {
     "name": "stdout",
     "output_type": "stream",
     "text": [
      "<class 'bool'>\n"
     ]
    }
   ],
   "source": [
    "X = True\n",
    "# enter command here...\n",
    "\n",
    "print(type(X))"
   ]
  },
  {
   "cell_type": "markdown",
   "id": "f1f7d347-fd9c-4cb6-871b-e90ca076fb54",
   "metadata": {},
   "source": [
    "### Exercise 2: Data Type Conversion\n",
    "\n",
    "It is possible to convert the data type of a variable from one type to another. \n",
    "\n",
    "Try converting the data type for the following variables:"
   ]
  },
  {
   "cell_type": "code",
   "execution_count": 13,
   "id": "6847b01b-2506-44c4-aa3f-2af428f493ed",
   "metadata": {},
   "outputs": [
    {
     "name": "stdout",
     "output_type": "stream",
     "text": [
      "5.0\n",
      "<class 'float'>\n"
     ]
    }
   ],
   "source": [
    "# Convert the following variable from integer to floating point (use the float() command).\n",
    "x = 5      # int\n",
    "\n",
    "x2 = float( x )\n",
    "\n",
    "print( x2 )\n",
    "print( type( x2 ) )"
   ]
  },
  {
   "cell_type": "markdown",
   "id": "0d90257b-050b-4b2c-8a50-317e23989cdd",
   "metadata": {
    "jp-MarkdownHeadingCollapsed": true
   },
   "source": [
    "##### Exercise 2.1\n",
    "Complete the commands below.<br>\n",
    "Convert the following variable from floating point to integer use the `int()` command.\n"
   ]
  },
  {
   "cell_type": "code",
   "execution_count": 14,
   "id": "767aa2a6-344e-4d82-8670-bfc173736346",
   "metadata": {},
   "outputs": [
    {
     "name": "stdout",
     "output_type": "stream",
     "text": [
      "2\n",
      "2\n"
     ]
    }
   ],
   "source": [
    "# Convert the following variable from floating point to integer (use the int() command).\n",
    "y = 2.8    # float\n",
    "\n",
    "y2 = int( y )\n",
    "\n",
    "print( y2 )\n",
    "print( int( y2 ) )"
   ]
  },
  {
   "cell_type": "markdown",
   "id": "46df256d-57f2-4357-bd1f-d79b5a4cbb61",
   "metadata": {},
   "source": [
    "##### Exercise 2.2\n",
    "How did the `int()` command round the value of y? <br>\n",
    "i.e. did it \"round up\" or \"round down\"?\n"
   ]
  },
  {
   "cell_type": "markdown",
   "id": "3446a165-eb5a-4a5f-a9fe-1cc3e24dbd34",
   "metadata": {},
   "source": [
    "**Answer**:\n",
    "\n",
    "(enter answer for Exercise 2.2 here).\n",
    "\n",
    "round down"
   ]
  },
  {
   "cell_type": "markdown",
   "id": "d3047929-9d70-4aa3-a5c3-d5b58aaf658b",
   "metadata": {},
   "source": [
    "##### Exercise 2.3\n",
    "The following is an example on how to convert a **string variable** to floating point."
   ]
  },
  {
   "cell_type": "code",
   "execution_count": 15,
   "id": "97a7160a-7e2c-4115-9f80-a7c266a63684",
   "metadata": {},
   "outputs": [
    {
     "name": "stdout",
     "output_type": "stream",
     "text": [
      "3.14159\n"
     ]
    }
   ],
   "source": [
    "pi = \"3.14159\"   # string variable\n",
    "print( float(pi) )"
   ]
  },
  {
   "cell_type": "markdown",
   "id": "0aa8f204-7731-4f14-896c-6e01b36495b9",
   "metadata": {},
   "source": [
    "What happens when you try to convert the following into integer? <br>\n",
    "(Run the following cells, and observe the results.)"
   ]
  },
  {
   "cell_type": "code",
   "execution_count": 16,
   "id": "a8d82914-59a8-41dd-b7b5-4f6c481f9e65",
   "metadata": {},
   "outputs": [],
   "source": [
    "# what happens when you try to convert the following strings into integer?\n",
    "string1 = '123'\n",
    "string2 = \"343 Guilty Spark\""
   ]
  },
  {
   "cell_type": "code",
   "execution_count": 17,
   "id": "2eb695ad-4478-4e66-b9da-99104bb9bc8e",
   "metadata": {},
   "outputs": [
    {
     "name": "stdout",
     "output_type": "stream",
     "text": [
      "123\n"
     ]
    }
   ],
   "source": [
    "# Run this first (i.e. press ctrl-enter).\n",
    "print( int(string1) )"
   ]
  },
  {
   "cell_type": "code",
   "execution_count": 18,
   "id": "6090d765-b385-4d27-a15f-437b72383713",
   "metadata": {},
   "outputs": [
    {
     "ename": "ValueError",
     "evalue": "invalid literal for int() with base 10: '343 Guilty Spark'",
     "output_type": "error",
     "traceback": [
      "\u001b[0;31m---------------------------------------------------------------------------\u001b[0m",
      "\u001b[0;31mValueError\u001b[0m                                Traceback (most recent call last)",
      "Cell \u001b[0;32mIn[18], line 2\u001b[0m\n\u001b[1;32m      1\u001b[0m \u001b[38;5;66;03m# now, trying running this. (i.e. press ctrl-enter).\u001b[39;00m\n\u001b[0;32m----> 2\u001b[0m \u001b[38;5;28mprint\u001b[39m( \u001b[38;5;28;43mint\u001b[39;49m\u001b[43m(\u001b[49m\u001b[43mstring2\u001b[49m\u001b[43m)\u001b[49m )\n",
      "\u001b[0;31mValueError\u001b[0m: invalid literal for int() with base 10: '343 Guilty Spark'"
     ]
    }
   ],
   "source": [
    "# now, trying running this. (i.e. press ctrl-enter).\n",
    "print( int(string2) )"
   ]
  },
  {
   "cell_type": "markdown",
   "id": "8a7c06ff-8962-45f1-ac5c-2636b4b4d5ae",
   "metadata": {},
   "source": [
    "Which string (`string1` or `string2`) causes the `int()` command to produce an error? <br> Why?"
   ]
  },
  {
   "cell_type": "markdown",
   "id": "026bca36-e2c5-4d05-95e8-9b7b76e0dae2",
   "metadata": {},
   "source": [
    "**Answer**\n",
    "\n",
    "(enter your answer here).\n",
    "\n",
    "string 2 because string 2 is not actually an int but a word, so cant be converted to int logically"
   ]
  },
  {
   "attachments": {},
   "cell_type": "markdown",
   "id": "19f861c3-3b48-4395-9a03-e69e4dfc3ad3",
   "metadata": {},
   "source": [
    "### Exercise 3: Generate Random Numbers\n",
    "\n",
    "Often, we need to create some random number and sequences. The following is some examples on how to generate random values using the `random()` command from the `random` library.\n",
    "\n",
    "\n",
    "Try running the below several times, and check the results. \n",
    "\n",
    "Are the result the same everytime?\n"
   ]
  },
  {
   "cell_type": "code",
   "execution_count": 24,
   "id": "adebd711-ea87-40a5-9969-a68165553aa1",
   "metadata": {},
   "outputs": [
    {
     "name": "stdout",
     "output_type": "stream",
     "text": [
      "0.27570723495089244\n",
      "6\n",
      "8.501425632190463\n",
      "1\n",
      "98\n",
      "lose\n"
     ]
    }
   ],
   "source": [
    "import random  \t#you will need to import this library first \n",
    "\t\t\t    # in order to use the random.xxx() commands.\n",
    "\n",
    "print( random.random() )          # generate one random number\n",
    "print( random.randrange(1, 10) )  # generate one random number within given range\n",
    "print( random.uniform(2.5, 10.0) )        \t# Random float:  2.5 < x < 10.0\n",
    "print( random.randrange(10) )             \t# Integer from 0 to 9 inclusive\n",
    "print( random.randrange(0, 101, 2) )      \t# Even integer from 0 to 100 inclusive\n",
    "print( random.choice(['win', 'lose', 'draw']) )\t# Single random element from a sequence"
   ]
  },
  {
   "cell_type": "code",
   "execution_count": 25,
   "id": "cb78296d-d95b-475b-a503-3f685b3a6f2e",
   "metadata": {},
   "outputs": [
    {
     "data": {
      "text/plain": [
       "0.17970309109093852"
      ]
     },
     "execution_count": 25,
     "metadata": {},
     "output_type": "execute_result"
    }
   ],
   "source": [
    "# Generates one random number\n",
    "random.random()"
   ]
  },
  {
   "cell_type": "markdown",
   "id": "87aad6f6-e5fe-4d8a-93c3-c6a5ac021dcc",
   "metadata": {},
   "source": [
    "##### Exersice 3.1\n",
    "Generates one random number within range -10 and 10"
   ]
  },
  {
   "cell_type": "code",
   "execution_count": 50,
   "id": "753af08c-2038-498b-b176-899360d9b89a",
   "metadata": {},
   "outputs": [
    {
     "name": "stdout",
     "output_type": "stream",
     "text": [
      "-1\n"
     ]
    }
   ],
   "source": [
    "import random\n",
    "\n",
    "# Generates one random number within range -10 and 10\n",
    "print( random.randrange(-10,10) )"
   ]
  },
  {
   "attachments": {},
   "cell_type": "markdown",
   "id": "3413388b-959d-4417-b8a4-966f4607f677",
   "metadata": {},
   "source": [
    "### Exercise 4: String Indexing and Splitting\n",
    "Often, we have to process long strings, for example extract part of the strings, separate strings into smaller sub-strings, break tabulated strings into data, etc.\n",
    " \n",
    "\n",
    "Note: in Python, strings are treated like arrays, addressing starts with 0, not 1."
   ]
  },
  {
   "cell_type": "markdown",
   "id": "69951054-3dab-4d39-b273-82716be3c991",
   "metadata": {},
   "source": [
    "The following example codes extract letters, sub-strings, etc, from a longer text string using indexing. "
   ]
  },
  {
   "cell_type": "code",
   "execution_count": 51,
   "id": "a2a3bd76-cfb0-4559-8168-7b77022efb74",
   "metadata": {},
   "outputs": [
    {
     "data": {
      "text/plain": [
       "'Hello, HippoPotamus! '"
      ]
     },
     "execution_count": 51,
     "metadata": {},
     "output_type": "execute_result"
    }
   ],
   "source": [
    "a = \"Hello, HippoPotamus! \"\n",
    "a"
   ]
  },
  {
   "cell_type": "code",
   "execution_count": 52,
   "id": "5d4c72e9-c6bb-4c0c-9134-1703184d91f7",
   "metadata": {},
   "outputs": [
    {
     "name": "stdout",
     "output_type": "stream",
     "text": [
      "l\n",
      "Hello, HippoPotam\n",
      "ello, HippoPotamus\n",
      "llo\n",
      "mus\n"
     ]
    }
   ],
   "source": [
    "print(a[3])\n",
    "print(a[: -4])\n",
    "print(a[1:-2])\n",
    "print(a[2:5])\n",
    "print(a[-5:-2])"
   ]
  },
  {
   "cell_type": "markdown",
   "id": "c239733a-e6c7-4133-886d-4ecb67d6133d",
   "metadata": {},
   "source": [
    "The following codes are examples of various string functions (self explanatory) on the long text. "
   ]
  },
  {
   "cell_type": "code",
   "execution_count": 53,
   "id": "49a11dc4-25a1-4de1-a788-2db3544e9911",
   "metadata": {},
   "outputs": [
    {
     "name": "stdout",
     "output_type": "stream",
     "text": [
      "Hello, HippoPotamus!\n",
      "hello, hippopotamus! \n",
      "HELLO, HIPPOPOTAMUS! \n",
      "Jello, JippoPotamus! \n",
      "['Hello', ' HippoPotamus! ']\n"
     ]
    }
   ],
   "source": [
    "print(a.strip())\n",
    "print(a.lower())\n",
    "print(a.upper())\n",
    "print(a.replace(\"H\", \"J\"))\n",
    "print(a.split(\",\"))"
   ]
  },
  {
   "cell_type": "code",
   "execution_count": 54,
   "id": "50c659f3-f1c1-4171-99b6-a4a7eafc63fc",
   "metadata": {},
   "outputs": [],
   "source": [
    "#The following checks if the phrase \"ppo\" is present\n",
    "x = \"ppo\" in a   \t"
   ]
  },
  {
   "cell_type": "code",
   "execution_count": 55,
   "id": "496d250a-3db0-4457-bfcf-87153ee642ec",
   "metadata": {},
   "outputs": [],
   "source": [
    "#The following checks if the phrase “mus\" is NOT present\n",
    "x = \"mus\" not in a"
   ]
  },
  {
   "cell_type": "markdown",
   "id": "27f57b46-6733-486d-b7e9-a0a2dd478bad",
   "metadata": {},
   "source": [
    "##### Exercise 4.1\n",
    "\n",
    "In the text `a = \"Hello, HippoPotamus! \"` \n",
    "there is an extra trailing space at the end of string `a`. \n",
    "use an appropriate command to remove the trailing space, and name the new variable as a2."
   ]
  },
  {
   "cell_type": "code",
   "execution_count": 56,
   "id": "ccb9dbaa-1a8a-49c6-a152-2fd5e1186c56",
   "metadata": {},
   "outputs": [
    {
     "data": {
      "text/plain": [
       "'Hello, HippoPotamus!'"
      ]
     },
     "execution_count": 56,
     "metadata": {},
     "output_type": "execute_result"
    }
   ],
   "source": [
    "a2 = a.strip()\n",
    "a2"
   ]
  },
  {
   "cell_type": "markdown",
   "id": "b513a2da-5442-4f55-bbc9-870f12560166",
   "metadata": {},
   "source": [
    "##### Exercise 4.2\n",
    "\n",
    "For the exercises below, we will make use of the string `a2 = \"Hello, HippoPotamus!\"` \n",
    "\n",
    "Using string indexing and slicing, extract the words \"Hello\", \"Hippo\" from a2.\n",
    "\n",
    "Using negative indexing, extract the word \"Potamus\" from a2."
   ]
  },
  {
   "cell_type": "code",
   "execution_count": 57,
   "id": "c510f9f3-d593-4237-b137-5900bf7738c9",
   "metadata": {},
   "outputs": [
    {
     "data": {
      "text/plain": [
       "'Hello, HippoPotamus!'"
      ]
     },
     "execution_count": 57,
     "metadata": {},
     "output_type": "execute_result"
    }
   ],
   "source": [
    "a2 = \"Hello, HippoPotamus!\"\n",
    "a2"
   ]
  },
  {
   "cell_type": "code",
   "execution_count": 58,
   "id": "ef5aaf4f-626e-4911-94d9-d318abb1d0b3",
   "metadata": {},
   "outputs": [
    {
     "name": "stdout",
     "output_type": "stream",
     "text": [
      "Hello\n"
     ]
    }
   ],
   "source": [
    "# Extract the word \"Hello\" from a2:\n",
    "print(a2[:5]) "
   ]
  },
  {
   "cell_type": "code",
   "execution_count": 61,
   "id": "c8fa3028-8608-4860-af2c-fe195002b966",
   "metadata": {},
   "outputs": [
    {
     "name": "stdout",
     "output_type": "stream",
     "text": [
      "Hippo\n"
     ]
    }
   ],
   "source": [
    "# Extract the word \"Hippo\" from a2:\n",
    "print( a2[ 7:12 ]) "
   ]
  },
  {
   "cell_type": "code",
   "execution_count": 63,
   "id": "3f59a9ac-6de6-4247-b9ca-c226dc1c2fff",
   "metadata": {},
   "outputs": [
    {
     "name": "stdout",
     "output_type": "stream",
     "text": [
      "Potamus\n"
     ]
    }
   ],
   "source": [
    "# Extract the word \"Potamus\" from a2, using only negative indexing:\n",
    "print( a2[12:19] ) "
   ]
  },
  {
   "cell_type": "markdown",
   "id": "5319061f-f8bc-4ff3-996b-0a60350b17d4",
   "metadata": {},
   "source": [
    "##### Exercise 4.3:\n",
    "\n",
    "Convert the variable `dog = \"snoopy\"` below to uppercase, and print out the result."
   ]
  },
  {
   "cell_type": "code",
   "execution_count": 65,
   "id": "c1641050-fd15-4fc7-b595-8547019195be",
   "metadata": {},
   "outputs": [
    {
     "name": "stdout",
     "output_type": "stream",
     "text": [
      "SNOOPY\n"
     ]
    }
   ],
   "source": [
    "dog = \"snoopy\"\n",
    "print( dog.upper() )"
   ]
  },
  {
   "cell_type": "markdown",
   "id": "3d7c9e74-2883-4f00-a304-54f35e581423",
   "metadata": {},
   "source": [
    "##### Exercise 4.4:\n",
    "\n",
    "Capitalize the variable `dog` below (i.e. result = `\"Snoopy\"`), and display out the result.\n",
    "You may have to do a Google search for the appropriate command for capitalizing a text string!"
   ]
  },
  {
   "cell_type": "code",
   "execution_count": 66,
   "id": "c741e266-acdd-484e-a577-60ceae5d1cf5",
   "metadata": {},
   "outputs": [
    {
     "name": "stdout",
     "output_type": "stream",
     "text": [
      "Snoopy\n"
     ]
    }
   ],
   "source": [
    "dog = \"snoopy\"\n",
    "print( dog.capitalize() )"
   ]
  },
  {
   "attachments": {},
   "cell_type": "markdown",
   "id": "847d94d9-963f-4942-b481-802513c7ea23",
   "metadata": {},
   "source": [
    "### Exercise 5: Using print() and f-Strings"
   ]
  },
  {
   "cell_type": "markdown",
   "id": "f508a637-9021-4953-a26f-e1fa4aa25327",
   "metadata": {},
   "source": [
    "You are provided with the following code:"
   ]
  },
  {
   "cell_type": "code",
   "execution_count": 67,
   "id": "29b365c9-012d-482c-9eb9-014b99434bc8",
   "metadata": {},
   "outputs": [],
   "source": [
    "Pax = 3\n",
    "item = \"International Buffet\"\n",
    "Paxprice = 49.95\n",
    "GST = 0.07 # = 7%"
   ]
  },
  {
   "attachments": {},
   "cell_type": "markdown",
   "id": "859c0a91-ea19-428b-a324-dc6f57d87965",
   "metadata": {},
   "source": [
    "##### Exercise 5.1\n",
    "\n",
    "Write the code in the cells below to generate the following output using print() command and f-strings: \n",
    "\n",
    "`Weekday Bill: 3 pax of International Buffet before GST is \\\\$149.85, after GST is \\\\$160.34`\n",
    "\n",
    "(Note: `149.85` is a result of 3 x `Paxprice`, and `160.34` is the total after applying the 7% GST.)"
   ]
  },
  {
   "cell_type": "code",
   "execution_count": 70,
   "id": "88f6a321-348d-4b01-b185-ca08acbe21b0",
   "metadata": {},
   "outputs": [
    {
     "name": "stdout",
     "output_type": "stream",
     "text": [
      "Weekday Bill: 3 pax of International Buffet before GST is \\$149.85, after GST is \\$160.34\n"
     ]
    }
   ],
   "source": [
    "print(f\"Weekday Bill: {Pax} pax of {item} before GST is \\\\${round(Pax*Paxprice, 2)}, after GST is \\\\${round(Pax*Paxprice*(1+GST),2)}\")"
   ]
  },
  {
   "cell_type": "markdown",
   "id": "58838510-6552-4e2b-950f-c1f84d71b8f4",
   "metadata": {},
   "source": [
    "### Exercise 6: More String Exercises"
   ]
  },
  {
   "cell_type": "markdown",
   "id": "904b59ac-6307-4920-88d8-456754b133c1",
   "metadata": {},
   "source": [
    "You are provided with the following text: <br>\n",
    "\"Welcome to Ngee Ann Polytechnic\".\n",
    "\n",
    "**Instructions:** <br>\n",
    "In your Jupyter notebook, add new cells and write codes to perform the following:\n",
    "<br>\n",
    "<br>1. Assign the above text to a variable name tex\n",
    "<br>2. Find the index position of \"N\" within text. (Hint: Google on how to use the .find() command for Python strings.\n",
    "<br>3. Split text into its individual words.\n",
    "<br>4. Print \"Welcome\" and \"Polytechnic\" using the extracted results in 3.\n",
    "<br>5. Use the extracted words from  above,. and print the message “Ngee Ann Welcome you”\n",
    "<br>6. Repeat the exercise in 5, but with “Ngee Ann” printed in capital letters. (i.e. need t use the .upper() command.)\n",
    "\n",
    "\n",
    "(Note: 5. and 6. will requires some List commands which will be discussed after this section. For now, you may experiment and use Google search and find the appropriate answers. We will return to this exercise afterwards.)"
   ]
  },
  {
   "cell_type": "code",
   "execution_count": 71,
   "id": "e93bce21-4e0d-46a2-8552-d448b75c30b0",
   "metadata": {},
   "outputs": [],
   "source": [
    "tex = \"Welcome to Ngee Ann Polytechnic\""
   ]
  },
  {
   "cell_type": "code",
   "execution_count": 72,
   "id": "31fc64eb",
   "metadata": {},
   "outputs": [
    {
     "data": {
      "text/plain": [
       "11"
      ]
     },
     "execution_count": 72,
     "metadata": {},
     "output_type": "execute_result"
    }
   ],
   "source": [
    "tex.find(\"N\")"
   ]
  },
  {
   "cell_type": "code",
   "execution_count": 74,
   "id": "e21ef243",
   "metadata": {},
   "outputs": [
    {
     "data": {
      "text/plain": [
       "['Welcome', 'to', 'Ngee', 'Ann', 'Polytechnic']"
      ]
     },
     "execution_count": 74,
     "metadata": {},
     "output_type": "execute_result"
    }
   ],
   "source": [
    "s = tex.split(\" \")\n",
    "s"
   ]
  },
  {
   "cell_type": "code",
   "execution_count": 75,
   "id": "9fce2bf9",
   "metadata": {},
   "outputs": [
    {
     "name": "stdout",
     "output_type": "stream",
     "text": [
      "Welcome\n",
      "Polytechnic\n"
     ]
    }
   ],
   "source": [
    "print(s[0])\n",
    "print(s[-1])"
   ]
  },
  {
   "cell_type": "code",
   "execution_count": 78,
   "id": "3d5b77b0",
   "metadata": {},
   "outputs": [
    {
     "name": "stdout",
     "output_type": "stream",
     "text": [
      "Ngee Ann Welcome you\n"
     ]
    }
   ],
   "source": [
    "print(f\"{s[2]} {s[3]} {s[0]} you\")"
   ]
  },
  {
   "cell_type": "code",
   "execution_count": 79,
   "id": "fccc1577",
   "metadata": {},
   "outputs": [
    {
     "name": "stdout",
     "output_type": "stream",
     "text": [
      "NGEE ANN Welcome you\n"
     ]
    }
   ],
   "source": [
    "print(f\"{s[2].upper()} {s[3].upper()} {s[0]} you\")"
   ]
  },
  {
   "cell_type": "markdown",
   "id": "fb093456-dd90-4ff8-adc5-3ada7494ae6d",
   "metadata": {},
   "source": [
    "### Exercise 7: Generate List of Random Numbers"
   ]
  },
  {
   "cell_type": "markdown",
   "id": "4f67f7c2-ea3a-4c58-b395-f2e69e035dd4",
   "metadata": {},
   "source": [
    "1. Use a for-loop and append() to create a list of 20 random numbers between 1 to 10\n",
    "   \n",
    "   To generate one random number btw 1 to 10, use the following code:\n",
    "   \n",
    "   number = random.randint(1, 10) \n",
    "\n",
    "2. Generate a list of 10 random numbers (hint: use for-loop with append().)\n",
    "\n",
    "3. Use list slicing to extract the elements from index 2 to 5 (including index 5 element)\n"
   ]
  },
  {
   "cell_type": "code",
   "execution_count": 80,
   "id": "fd8cfcbd-d61d-4a00-9a8e-41fae5d6c984",
   "metadata": {},
   "outputs": [
    {
     "name": "stdout",
     "output_type": "stream",
     "text": [
      "9\n"
     ]
    }
   ],
   "source": [
    "# Instructions: how to use the random number generator\n",
    "\n",
    "import random\n",
    "number = random.randint(1, 10)   # generate one random number btw 1 to 10\n",
    "print(number)"
   ]
  },
  {
   "cell_type": "code",
   "execution_count": 83,
   "id": "3d5c18aa-a551-4a32-a0f6-60bf81d7fb66",
   "metadata": {},
   "outputs": [
    {
     "name": "stdout",
     "output_type": "stream",
     "text": [
      "[3, 4, 5, 2, 5, 5, 4, 2, 5, 5, 1, 2, 1, 1, 6, 9, 1, 2, 1, 5]\n"
     ]
    }
   ],
   "source": [
    "import random\n",
    "\n",
    "random_numbers = []  \n",
    "\n",
    "for _ in range(20):  \n",
    "    number = random.randint(1, 10)  \n",
    "    random_numbers.append(number)  \n",
    "\n",
    "print(random_numbers)"
   ]
  },
  {
   "cell_type": "code",
   "execution_count": 84,
   "id": "ac96b3b0-fce9-40cb-82c0-9ab851adf7e3",
   "metadata": {},
   "outputs": [
    {
     "name": "stdout",
     "output_type": "stream",
     "text": [
      "[3, 3, 8, 5, 3, 6, 2, 1, 6, 8]\n"
     ]
    }
   ],
   "source": [
    "# Q2 Answer:\n",
    "\n",
    "import random\n",
    "\n",
    "random_numbers = []  \n",
    "\n",
    "for _ in range(10):  \n",
    "    number = random.randint(1, 10)  \n",
    "    random_numbers.append(number)  \n",
    "\n",
    "print(random_numbers)"
   ]
  },
  {
   "cell_type": "code",
   "execution_count": 85,
   "id": "23de3080-3f20-4af5-855f-69989dcbd271",
   "metadata": {},
   "outputs": [
    {
     "data": {
      "text/plain": [
       "[8, 5, 3, 6]"
      ]
     },
     "execution_count": 85,
     "metadata": {},
     "output_type": "execute_result"
    }
   ],
   "source": [
    "# Q3 Answer:\n",
    "\n",
    "random_numbers[2:6]"
   ]
  },
  {
   "attachments": {
    "a8a8b43d-badf-4358-a643-0b40f04bb68f.png": {
     "image/png": "[encoded data removed]"
    },
    "fb6c649d-7b9f-464a-85d6-bbdb8b4d261b.png": {
     "image/png": "[encoded data removed]"
    }
   },
   "cell_type": "markdown",
   "id": "f991713b-6f3c-4e2e-911e-c0ae00884792",
   "metadata": {},
   "source": [
    "### Exercise 8: Sorting List of Names \n",
    "\n",
    "You are provided with the string **dataIn**, consisting of popular names for boys and girls.\n",
    "\n",
    "![image.png](attachment:fb6c649d-7b9f-464a-85d6-bbdb8b4d261b.png)\n",
    "\n",
    "Use what you have learn this week to:\n",
    "\n",
    "1. convert this string into a list,\n",
    "2. capitalize all the names, and then \n",
    "3. sort them according to alphabetical order. \n",
    "\n",
    "\n",
    "\n",
    "The result should look like this list:\n",
    "\n",
    "![image.png](attachment:a8a8b43d-badf-4358-a643-0b40f04bb68f.png)\n",
    "\n",
    "**Hint:** You may use a for-loop to iterate through the names and process each name one by one.\n"
   ]
  },
  {
   "cell_type": "code",
   "execution_count": 104,
   "id": "664e90b2-aaca-40ea-acd6-4e3686292e1e",
   "metadata": {},
   "outputs": [],
   "source": [
    "#\n",
    "# input data, consisting of names extracted from \n",
    "#     https://www.babycenter.com/baby-names/most-popular/top-baby-names-2024\n",
    "#\n",
    "\n",
    "dataIn = 'emma, noah, olivia, ethan, isabella, jacob, ava, liam, sophia, ' \\\n",
    "        'logan, emily, michael, madison, matthew, mia, jack, hannah, ryan, ' \\\n",
    "        'abigail, mason, chloe, joshua, ella, aiden, lily, james, amelia, ' \\\n",
    "        'jackson, grace, elijah, charlotte, tyler, elizabeth, andrew, avery, ' \\\n",
    "        'alexander, sarah, lucas, samantha, benjamin, alexis, daniel, taylor, ' \\\n",
    "        'dylan'\n"
   ]
  },
  {
   "cell_type": "code",
   "execution_count": 105,
   "id": "f5c82be0-6edf-4ed1-8a84-5794b8172775",
   "metadata": {},
   "outputs": [
    {
     "data": {
      "text/plain": [
       "'emma, noah, olivia, ethan, isabella, jacob, ava, liam, sophia, logan, emily, michael, madison, matthew, mia, jack, hannah, ryan, abigail, mason, chloe, joshua, ella, aiden, lily, james, amelia, jackson, grace, elijah, charlotte, tyler, elizabeth, andrew, avery, alexander, sarah, lucas, samantha, benjamin, alexis, daniel, taylor, dylan'"
      ]
     },
     "execution_count": 105,
     "metadata": {},
     "output_type": "execute_result"
    }
   ],
   "source": [
    "dataIn"
   ]
  },
  {
   "cell_type": "code",
   "execution_count": 106,
   "id": "516eff21-abbf-4309-b869-3be39a0fbd8f",
   "metadata": {},
   "outputs": [],
   "source": [
    "# Enter your answers here."
   ]
  },
  {
   "cell_type": "code",
   "execution_count": 107,
   "id": "f083439c-89e1-4dc0-a36c-c385c33d9d2c",
   "metadata": {
    "scrolled": true
   },
   "outputs": [],
   "source": [
    "# 1. convert this string into a list,\n",
    "\n",
    "dataOut = dataIn.split(\", \")"
   ]
  },
  {
   "cell_type": "code",
   "execution_count": 108,
   "id": "996aa81b-424e-4350-bbce-21674c968c06",
   "metadata": {},
   "outputs": [],
   "source": [
    "# 2. capitalize all the names in the resulting list\n",
    "\n",
    "dataOut = [d.capitalize() for d in dataOut]"
   ]
  },
  {
   "cell_type": "code",
   "execution_count": 109,
   "id": "6ec96e59-fe2c-4071-8621-56c3c8859470",
   "metadata": {},
   "outputs": [],
   "source": [
    "# 3. sort the resulting list alphabetically\n",
    "\n",
    "dataOut.sort()"
   ]
  },
  {
   "cell_type": "code",
   "execution_count": 111,
   "id": "9c6218fd-f093-499e-9247-de5a3b08c72f",
   "metadata": {},
   "outputs": [
    {
     "name": "stdout",
     "output_type": "stream",
     "text": [
      "['Abigail', 'Aiden', 'Alexander', 'Alexis', 'Amelia', 'Andrew', 'Ava', 'Avery', 'Benjamin', 'Charlotte', 'Chloe', 'Daniel', 'Dylan', 'Elijah', 'Elizabeth', 'Ella', 'Emily', 'Emma', 'Ethan', 'Grace', 'Hannah', 'Isabella', 'Jack', 'Jackson', 'Jacob', 'James', 'Joshua', 'Liam', 'Lily', 'Logan', 'Lucas', 'Madison', 'Mason', 'Matthew', 'Mia', 'Michael', 'Noah', 'Olivia', 'Ryan', 'Samantha', 'Sarah', 'Sophia', 'Taylor', 'Tyler']\n"
     ]
    }
   ],
   "source": [
    "# Display your result\n",
    "print(dataOut)"
   ]
  },
  {
   "cell_type": "markdown",
   "id": "db71ca43-5aea-4fc7-94d2-0e1a386a0b65",
   "metadata": {},
   "source": [
    "### Exercise 9: Slicing List of Names \n",
    "\n",
    "Below `dataOut` is a copy of the result from the previous exercise.\n"
   ]
  },
  {
   "cell_type": "code",
   "execution_count": 112,
   "id": "4567fa6d-0aa2-4eb8-94e3-95f597e0ae77",
   "metadata": {},
   "outputs": [],
   "source": [
    "dataOut = [ 'Abigail', 'Aiden', 'Alexander', 'Alexis', 'Amelia', 'Andrew',\n",
    "  'Ava', 'Avery', 'Benjamin', 'Charlotte', 'Chloe', 'Daniel',\n",
    "  'Dylan', 'Elijah', 'Elizabeth', 'Ella', 'Emily', 'Emma',\n",
    "  'Ethan', 'Grace', 'Hannah', 'Isabella', 'Jack', 'Jackson',\n",
    "  'Jacob', 'James', 'Joshua', 'Liam', 'Lily', 'Logan',\n",
    "  'Lucas', 'Madison', 'Mason', 'Matthew', 'Mia', 'Michael',\n",
    "  'Noah', 'Olivia', 'Ryan', 'Samantha', 'Sarah', 'Sophia',\n",
    "  'Taylor', 'Tyler' ]"
   ]
  },
  {
   "cell_type": "markdown",
   "id": "30698a23-7d22-451c-a80d-71533be6ab54",
   "metadata": {},
   "source": [
    "##### Questions:\n",
    "\n",
    "1. How many names are there in the list? \n",
    "   hint: use the len() function to find the answer.\n",
    "2. Use Negative Indexing to extract the last 10 names in the sorted list.\n",
    "3. Write a code that extracts out names that start with the letters A, E, I, O and U.\n",
    "   hint: use for-loop to iterate the list and check each name one by one.\n",
    "4. Write a code to reverse the name list.\n",
    "5. Assign the following names in a new list (assign it an appropriate name):\n",
    "         \"Hailey\", \"Luke\", \"Zoe\", \"Caleb\", \"Jayden\"\n",
    "6. Use string concatanation to join the new list with dataOut, and re-sort the result again.\n",
    "7. Slice Assignment: use list slicing to replace \"Andrew\" with the new name \"Anna\"."
   ]
  },
  {
   "cell_type": "markdown",
   "id": "16715d9e-9b62-4e67-9326-cf45f3d41252",
   "metadata": {},
   "source": [
    "1. Questions: how many names are there in the list?\n",
    " \n",
    "   hint: use the len() function to find the answer."
   ]
  },
  {
   "cell_type": "code",
   "execution_count": 113,
   "id": "68b7d5d0-9ee1-49cb-884d-7a0f307c13fe",
   "metadata": {},
   "outputs": [
    {
     "data": {
      "text/plain": [
       "44"
      ]
     },
     "execution_count": 113,
     "metadata": {},
     "output_type": "execute_result"
    }
   ],
   "source": [
    "len(dataOut)"
   ]
  },
  {
   "cell_type": "markdown",
   "id": "85625a35-6bee-4e66-bf6d-454074150891",
   "metadata": {},
   "source": [
    "2. Use Negative Indexing to extract the last 10 names in the sorted list.\n",
    "\n"
   ]
  },
  {
   "cell_type": "code",
   "execution_count": 117,
   "id": "995ee65e-aeb8-405a-abc3-91dcbcf1ba83",
   "metadata": {},
   "outputs": [
    {
     "data": {
      "text/plain": [
       "['Mia',\n",
       " 'Michael',\n",
       " 'Noah',\n",
       " 'Olivia',\n",
       " 'Ryan',\n",
       " 'Samantha',\n",
       " 'Sarah',\n",
       " 'Sophia',\n",
       " 'Taylor',\n",
       " 'Tyler']"
      ]
     },
     "execution_count": 117,
     "metadata": {},
     "output_type": "execute_result"
    }
   ],
   "source": [
    "dataOut[-10:]"
   ]
  },
  {
   "cell_type": "markdown",
   "id": "3d3c6dd6-4daa-44d5-b627-6f2b562f4973",
   "metadata": {},
   "source": [
    "3. Write a code that extracts out names that start with the letters A, E, I, O and U.\n",
    "   hint: use for-loop to iterate the list and check each name one by one.\n",
    "\n"
   ]
  },
  {
   "cell_type": "code",
   "execution_count": 121,
   "id": "d93e0087-9647-4787-ae0e-d8c033eb40c7",
   "metadata": {},
   "outputs": [],
   "source": [
    "res = []\n",
    "for name in dataOut:\n",
    "    if name.startswith(\"A\") or name.startswith(\"E\") or name.startswith(\"I\") or name.startswith(\"O\") or name.startswith(\"U\"):\n",
    "        res.append(name)"
   ]
  },
  {
   "cell_type": "code",
   "execution_count": 122,
   "id": "da9160f7-6412-4069-a4ef-9b96ef3033e5",
   "metadata": {},
   "outputs": [
    {
     "data": {
      "text/plain": [
       "['Abigail',\n",
       " 'Aiden',\n",
       " 'Alexander',\n",
       " 'Alexis',\n",
       " 'Amelia',\n",
       " 'Andrew',\n",
       " 'Ava',\n",
       " 'Avery',\n",
       " 'Elijah',\n",
       " 'Elizabeth',\n",
       " 'Ella',\n",
       " 'Emily',\n",
       " 'Emma',\n",
       " 'Ethan',\n",
       " 'Isabella',\n",
       " 'Olivia']"
      ]
     },
     "execution_count": 122,
     "metadata": {},
     "output_type": "execute_result"
    }
   ],
   "source": [
    "res"
   ]
  },
  {
   "cell_type": "markdown",
   "id": "3d449996-4eec-490e-88df-1fc6ca657f77",
   "metadata": {},
   "source": [
    "\n",
    "4. Write a code to reverse the name list.\n",
    "\n"
   ]
  },
  {
   "cell_type": "code",
   "execution_count": 123,
   "id": "a0a38b14-6f66-4ad4-9835-d910a9cd4522",
   "metadata": {},
   "outputs": [
    {
     "data": {
      "text/plain": [
       "['Olivia',\n",
       " 'Isabella',\n",
       " 'Ethan',\n",
       " 'Emma',\n",
       " 'Emily',\n",
       " 'Ella',\n",
       " 'Elizabeth',\n",
       " 'Elijah',\n",
       " 'Avery',\n",
       " 'Ava',\n",
       " 'Andrew',\n",
       " 'Amelia',\n",
       " 'Alexis',\n",
       " 'Alexander',\n",
       " 'Aiden',\n",
       " 'Abigail']"
      ]
     },
     "execution_count": 123,
     "metadata": {},
     "output_type": "execute_result"
    }
   ],
   "source": [
    "def reversal(lst):\n",
    "    lst.reverse()\n",
    "    return lst\n",
    "\n",
    "reversal(res)"
   ]
  },
  {
   "cell_type": "markdown",
   "id": "9890ec2e-deb0-435f-8824-5dc5a754d363",
   "metadata": {},
   "source": [
    "5. Assign the following names in a new list (assign it an appropriate name):\n",
    "   \n",
    "         \"Hailey\", \"Luke\", \"Zoe\", \"Caleb\", \"Jayden\"\n",
    "   \n",
    "6. Use string concatanation to join the new list with dataOut, and re-sort the result again.\n"
   ]
  },
  {
   "cell_type": "code",
   "execution_count": 124,
   "id": "72d557fc-4e08-4505-a7e4-ec54af59ec29",
   "metadata": {},
   "outputs": [],
   "source": [
    "new_names = [\"Hailey\", \"Luke\", \"Zoe\", \"Caleb\", \"Jayden\"]"
   ]
  },
  {
   "cell_type": "code",
   "execution_count": 126,
   "id": "13515d69",
   "metadata": {},
   "outputs": [
    {
     "data": {
      "text/plain": [
       "['Abigail',\n",
       " 'Aiden',\n",
       " 'Alexander',\n",
       " 'Alexis',\n",
       " 'Amelia',\n",
       " 'Andrew',\n",
       " 'Ava',\n",
       " 'Avery',\n",
       " 'Benjamin',\n",
       " 'Caleb',\n",
       " 'Charlotte',\n",
       " 'Chloe',\n",
       " 'Daniel',\n",
       " 'Dylan',\n",
       " 'Elijah',\n",
       " 'Elizabeth',\n",
       " 'Ella',\n",
       " 'Emily',\n",
       " 'Emma',\n",
       " 'Ethan',\n",
       " 'Grace',\n",
       " 'Hailey',\n",
       " 'Hannah',\n",
       " 'Isabella',\n",
       " 'Jack',\n",
       " 'Jackson',\n",
       " 'Jacob',\n",
       " 'James',\n",
       " 'Jayden',\n",
       " 'Joshua',\n",
       " 'Liam',\n",
       " 'Lily',\n",
       " 'Logan',\n",
       " 'Lucas',\n",
       " 'Luke',\n",
       " 'Madison',\n",
       " 'Mason',\n",
       " 'Matthew',\n",
       " 'Mia',\n",
       " 'Michael',\n",
       " 'Noah',\n",
       " 'Olivia',\n",
       " 'Ryan',\n",
       " 'Samantha',\n",
       " 'Sarah',\n",
       " 'Sophia',\n",
       " 'Taylor',\n",
       " 'Tyler',\n",
       " 'Zoe']"
      ]
     },
     "execution_count": 126,
     "metadata": {},
     "output_type": "execute_result"
    }
   ],
   "source": [
    "newDataOut = dataOut + new_names\n",
    "newDataOut.sort()\n",
    "newDataOut"
   ]
  },
  {
   "cell_type": "markdown",
   "id": "8b5f5d9c-4a91-420b-9ea5-85467c5a241a",
   "metadata": {},
   "source": [
    "7. Slice Assignment: Use list slicing to replace \"Andrew\" with the name \"Anna\"."
   ]
  },
  {
   "cell_type": "code",
   "execution_count": 127,
   "id": "bd17b6b3-f1ad-4341-a130-dc9334200681",
   "metadata": {},
   "outputs": [
    {
     "name": "stdout",
     "output_type": "stream",
     "text": [
      "Andrew\n",
      "Anna\n"
     ]
    }
   ],
   "source": [
    "andrew_index = newDataOut.index(\"Andrew\")\n",
    "print(newDataOut[andrew_index])\n",
    "\n",
    "newDataOut[andrew_index] = \"Anna\"\n",
    "print(newDataOut[andrew_index])"
   ]
  },
  {
   "cell_type": "markdown",
   "id": "707d56aa-16f9-4544-9766-352dfa4bd8c0",
   "metadata": {},
   "source": [
    "### Exercise 10: Functions"
   ]
  },
  {
   "cell_type": "markdown",
   "id": "564629ea-73a4-4a6a-8c67-869158546f12",
   "metadata": {},
   "source": [
    "The sample function below calculates the parallel resistance of two resistors. "
   ]
  },
  {
   "cell_type": "code",
   "execution_count": 128,
   "id": "c8a3e8e9-a288-484e-8294-ed20427028cc",
   "metadata": {},
   "outputs": [],
   "source": [
    "# For Reference: function to calculate parallel resistance\n",
    "\n",
    "def parallel_resistor_value(r1, r2):\n",
    "    \"\"\"\n",
    "    Calculate the parallel value of two resistors.\n",
    "    Inputs:\n",
    "      r1 (float): Value of resistor 1.\n",
    "      r2 (float): Value of resistor 2.\n",
    "    Output:\n",
    "      parallel_value (float): parallel value of the resistors.\n",
    "    \"\"\"\n",
    "    if r1 <= 0 or r2 <= 0:\n",
    "        print(\"Error: resistor values must be positive and non-zero.\")\n",
    "        parallel_value = -1.0 # indicate error\n",
    "    else:\n",
    "        parallel_value = (r1 * r2) / (r1 + r2)\n",
    "\n",
    "    return parallel_value"
   ]
  },
  {
   "cell_type": "markdown",
   "id": "7bf130b6-6d70-4ebe-88fe-ab38a81b6179",
   "metadata": {},
   "source": [
    "A test code is also included to request two inputs from the user and call the function with the user's input:"
   ]
  },
  {
   "cell_type": "code",
   "execution_count": 129,
   "id": "aa8ef5f8-c1e7-47f5-a116-a605d3116273",
   "metadata": {
    "scrolled": true
   },
   "outputs": [
    {
     "name": "stdout",
     "output_type": "stream",
     "text": [
      "The parallel value of 10.0 Ohms and 20.0 Ohms is 6.67 Ohms.\n"
     ]
    }
   ],
   "source": [
    "# For Reference: Test code for the above function.\n",
    "\n",
    "# Ask the user for input\n",
    "resistor1 = float(input(\"Enter the value of resistor 1 (in Ohms): \"))\n",
    "resistor2 = float(input(\"Enter the value of resistor 2 (in Ohms): \"))\n",
    "\n",
    "# Call the function\n",
    "parallel_value = parallel_resistor_value(resistor1, resistor2)\n",
    "\n",
    "# Print Result\n",
    "output_str = \"The parallel value of {} Ohms and {} Ohms is {:.2f} Ohms.\"\n",
    "print(output_str.format(resistor1, resistor2, parallel_value))\n"
   ]
  },
  {
   "cell_type": "markdown",
   "id": "1ba0215d-cbf6-413e-bbfe-a359820c1bb7",
   "metadata": {},
   "source": [
    "##### Exercise 9.1: \n",
    "\n",
    "Using the above code as a reference, **complete the codes in the cell below to create a function that converts temperature between Fahrenheit and Celsius.**\n",
    "\n",
    "Complete also the test code to request two inputs from the users (the temperature and the unit 'F' or 'C'), and then call the function with these inputs. \n",
    "\n",
    "Finally, print the result as a nicely formatted string.\n",
    "\n",
    "You can use the following references to help you with the coding:\n",
    "\n",
    "https://www.w3resource.com/python-exercises/python-conditional-exercise-2.php\n",
    "\n",
    "https://www.geeksforgeeks.org/python-program-to-convert-celsius-to-fahrenheit\n"
   ]
  },
  {
   "cell_type": "code",
   "execution_count": 2,
   "id": "9240603e-4ccf-4894-9eda-7266443420a1",
   "metadata": {
    "scrolled": true
   },
   "outputs": [],
   "source": [
    "# Function to convert temperature between Fahrenheit and Celsius\n",
    "\n",
    "def convert_temperature(temp, unit):\n",
    "    \"\"\"\n",
    "    Convert temperature between Fahrenheit and Celsius.\n",
    "    Inputs:\n",
    "      temp (float): Temperature value to convert.\n",
    "      unit (str): Unit of temperature ('F' for Fahrenheit, 'C' for Celsius).\n",
    "    Output:\n",
    "      converted_temp (float): Converted temperature value.\n",
    "    \"\"\"\n",
    "    if unit == 'F':\n",
    "        converted_temp = (temp - 32) * 5/9\n",
    "    elif unit == 'C':\n",
    "        converted_temp = (temp * 9/5) + 32  # Convert Celsius to Fahrenheit\n",
    "    return converted_temp\n"
   ]
  },
  {
   "cell_type": "code",
   "execution_count": 3,
   "id": "00515876-412f-47d7-a41d-806bec8421d8",
   "metadata": {},
   "outputs": [
    {
     "name": "stdout",
     "output_type": "stream",
     "text": [
      "The temperature 10.00 C is 50.00 Fahrenheit.\n"
     ]
    }
   ],
   "source": [
    "# Test code for temperature conversion\n",
    "\n",
    "temp = float(input(\"Enter the temperature value: \"))  \n",
    "unit = input(\"Enter the unit ('F' for Fahrenheit, 'C' for Celsius): \")\n",
    "\n",
    "converted_temp = convert_temperature(temp, unit)  # call the function\n",
    "\n",
    "output_str = \"The temperature {:.2f} {} is {:.2f} {}.\"\n",
    "if unit == 'C':\n",
    "    print(output_str.format(temp, unit, converted_temp, 'Fahrenheit'))\n",
    "elif unit == 'F':\n",
    "    print(output_str.format(temp, unit, converted_temp, 'Celsius'))  "
   ]
  },
  {
   "cell_type": "code",
   "execution_count": null,
   "id": "e049adb5",
   "metadata": {},
   "outputs": [],
   "source": []
  }
 ],
 "metadata": {
  "kernelspec": {
   "display_name": "tf-env",
   "language": "python",
   "name": "python3"
  },
  "language_info": {
   "codemirror_mode": {
    "name": "ipython",
    "version": 3
   },
   "file_extension": ".py",
   "mimetype": "text/x-python",
   "name": "python",
   "nbconvert_exporter": "python",
   "pygments_lexer": "ipython3",
   "version": "3.12.4"
  }
 },
 "nbformat": 4,
 "nbformat_minor": 5
}
