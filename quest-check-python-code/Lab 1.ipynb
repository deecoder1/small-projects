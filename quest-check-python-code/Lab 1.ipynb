{
 "cells": [
  {
   "cell_type": "code",
   "execution_count": 1,
   "id": "904ff7de-46eb-4e87-8e44-35fdc41d9a34",
   "metadata": {},
   "outputs": [
    {
     "name": "stdout",
     "output_type": "stream",
     "text": [
      "100\n",
      "Hello, Dear!\n"
     ]
    }
   ],
   "source": [
    "# 1. basic printing operations\n",
    "\n",
    "x = 100\n",
    "y = \"Hello, Dear!\"\n",
    "print(x)\n",
    "print(y)"
   ]
  },
  {
   "cell_type": "code",
   "execution_count": 2,
   "id": "8a4a143f-71fc-4b8b-93c6-6cbd6d452357",
   "metadata": {},
   "outputs": [
    {
     "name": "stdout",
     "output_type": "stream",
     "text": [
      "15\n"
     ]
    }
   ],
   "source": [
    "# 2. basic arithmetic\n",
    "\n",
    "x = 5\n",
    "y = 10\n",
    "print(x + y)"
   ]
  },
  {
   "cell_type": "code",
   "execution_count": 3,
   "id": "f463501b-8806-4e86-a8c9-7b046789c891",
   "metadata": {},
   "outputs": [
    {
     "name": "stdout",
     "output_type": "stream",
     "text": [
      "Python is awesome\n"
     ]
    }
   ],
   "source": [
    "# 3. basic commenting and combining items directly in print statement\n",
    "\n",
    "#This is a comment\n",
    "\n",
    "x, y, z = \"Orange\", \"Banana\", \"Cherry\"\n",
    "x = \"awesome\"\n",
    "print(\"Python is \" + x)"
   ]
  },
  {
   "cell_type": "markdown",
   "id": "b6b4026c",
   "metadata": {},
   "source": [
    "# 4. adding image in jupyterlab using markdown\n",
    "\n",
    "![alt text](imgs/jupyterlab-diag.jpeg)"
   ]
  },
  {
   "cell_type": "code",
   "execution_count": 4,
   "id": "8fe718c0",
   "metadata": {},
   "outputs": [
    {
     "name": "stdout",
     "output_type": "stream",
     "text": [
      "Lab 1 Low Kai Ruan (1).ipynb\n",
      "Lab 2.1 - Basic Python Programming v4.1.ipynb\n",
      "Lab 2.2 Intermediate Python Programming R2v0.4.ipynb\n",
      "Lab 2.3 Low Kai Ruan.ipynb\n",
      "Lab 3.1 SQL Intro v0.2.ipynb\n",
      "Lab 4.1(a) IoT Example 1 Basic MQTT .ipynb\n",
      "Lab 4.1(b) IoT Example 2 MQTT with SQL.ipynb\n",
      "Lab 5.2 Review Exercises R2v0.0 (Student's Copy).ipynb\n",
      "Lab_5_BuildingEnergyPerformanceData_R2v0_1_Student's_copy.ipynb\n",
      "\u001b[34mimgs\u001b[m\u001b[m\n"
     ]
    }
   ],
   "source": [
    "# 5. running commands directly in terminal using !....\n",
    "\n",
    "!ls"
   ]
  },
  {
   "cell_type": "code",
   "execution_count": null,
   "id": "78c34a6c",
   "metadata": {},
   "outputs": [
    {
     "name": "stdout",
     "output_type": "stream",
     "text": [
      "left\n",
      "left\n",
      "left\n",
      "left\n",
      "left\n",
      "left\n"
     ]
    }
   ],
   "source": [
    "# 6. replace multiple words at 1 go using Replace > command+F then click replace all\n",
    "# BEFORE\n",
    "\n",
    "def fn():\n",
    "    print(\"left\")\n",
    "    print(\"left\")\n",
    "    print(\"left\")\n",
    "    print(\"left\")\n",
    "    print(\"left\")\n",
    "    print(\"left\")\n",
    "\n",
    "fn()"
   ]
  },
  {
   "cell_type": "markdown",
   "id": "90558aa9-fee5-45f4-b498-083a26d8ac5a",
   "metadata": {},
   "source": [
    "![alt text](imgs/how-to-replace.jpg)"
   ]
  },
  {
   "cell_type": "code",
   "execution_count": null,
   "id": "d8b2dc62-9b6f-4b7b-9f58-bf02d181752a",
   "metadata": {},
   "outputs": [
    {
     "name": "stdout",
     "output_type": "stream",
     "text": [
      "right\n",
      "right\n",
      "right\n",
      "right\n",
      "right\n",
      "right\n"
     ]
    }
   ],
   "source": [
    "# 6. replace multiple words at 1 go using Replace > command+F then click replace all\n",
    "# AFTER\n",
    "\n",
    "def fn():\n",
    "    print(\"right\")\n",
    "    print(\"right\")\n",
    "    print(\"right\")\n",
    "    print(\"right\")\n",
    "    print(\"right\")\n",
    "    print(\"right\")\n",
    "\n",
    "fn()\n"
   ]
  },
  {
   "cell_type": "code",
   "execution_count": 7,
   "id": "721ff215-b2a4-454d-8057-4b2a57af940d",
   "metadata": {},
   "outputs": [
    {
     "data": {
      "image/png": "[encoded data removed]",
      "text/plain": [
       "<Figure size 640x480 with 1 Axes>"
      ]
     },
     "metadata": {},
     "output_type": "display_data"
    }
   ],
   "source": [
    "# 7. plot diags using matplotlib\n",
    "\n",
    "import matplotlib.pyplot as plt\n",
    "\n",
    "def quadratic(start, end):\n",
    "    return [i**2 for i in range(start, end)]\n",
    "\n",
    "x = list(range(-5,6))\n",
    "y = quadratic(-5,6)\n",
    "\n",
    "plt.plot(x,y)\n",
    "plt.title(\"quadratic graph\")\n",
    "plt.xlabel(\"X\")\n",
    "plt.ylabel(\"Y\")\n",
    "plt.show()"
   ]
  },
  {
   "cell_type": "markdown",
   "id": "d4cadccb",
   "metadata": {},
   "source": [
    "# 8. change setting in jupyterlab like theme, font size, or indent\n",
    "\n",
    "![alt text](imgs/change-settings.jpg)"
   ]
  },
  {
   "cell_type": "markdown",
   "id": "b52920dd",
   "metadata": {},
   "source": []
  }
 ],
 "metadata": {
  "kernelspec": {
   "display_name": "Python 3 (ipykernel)",
   "language": "python",
   "name": "python3"
  },
  "language_info": {
   "codemirror_mode": {
    "name": "ipython",
    "version": 3
   },
   "file_extension": ".py",
   "mimetype": "text/x-python",
   "name": "python",
   "nbconvert_exporter": "python",
   "pygments_lexer": "ipython3",
   "version": "3.12.4"
  }
 },
 "nbformat": 4,
 "nbformat_minor": 5
}
