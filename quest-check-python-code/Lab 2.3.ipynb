{
 "cells": [
  {
   "cell_type": "markdown",
   "id": "c6a7e8e0-36c1-43e4-bcf4-5d03b586ef33",
   "metadata": {},
   "source": [
    "# Introduction to Pandas"
   ]
  },
  {
   "cell_type": "markdown",
   "id": "53f03f68-8ba0-4595-9012-bfb26aafc60c",
   "metadata": {},
   "source": [
    "Pandas is a high-performance library providing data structures, data analysis and manipulation tools designed to make data cleaning and analysis fast and convenient in Python. \n",
    "\n"
   ]
  },
  {
   "cell_type": "markdown",
   "id": "62ae293b-be04-4ba0-b528-64aee61c9dfb",
   "metadata": {},
   "source": [
    "To use pandas, first inport pandas (together with other python libraries):"
   ]
  },
  {
   "cell_type": "code",
   "execution_count": 2,
   "id": "0807febc-e0f9-4d7b-83a3-ff9de50673bf",
   "metadata": {},
   "outputs": [],
   "source": [
    "import numpy as np\n",
    "import pandas as pd\n",
    "import matplotlib.pyplot as plt"
   ]
  },
  {
   "cell_type": "markdown",
   "id": "6b4ea677-d648-41f4-a012-182313d4523b",
   "metadata": {},
   "source": [
    "# 1. Series"
   ]
  },
  {
   "cell_type": "markdown",
   "id": "479530ca-7973-47be-a8f2-7bedbf060c38",
   "metadata": {},
   "source": [
    "##### Series: Introduction"
   ]
  },
  {
   "cell_type": "markdown",
   "id": "a88f5dff-f049-407e-8bee-9ed7e4ae3fd6",
   "metadata": {},
   "source": [
    "The simplest series can be formed from a list of data:"
   ]
  },
  {
   "cell_type": "code",
   "execution_count": 3,
   "id": "4b09b3f4-32fa-461a-b50c-c1468d8b96b5",
   "metadata": {},
   "outputs": [
    {
     "name": "stdout",
     "output_type": "stream",
     "text": [
      "0    4\n",
      "1    7\n",
      "2   -5\n",
      "3    3\n",
      "dtype: int64\n"
     ]
    }
   ],
   "source": [
    "# Creating a Series\n",
    "obj = pd.Series([4, 7, -5, 3])\n",
    "\n",
    "print(obj)"
   ]
  },
  {
   "cell_type": "markdown",
   "id": "fa0b9df1-a857-4515-9c64-85e2eb05276c",
   "metadata": {},
   "source": [
    "To obtain the array (or value) representation and index object of a Series, use the .array and .index attributes:\n"
   ]
  },
  {
   "cell_type": "code",
   "execution_count": 4,
   "id": "182fe878-03ba-48b3-a63b-6edbe5f1647d",
   "metadata": {},
   "outputs": [
    {
     "data": {
      "text/plain": [
       "<NumpyExtensionArray>\n",
       "[np.int64(4), np.int64(7), np.int64(-5), np.int64(3)]\n",
       "Length: 4, dtype: int64"
      ]
     },
     "execution_count": 4,
     "metadata": {},
     "output_type": "execute_result"
    }
   ],
   "source": [
    "obj.array"
   ]
  },
  {
   "cell_type": "code",
   "execution_count": 5,
   "id": "20b80a89-0e15-4354-b6cb-1f886c2888ce",
   "metadata": {},
   "outputs": [
    {
     "data": {
      "text/plain": [
       "RangeIndex(start=0, stop=4, step=1)"
      ]
     },
     "execution_count": 5,
     "metadata": {},
     "output_type": "execute_result"
    }
   ],
   "source": [
    "obj.index"
   ]
  },
  {
   "cell_type": "markdown",
   "id": "f23e6f12-e78f-4796-9fd4-c527e09dac6d",
   "metadata": {},
   "source": [
    "To create a Series with an index where each data point is identified with a label:"
   ]
  },
  {
   "cell_type": "code",
   "execution_count": 6,
   "id": "3885085c-9783-4046-b101-ddb46b455f03",
   "metadata": {},
   "outputs": [],
   "source": [
    "obj2 = pd.Series([4, 7, -5, 3], index=[\"A\", \"B\", \"C\", \"D\"])"
   ]
  },
  {
   "cell_type": "code",
   "execution_count": 7,
   "id": "3e9fe700-3969-4e32-b6c9-f3eb7f6d1ad0",
   "metadata": {},
   "outputs": [
    {
     "data": {
      "text/plain": [
       "A    4\n",
       "B    7\n",
       "C   -5\n",
       "D    3\n",
       "dtype: int64"
      ]
     },
     "execution_count": 7,
     "metadata": {},
     "output_type": "execute_result"
    }
   ],
   "source": [
    "obj2"
   ]
  },
  {
   "cell_type": "code",
   "execution_count": 8,
   "id": "5654345d-3549-457a-958b-d547d201023c",
   "metadata": {},
   "outputs": [
    {
     "data": {
      "text/plain": [
       "Index(['A', 'B', 'C', 'D'], dtype='object')"
      ]
     },
     "execution_count": 8,
     "metadata": {},
     "output_type": "execute_result"
    }
   ],
   "source": [
    "obj2.index"
   ]
  },
  {
   "cell_type": "markdown",
   "id": "37e28c72-6d46-49f9-94f8-5455a49e6929",
   "metadata": {},
   "source": [
    "You can now use the labels to select the values in the series:"
   ]
  },
  {
   "cell_type": "code",
   "execution_count": 9,
   "id": "0049f5f3-91f8-42cf-b206-cbc3ab6e069e",
   "metadata": {},
   "outputs": [
    {
     "data": {
      "text/plain": [
       "np.int64(4)"
      ]
     },
     "execution_count": 9,
     "metadata": {},
     "output_type": "execute_result"
    }
   ],
   "source": [
    "obj2[\"A\"]"
   ]
  },
  {
   "cell_type": "code",
   "execution_count": 10,
   "id": "bbc3cf03-0584-41a3-8113-21bffef82ca3",
   "metadata": {},
   "outputs": [
    {
     "data": {
      "text/plain": [
       "np.int64(-5)"
      ]
     },
     "execution_count": 10,
     "metadata": {},
     "output_type": "execute_result"
    }
   ],
   "source": [
    "obj2[\"C\"]"
   ]
  },
  {
   "cell_type": "code",
   "execution_count": 11,
   "id": "c41ee541-c216-4bba-8ba4-74f8459c6743",
   "metadata": {},
   "outputs": [
    {
     "data": {
      "text/plain": [
       "C   -5\n",
       "A    4\n",
       "D    3\n",
       "dtype: int64"
      ]
     },
     "execution_count": 11,
     "metadata": {},
     "output_type": "execute_result"
    }
   ],
   "source": [
    "obj2[ [\"C\", \"A\", \"D\"] ]  # using a list of indices"
   ]
  },
  {
   "cell_type": "markdown",
   "id": "56db9c23-b34c-468b-afdf-aa64bb548f02",
   "metadata": {},
   "source": [
    "We can use NumPy-like operations, such as filtering with a Boolean array, scalar multiplication, or applying math functions:"
   ]
  },
  {
   "cell_type": "code",
   "execution_count": 12,
   "id": "42e189c6-aab7-4926-a721-320e4724ae15",
   "metadata": {},
   "outputs": [
    {
     "data": {
      "text/plain": [
       "A     True\n",
       "B     True\n",
       "C    False\n",
       "D     True\n",
       "dtype: bool"
      ]
     },
     "execution_count": 12,
     "metadata": {},
     "output_type": "execute_result"
    }
   ],
   "source": [
    "obj2 > 0"
   ]
  },
  {
   "cell_type": "code",
   "execution_count": 13,
   "id": "b47b2094-7df3-49e6-b989-e9c864a45213",
   "metadata": {},
   "outputs": [
    {
     "data": {
      "text/plain": [
       "A    4\n",
       "B    7\n",
       "D    3\n",
       "dtype: int64"
      ]
     },
     "execution_count": 13,
     "metadata": {},
     "output_type": "execute_result"
    }
   ],
   "source": [
    "obj2[obj2 > 0]"
   ]
  },
  {
   "cell_type": "code",
   "execution_count": 14,
   "id": "31285b32-b189-4ad2-b05e-b44631e8c119",
   "metadata": {},
   "outputs": [
    {
     "data": {
      "text/plain": [
       "A     8\n",
       "B    14\n",
       "C   -10\n",
       "D     6\n",
       "dtype: int64"
      ]
     },
     "execution_count": 14,
     "metadata": {},
     "output_type": "execute_result"
    }
   ],
   "source": [
    "obj2 * 2"
   ]
  },
  {
   "cell_type": "code",
   "execution_count": 15,
   "id": "2ebe810f-da51-4f11-bd29-f10902c7531d",
   "metadata": {},
   "outputs": [
    {
     "data": {
      "text/plain": [
       "A      54.598150\n",
       "B    1096.633158\n",
       "C       0.006738\n",
       "D      20.085537\n",
       "dtype: float64"
      ]
     },
     "execution_count": 15,
     "metadata": {},
     "output_type": "execute_result"
    }
   ],
   "source": [
    "np.exp(obj2)"
   ]
  },
  {
   "cell_type": "markdown",
   "id": "01a86a49-5d59-4bf9-9bcd-26e8497b563b",
   "metadata": {},
   "source": [
    "### **Exercise 1**\n",
    "#### Series Example: Bubble Tea Menu \n",
    "\n",
    "Consider the following example :\n"
   ]
  },
  {
   "cell_type": "code",
   "execution_count": 18,
   "id": "acccf6ee-80c0-4600-abda-2270fc8c16ea",
   "metadata": {},
   "outputs": [],
   "source": [
    "# Use these two lists from our Dictionaries exercise:\n",
    "drinks = ['Classic Milk Tea', 'Taro Milk Tea', 'Matcha Latte', \n",
    "          'Jasmine Green Tea', 'Thai Milk Tea']\n",
    "prices = [3.5, 4.5, 4.2, 3.7, 4.5]"
   ]
  },
  {
   "cell_type": "code",
   "execution_count": 19,
   "id": "f52b632b-0de9-441a-867a-a514f552f88b",
   "metadata": {},
   "outputs": [],
   "source": [
    "import numpy as np\n",
    "import pandas as pd\n",
    "import matplotlib.pyplot as plt"
   ]
  },
  {
   "cell_type": "code",
   "execution_count": 20,
   "id": "a4131bce-729c-41b0-8ffd-bcbaee6459b7",
   "metadata": {},
   "outputs": [
    {
     "data": {
      "text/plain": [
       "Classic Milk Tea     3.5\n",
       "Taro Milk Tea        4.5\n",
       "Matcha Latte         4.2\n",
       "Jasmine Green Tea    3.7\n",
       "Thai Milk Tea        4.5\n",
       "dtype: float64"
      ]
     },
     "execution_count": 20,
     "metadata": {},
     "output_type": "execute_result"
    }
   ],
   "source": [
    "# Create a menu using Series, with \n",
    "#    \"drinks\" as index, and \n",
    "#    \"price\" as value. \n",
    "\n",
    "menu = pd.Series(prices, index=drinks)\n",
    "\n",
    "menu"
   ]
  },
  {
   "cell_type": "markdown",
   "id": "3093a9e1-858d-48d1-a3fd-a99c9e89d372",
   "metadata": {},
   "source": [
    "Observe both index and array above are not provided with any names yet. "
   ]
  },
  {
   "cell_type": "markdown",
   "id": "30f332fa-d6a7-4b6b-9ed3-988e5d41084a",
   "metadata": {},
   "source": [
    "Use the .name attribute to assign names to the Series values and its index.\n",
    "Assign the name \"Price\" to the values of menu, and the name \"Drinks\" to the index. "
   ]
  },
  {
   "cell_type": "code",
   "execution_count": 21,
   "id": "f47a3410-156e-46ed-a7e2-f8401ff6ea3c",
   "metadata": {},
   "outputs": [
    {
     "data": {
      "text/plain": [
       "Drinks\n",
       "Classic Milk Tea     3.5\n",
       "Taro Milk Tea        4.5\n",
       "Matcha Latte         4.2\n",
       "Jasmine Green Tea    3.7\n",
       "Thai Milk Tea        4.5\n",
       "Name: Price, dtype: float64"
      ]
     },
     "execution_count": 21,
     "metadata": {},
     "output_type": "execute_result"
    }
   ],
   "source": [
    "# Assign a name to the values and the index\n",
    "menu.name = \"Price\"\n",
    "menu.index.name = \"Drinks\"\n",
    "\n",
    "menu  # display the result"
   ]
  },
  {
   "cell_type": "markdown",
   "id": "50e604a2-b03e-491a-a19e-12cba2b19105",
   "metadata": {},
   "source": [
    "We can Access/Update the price of Macha Latte to 4.50:\n"
   ]
  },
  {
   "cell_type": "code",
   "execution_count": 22,
   "id": "22d5943f-0068-4c70-89f2-a84e6a4d35db",
   "metadata": {},
   "outputs": [
    {
     "data": {
      "text/plain": [
       "Drinks\n",
       "Classic Milk Tea     3.5\n",
       "Taro Milk Tea        4.5\n",
       "Matcha Latte         4.5\n",
       "Jasmine Green Tea    3.7\n",
       "Thai Milk Tea        4.5\n",
       "Name: Price, dtype: float64"
      ]
     },
     "execution_count": 22,
     "metadata": {},
     "output_type": "execute_result"
    }
   ],
   "source": [
    "# Update the price of Matcha Latte to 4.50\n",
    "menu[\"Matcha Latte\"] = 4.5\n",
    "\n",
    "menu   # display the result"
   ]
  },
  {
   "cell_type": "markdown",
   "id": "d3e85d74-6155-4cbf-b9e7-eaa247a74ff6",
   "metadata": {},
   "source": [
    "Series can now be sliced by using labels and positions, using .loc() and .iloc() :"
   ]
  },
  {
   "cell_type": "code",
   "execution_count": 23,
   "id": "2104f471-5695-4de9-8b30-70c14401578f",
   "metadata": {},
   "outputs": [
    {
     "data": {
      "text/plain": [
       "Drinks\n",
       "Taro Milk Tea        4.5\n",
       "Matcha Latte         4.5\n",
       "Jasmine Green Tea    3.7\n",
       "Name: Price, dtype: float64"
      ]
     },
     "execution_count": 23,
     "metadata": {},
     "output_type": "execute_result"
    }
   ],
   "source": [
    "# Complete the following code to obtain the 2nd to 4th items in the list using .loc() method:\n",
    "menu.loc[\"Taro Milk Tea\":\"Jasmine Green Tea\"]\n"
   ]
  },
  {
   "cell_type": "code",
   "execution_count": 24,
   "id": "a1e227d3-ee51-4425-9cac-7988962655f5",
   "metadata": {},
   "outputs": [
    {
     "data": {
      "text/plain": [
       "Drinks\n",
       "Taro Milk Tea        4.5\n",
       "Matcha Latte         4.5\n",
       "Jasmine Green Tea    3.7\n",
       "Name: Price, dtype: float64"
      ]
     },
     "execution_count": 24,
     "metadata": {},
     "output_type": "execute_result"
    }
   ],
   "source": [
    "# # Complete the following code to obtain the 2nd to 4th items as above, but using .iloc() instead of .loc():\n",
    "# hint: python indexing starts with 0, so 2nd item index = 1\n",
    "# hint: try 1:3 and 1:4. Which is correct?\n",
    "\n",
    "menu.iloc[1:4]\n"
   ]
  },
  {
   "cell_type": "markdown",
   "id": "8f7f9486-8ca8-4768-b25a-e1e0ef445880",
   "metadata": {},
   "source": [
    "# 2. DataFrame"
   ]
  },
  {
   "cell_type": "markdown",
   "id": "6312e8cc-4a38-4e20-9fbb-ea7040e2bc7c",
   "metadata": {},
   "source": [
    "**Introduction:**\n",
    "\n",
    "Pandas' DataFrame is developed with processing of these tabular data in mind. \n",
    "\n",
    "To create a DataFrame, we can use the command `pd.DataFrame`.\n",
    "\n",
    "Complete the exercises at the end of each sections below.\n"
   ]
  },
  {
   "cell_type": "markdown",
   "id": "cae1403f-5a1e-4c7d-8837-234ab8160748",
   "metadata": {},
   "source": [
    "# 3. DataFrame Creation Methods"
   ]
  },
  {
   "cell_type": "markdown",
   "id": "2dac9c1f-866e-4af6-bf26-a589284319d7",
   "metadata": {},
   "source": [
    "##### a. Create DataFrame From List of Column Data\n",
    "\n",
    "From a list of column data (represented using dictionaries):\n"
   ]
  },
  {
   "cell_type": "code",
   "execution_count": 25,
   "id": "817792d1-7488-460c-9fde-a2754c011c0a",
   "metadata": {},
   "outputs": [
    {
     "name": "stdout",
     "output_type": "stream",
     "text": [
      "      Animal     Group  Num_Legs  Num_Wings Significant_Feature\n",
      "0    Chicken      Bird         2          2            Feathers\n",
      "1      Guppy      Fish         0          0                Tail\n",
      "2   Elephant    Mammal         4          0               Trunk\n",
      "3  Butterfly    Insect         6          4               Wings\n",
      "4    Giraffe    Mammal         4          0           Long Neck\n",
      "5     Spider  Arachnid         8          0         Exoskeleton\n",
      "6     Turtle   Reptile         4          0               Shell\n",
      "7     Beetle    Insect         6          4        Elytra-Wings\n"
     ]
    }
   ],
   "source": [
    "data = {\n",
    "    \"Animal\": [ \"Chicken\", \"Guppy\", \"Elephant\", \"Butterfly\", \"Giraffe\", \"Spider\", \"Turtle\", \"Beetle\"],\n",
    "    \"Group\": [ \"Bird\", \"Fish\", \"Mammal\", \"Insect\", \"Mammal\", \"Arachnid\", \"Reptile\", \"Insect\"],\n",
    "    \"Num_Legs\": [ 2, 0, 4, 6, 4, 8, 4, 6],  \n",
    "    \"Num_Wings\": [2, 0, 0, 4, 0, 0, 0, 4],  \n",
    "    \"Significant_Feature\": [ \"Feathers\", \"Tail\", \"Trunk\", \"Wings\", \"Long Neck\", \"Exoskeleton\", \"Shell\", \"Elytra-Wings\"]\n",
    "}\n",
    "\n",
    "# Create DataFrame\n",
    "df = pd.DataFrame(data)\n",
    "\n",
    "print(df)"
   ]
  },
  {
   "attachments": {},
   "cell_type": "markdown",
   "id": "5617694d-5394-484c-a49c-5e3e652f3ce3",
   "metadata": {},
   "source": [
    "##### b. Create DataFrame from List of Row Data \n",
    "From a list of row data (i.e. samples or records, represented using lists):\n"
   ]
  },
  {
   "cell_type": "code",
   "execution_count": 26,
   "id": "9900928e-1931-47ba-be7b-ad2388780ea5",
   "metadata": {},
   "outputs": [
    {
     "name": "stdout",
     "output_type": "stream",
     "text": [
      "      Animal     Group  Num_Legs  Num_Wings Significant_Features\n",
      "0    Chicken      Bird         2          2             Feathers\n",
      "1      Guppy      Fish         0          0                 Tail\n",
      "2   Elephant    Mammal         4          0                Trunk\n",
      "3  Butterfly    Insect         6          4                Wings\n",
      "4    Giraffe    Mammal         4          0            Long Neck\n",
      "5     Spider  Arachnid         8          0          Exoskeleton\n",
      "6     Turtle   Reptile         4          0                Shell\n",
      "7     Beetle    Insect         6          4         Elytra-Wings\n"
     ]
    }
   ],
   "source": [
    "data = [\n",
    "    [\"Chicken\", \"Bird\", 2, 2, \"Feathers\"],\n",
    "    [\"Guppy\", \"Fish\", 0, 0, \"Tail\"],\n",
    "    [\"Elephant\", \"Mammal\", 4, 0, \"Trunk\"],\n",
    "    [\"Butterfly\", \"Insect\", 6, 4, \"Wings\"],\n",
    "    [\"Giraffe\", \"Mammal\", 4, 0, \"Long Neck\"],\n",
    "    [\"Spider\", \"Arachnid\", 8, 0, \"Exoskeleton\"],\n",
    "    [\"Turtle\", \"Reptile\", 4, 0, \"Shell\"],\n",
    "    [\"Beetle\", \"Insect\", 6, 4, \"Elytra-Wings\"]\n",
    "]\n",
    "\n",
    "labels = [\"Animal\", \"Group\", \"Num_Legs\", \"Num_Wings\", \"Significant_Features\"]\n",
    "\n",
    "# Create DataFrame with column names specified from 'labels'\n",
    "df = pd.DataFrame(data, columns=labels)\n",
    "\n",
    "print(df)"
   ]
  },
  {
   "cell_type": "code",
   "execution_count": null,
   "id": "5fc07846-1423-4543-88cb-86010f374580",
   "metadata": {},
   "outputs": [],
   "source": []
  },
  {
   "cell_type": "markdown",
   "id": "dce3562c-7eca-42d7-912a-33b562a893b9",
   "metadata": {},
   "source": [
    "##### c. Load DataFrame from .csv File \n",
    "\n",
    "If the data is stored in a excel spreadsheet, or csv file format, we can use the pd.read_csv( ) command to import it into Pandas into a dataframe. \n",
    "For large datasets, this way is much cleaner and simpler, and would be our preferred method to import data into a dataframe. \n"
   ]
  },
  {
   "cell_type": "code",
   "execution_count": 28,
   "id": "6d052bfe-8218-448b-8806-a7e1a223f0ae",
   "metadata": {},
   "outputs": [
    {
     "data": {
      "text/html": [
       "<div>\n",
       "<style scoped>\n",
       "    .dataframe tbody tr th:only-of-type {\n",
       "        vertical-align: middle;\n",
       "    }\n",
       "\n",
       "    .dataframe tbody tr th {\n",
       "        vertical-align: top;\n",
       "    }\n",
       "\n",
       "    .dataframe thead th {\n",
       "        text-align: right;\n",
       "    }\n",
       "</style>\n",
       "<table border=\"1\" class=\"dataframe\">\n",
       "  <thead>\n",
       "    <tr style=\"text-align: right;\">\n",
       "      <th></th>\n",
       "      <th>Animal</th>\n",
       "      <th>Group</th>\n",
       "      <th>Num_Legs</th>\n",
       "      <th>Num_Wings</th>\n",
       "      <th>Significant_Feature</th>\n",
       "    </tr>\n",
       "  </thead>\n",
       "  <tbody>\n",
       "    <tr>\n",
       "      <th>0</th>\n",
       "      <td>Chicken</td>\n",
       "      <td>Bird</td>\n",
       "      <td>2</td>\n",
       "      <td>2</td>\n",
       "      <td>Feathers</td>\n",
       "    </tr>\n",
       "    <tr>\n",
       "      <th>1</th>\n",
       "      <td>Guppy</td>\n",
       "      <td>Fish</td>\n",
       "      <td>0</td>\n",
       "      <td>0</td>\n",
       "      <td>Tail</td>\n",
       "    </tr>\n",
       "    <tr>\n",
       "      <th>2</th>\n",
       "      <td>Elephant</td>\n",
       "      <td>Mammal</td>\n",
       "      <td>4</td>\n",
       "      <td>0</td>\n",
       "      <td>Trunk</td>\n",
       "    </tr>\n",
       "    <tr>\n",
       "      <th>3</th>\n",
       "      <td>Butterfly</td>\n",
       "      <td>Insect</td>\n",
       "      <td>6</td>\n",
       "      <td>4</td>\n",
       "      <td>Wings</td>\n",
       "    </tr>\n",
       "    <tr>\n",
       "      <th>4</th>\n",
       "      <td>Giraffe</td>\n",
       "      <td>Mammal</td>\n",
       "      <td>4</td>\n",
       "      <td>0</td>\n",
       "      <td>Long Neck</td>\n",
       "    </tr>\n",
       "    <tr>\n",
       "      <th>5</th>\n",
       "      <td>Spider</td>\n",
       "      <td>Arachnid</td>\n",
       "      <td>8</td>\n",
       "      <td>0</td>\n",
       "      <td>Exoskeleton</td>\n",
       "    </tr>\n",
       "    <tr>\n",
       "      <th>6</th>\n",
       "      <td>Turtle</td>\n",
       "      <td>Reptile</td>\n",
       "      <td>4</td>\n",
       "      <td>0</td>\n",
       "      <td>Shell</td>\n",
       "    </tr>\n",
       "    <tr>\n",
       "      <th>7</th>\n",
       "      <td>Beetle</td>\n",
       "      <td>Insect</td>\n",
       "      <td>6</td>\n",
       "      <td>4</td>\n",
       "      <td>Elytra-Wings</td>\n",
       "    </tr>\n",
       "  </tbody>\n",
       "</table>\n",
       "</div>"
      ],
      "text/plain": [
       "      Animal     Group  Num_Legs  Num_Wings Significant_Feature\n",
       "0    Chicken      Bird         2          2            Feathers\n",
       "1      Guppy      Fish         0          0                Tail\n",
       "2   Elephant    Mammal         4          0               Trunk\n",
       "3  Butterfly    Insect         6          4               Wings\n",
       "4    Giraffe    Mammal         4          0           Long Neck\n",
       "5     Spider  Arachnid         8          0         Exoskeleton\n",
       "6     Turtle   Reptile         4          0               Shell\n",
       "7     Beetle    Insect         6          4        Elytra-Wings"
      ]
     },
     "execution_count": 28,
     "metadata": {},
     "output_type": "execute_result"
    }
   ],
   "source": [
    "import pandas as pd\n",
    "\n",
    "df = pd.read_csv(\"animal_data.csv\")\n",
    "df"
   ]
  },
  {
   "cell_type": "markdown",
   "id": "4f44ff32-f7f9-4a5d-b92f-2e988d655a6e",
   "metadata": {},
   "source": [
    "### **Exercise 2**\n",
    "#### Load DataFrame from CSV File. \n",
    "\n",
    "Complete the following code snippet by filling in the blanks \n",
    "1. Load the CSV file `ElectionResults.csv` using pandas' `pd.read_csv()` command. \n",
    "2. Store the dataframe in a variable named `election` .\n",
    "3. Display the content of the `election` dataframe."
   ]
  },
  {
   "cell_type": "code",
   "execution_count": 29,
   "id": "f253b52a-4872-4825-803a-6690d1cefe52",
   "metadata": {},
   "outputs": [
    {
     "data": {
      "text/html": [
       "<div>\n",
       "<style scoped>\n",
       "    .dataframe tbody tr th:only-of-type {\n",
       "        vertical-align: middle;\n",
       "    }\n",
       "\n",
       "    .dataframe tbody tr th {\n",
       "        vertical-align: top;\n",
       "    }\n",
       "\n",
       "    .dataframe thead th {\n",
       "        text-align: right;\n",
       "    }\n",
       "</style>\n",
       "<table border=\"1\" class=\"dataframe\">\n",
       "  <thead>\n",
       "    <tr style=\"text-align: right;\">\n",
       "      <th></th>\n",
       "      <th>Constituency</th>\n",
       "      <th>PAP</th>\n",
       "      <th>Opposition</th>\n",
       "    </tr>\n",
       "  </thead>\n",
       "  <tbody>\n",
       "    <tr>\n",
       "      <th>0</th>\n",
       "      <td>Aljunied GRC</td>\n",
       "      <td>40.07%</td>\n",
       "      <td>59.93%</td>\n",
       "    </tr>\n",
       "    <tr>\n",
       "      <th>1</th>\n",
       "      <td>Ang Mo Kio GRC</td>\n",
       "      <td>71.91%</td>\n",
       "      <td>28.09%</td>\n",
       "    </tr>\n",
       "    <tr>\n",
       "      <th>2</th>\n",
       "      <td>Bishan-Toa Payoh GRC</td>\n",
       "      <td>67.26%</td>\n",
       "      <td>32.74%</td>\n",
       "    </tr>\n",
       "    <tr>\n",
       "      <th>3</th>\n",
       "      <td>Bukit Batok SMC (2016 By-election)</td>\n",
       "      <td>54.80%</td>\n",
       "      <td>45.20%</td>\n",
       "    </tr>\n",
       "    <tr>\n",
       "      <th>4</th>\n",
       "      <td>Bukit Panjang SMC</td>\n",
       "      <td>53.74%</td>\n",
       "      <td>46.26%</td>\n",
       "    </tr>\n",
       "    <tr>\n",
       "      <th>5</th>\n",
       "      <td>Chua Chu Kang GRC</td>\n",
       "      <td>58.64%</td>\n",
       "      <td>41.36%</td>\n",
       "    </tr>\n",
       "    <tr>\n",
       "      <th>6</th>\n",
       "      <td>East Coast GRC</td>\n",
       "      <td>53.41%</td>\n",
       "      <td>46.59%</td>\n",
       "    </tr>\n",
       "    <tr>\n",
       "      <th>7</th>\n",
       "      <td>Holland-Bukit Timah GRC</td>\n",
       "      <td>66.36%</td>\n",
       "      <td>33.64%</td>\n",
       "    </tr>\n",
       "    <tr>\n",
       "      <th>8</th>\n",
       "      <td>Hong Kah North SMC</td>\n",
       "      <td>60.98%</td>\n",
       "      <td>39.02%</td>\n",
       "    </tr>\n",
       "    <tr>\n",
       "      <th>9</th>\n",
       "      <td>Hougang SMC</td>\n",
       "      <td>38.81%</td>\n",
       "      <td>61.19%</td>\n",
       "    </tr>\n",
       "    <tr>\n",
       "      <th>10</th>\n",
       "      <td>Jalan Besar GRC</td>\n",
       "      <td>65.37%</td>\n",
       "      <td>34.63%</td>\n",
       "    </tr>\n",
       "    <tr>\n",
       "      <th>11</th>\n",
       "      <td>Jurong GRC</td>\n",
       "      <td>74.62%</td>\n",
       "      <td>25.38%</td>\n",
       "    </tr>\n",
       "    <tr>\n",
       "      <th>12</th>\n",
       "      <td>Kebun Baru SMC</td>\n",
       "      <td>62.97%</td>\n",
       "      <td>37.03%</td>\n",
       "    </tr>\n",
       "    <tr>\n",
       "      <th>13</th>\n",
       "      <td>Macpherson SMC</td>\n",
       "      <td>71.74%</td>\n",
       "      <td>28.26%</td>\n",
       "    </tr>\n",
       "    <tr>\n",
       "      <th>14</th>\n",
       "      <td>Marine Parade GRC</td>\n",
       "      <td>57.76%</td>\n",
       "      <td>42.24%</td>\n",
       "    </tr>\n",
       "    <tr>\n",
       "      <th>15</th>\n",
       "      <td>Marsiling-Yew Tee GRC</td>\n",
       "      <td>63.18%</td>\n",
       "      <td>36.82%</td>\n",
       "    </tr>\n",
       "    <tr>\n",
       "      <th>16</th>\n",
       "      <td>Marymount SMC</td>\n",
       "      <td>55.04%</td>\n",
       "      <td>44.96%</td>\n",
       "    </tr>\n",
       "    <tr>\n",
       "      <th>17</th>\n",
       "      <td>Mountbatten SMC</td>\n",
       "      <td>73.84%</td>\n",
       "      <td>26.16%</td>\n",
       "    </tr>\n",
       "    <tr>\n",
       "      <th>18</th>\n",
       "      <td>Nee Soon GRC</td>\n",
       "      <td>61.90%</td>\n",
       "      <td>38.10%</td>\n",
       "    </tr>\n",
       "    <tr>\n",
       "      <th>19</th>\n",
       "      <td>Pasir Ris-Punggol GRC</td>\n",
       "      <td>64.15%</td>\n",
       "      <td>35.85%</td>\n",
       "    </tr>\n",
       "    <tr>\n",
       "      <th>20</th>\n",
       "      <td>Pioneer SMC</td>\n",
       "      <td>61.98%</td>\n",
       "      <td>35.24%</td>\n",
       "    </tr>\n",
       "    <tr>\n",
       "      <th>21</th>\n",
       "      <td>Potong Pasir SMC</td>\n",
       "      <td>60.69%</td>\n",
       "      <td>39.31%</td>\n",
       "    </tr>\n",
       "    <tr>\n",
       "      <th>22</th>\n",
       "      <td>Punggol West SMC</td>\n",
       "      <td>60.97%</td>\n",
       "      <td>39.03%</td>\n",
       "    </tr>\n",
       "    <tr>\n",
       "      <th>23</th>\n",
       "      <td>Radin Mas SMC</td>\n",
       "      <td>74.03%</td>\n",
       "      <td>25.97%</td>\n",
       "    </tr>\n",
       "    <tr>\n",
       "      <th>24</th>\n",
       "      <td>Sembawang GRC</td>\n",
       "      <td>67.29%</td>\n",
       "      <td>32.71%</td>\n",
       "    </tr>\n",
       "    <tr>\n",
       "      <th>25</th>\n",
       "      <td>Sengkang GRC</td>\n",
       "      <td>47.87%</td>\n",
       "      <td>52.13%</td>\n",
       "    </tr>\n",
       "    <tr>\n",
       "      <th>26</th>\n",
       "      <td>Tampines GRC</td>\n",
       "      <td>66.41%</td>\n",
       "      <td>33.59%</td>\n",
       "    </tr>\n",
       "    <tr>\n",
       "      <th>27</th>\n",
       "      <td>Tanjong Pagar GRC</td>\n",
       "      <td>63.13%</td>\n",
       "      <td>36.87%</td>\n",
       "    </tr>\n",
       "    <tr>\n",
       "      <th>28</th>\n",
       "      <td>West Coast GRC</td>\n",
       "      <td>51.69%</td>\n",
       "      <td>48.31%</td>\n",
       "    </tr>\n",
       "    <tr>\n",
       "      <th>29</th>\n",
       "      <td>Yio Chu Kang SMC</td>\n",
       "      <td>60.83%</td>\n",
       "      <td>39.17%</td>\n",
       "    </tr>\n",
       "    <tr>\n",
       "      <th>30</th>\n",
       "      <td>Yuhua SMC</td>\n",
       "      <td>70.54%</td>\n",
       "      <td>29.46%</td>\n",
       "    </tr>\n",
       "  </tbody>\n",
       "</table>\n",
       "</div>"
      ],
      "text/plain": [
       "                          Constituency     PAP Opposition\n",
       "0                         Aljunied GRC  40.07%     59.93%\n",
       "1                       Ang Mo Kio GRC  71.91%     28.09%\n",
       "2                 Bishan-Toa Payoh GRC  67.26%     32.74%\n",
       "3   Bukit Batok SMC (2016 By-election)  54.80%     45.20%\n",
       "4                    Bukit Panjang SMC  53.74%     46.26%\n",
       "5                    Chua Chu Kang GRC  58.64%     41.36%\n",
       "6                       East Coast GRC  53.41%     46.59%\n",
       "7              Holland-Bukit Timah GRC  66.36%     33.64%\n",
       "8                   Hong Kah North SMC  60.98%     39.02%\n",
       "9                          Hougang SMC  38.81%     61.19%\n",
       "10                     Jalan Besar GRC  65.37%     34.63%\n",
       "11                          Jurong GRC  74.62%     25.38%\n",
       "12                      Kebun Baru SMC  62.97%     37.03%\n",
       "13                      Macpherson SMC  71.74%     28.26%\n",
       "14                   Marine Parade GRC  57.76%     42.24%\n",
       "15               Marsiling-Yew Tee GRC  63.18%     36.82%\n",
       "16                       Marymount SMC  55.04%     44.96%\n",
       "17                     Mountbatten SMC  73.84%     26.16%\n",
       "18                        Nee Soon GRC  61.90%     38.10%\n",
       "19               Pasir Ris-Punggol GRC  64.15%     35.85%\n",
       "20                         Pioneer SMC  61.98%     35.24%\n",
       "21                    Potong Pasir SMC  60.69%     39.31%\n",
       "22                    Punggol West SMC  60.97%     39.03%\n",
       "23                       Radin Mas SMC  74.03%     25.97%\n",
       "24                       Sembawang GRC  67.29%     32.71%\n",
       "25                        Sengkang GRC  47.87%     52.13%\n",
       "26                        Tampines GRC  66.41%     33.59%\n",
       "27                   Tanjong Pagar GRC  63.13%     36.87%\n",
       "28                      West Coast GRC  51.69%     48.31%\n",
       "29                    Yio Chu Kang SMC  60.83%     39.17%\n",
       "30                           Yuhua SMC  70.54%     29.46%"
      ]
     },
     "execution_count": 29,
     "metadata": {},
     "output_type": "execute_result"
    }
   ],
   "source": [
    "# Exercise 2: Load the file \"ElectionResults.csv\" into a dataframe name `election`, using the pd.read_csv() command.\n",
    "\n",
    "import pandas as pd\n",
    "\n",
    "# load the dataframe\n",
    "\n",
    "election =pd.read_csv(\"ElectionResults.csv\")\n",
    "\n",
    "\n",
    "# display the dataframe\n",
    "election"
   ]
  },
  {
   "cell_type": "markdown",
   "id": "344b0f82-7e5f-4179-9817-c5be35daec1e",
   "metadata": {},
   "source": [
    "# 4. Simple Exploratory Data Analysis (EDA)"
   ]
  },
  {
   "cell_type": "markdown",
   "id": "5490a30c-163a-43b3-b40c-3bbfd2f26657",
   "metadata": {},
   "source": [
    "After a new DataFrame is loaded, you would want to quickly explore it and get a sense of its contents (i.e. EDA). is an important step at the start of any data project. It helps grasp the size and structure of the data, identify critical variables, explore the statistics of the data, find the correlation between different columns, and discover any hidden patterns.\n",
    "\n",
    "\n",
    "Pandas have several useful commands to facilitate EDA like head(), .shape, .info, value_counts(), etc. \n",
    "\n",
    "Refer to the Powerpoint slides for more detail.\n"
   ]
  },
  {
   "cell_type": "code",
   "execution_count": 30,
   "id": "105ac213-ff66-4884-953b-9e7cac1c5415",
   "metadata": {},
   "outputs": [
    {
     "data": {
      "text/html": [
       "<div>\n",
       "<style scoped>\n",
       "    .dataframe tbody tr th:only-of-type {\n",
       "        vertical-align: middle;\n",
       "    }\n",
       "\n",
       "    .dataframe tbody tr th {\n",
       "        vertical-align: top;\n",
       "    }\n",
       "\n",
       "    .dataframe thead th {\n",
       "        text-align: right;\n",
       "    }\n",
       "</style>\n",
       "<table border=\"1\" class=\"dataframe\">\n",
       "  <thead>\n",
       "    <tr style=\"text-align: right;\">\n",
       "      <th></th>\n",
       "      <th>Animal</th>\n",
       "      <th>Group</th>\n",
       "      <th>Num_Legs</th>\n",
       "      <th>Num_Wings</th>\n",
       "      <th>Significant_Feature</th>\n",
       "    </tr>\n",
       "  </thead>\n",
       "  <tbody>\n",
       "    <tr>\n",
       "      <th>0</th>\n",
       "      <td>Chicken</td>\n",
       "      <td>Bird</td>\n",
       "      <td>2</td>\n",
       "      <td>2</td>\n",
       "      <td>Feathers</td>\n",
       "    </tr>\n",
       "    <tr>\n",
       "      <th>1</th>\n",
       "      <td>Guppy</td>\n",
       "      <td>Fish</td>\n",
       "      <td>0</td>\n",
       "      <td>0</td>\n",
       "      <td>Tail</td>\n",
       "    </tr>\n",
       "    <tr>\n",
       "      <th>2</th>\n",
       "      <td>Elephant</td>\n",
       "      <td>Mammal</td>\n",
       "      <td>4</td>\n",
       "      <td>0</td>\n",
       "      <td>Trunk</td>\n",
       "    </tr>\n",
       "    <tr>\n",
       "      <th>3</th>\n",
       "      <td>Butterfly</td>\n",
       "      <td>Insect</td>\n",
       "      <td>6</td>\n",
       "      <td>4</td>\n",
       "      <td>Wings</td>\n",
       "    </tr>\n",
       "    <tr>\n",
       "      <th>4</th>\n",
       "      <td>Giraffe</td>\n",
       "      <td>Mammal</td>\n",
       "      <td>4</td>\n",
       "      <td>0</td>\n",
       "      <td>Long Neck</td>\n",
       "    </tr>\n",
       "  </tbody>\n",
       "</table>\n",
       "</div>"
      ],
      "text/plain": [
       "      Animal   Group  Num_Legs  Num_Wings Significant_Feature\n",
       "0    Chicken    Bird         2          2            Feathers\n",
       "1      Guppy    Fish         0          0                Tail\n",
       "2   Elephant  Mammal         4          0               Trunk\n",
       "3  Butterfly  Insect         6          4               Wings\n",
       "4    Giraffe  Mammal         4          0           Long Neck"
      ]
     },
     "execution_count": 30,
     "metadata": {},
     "output_type": "execute_result"
    }
   ],
   "source": [
    "# Using the .head() method to check the DataFrame\n",
    "df.head()"
   ]
  },
  {
   "cell_type": "code",
   "execution_count": 31,
   "id": "d2106d48-c997-4a01-b228-c43557fbb17f",
   "metadata": {},
   "outputs": [
    {
     "name": "stdout",
     "output_type": "stream",
     "text": [
      "<class 'pandas.core.frame.DataFrame'>\n",
      "RangeIndex: 8 entries, 0 to 7\n",
      "Data columns (total 5 columns):\n",
      " #   Column               Non-Null Count  Dtype \n",
      "---  ------               --------------  ----- \n",
      " 0   Animal               8 non-null      object\n",
      " 1   Group                8 non-null      object\n",
      " 2   Num_Legs             8 non-null      int64 \n",
      " 3   Num_Wings            8 non-null      int64 \n",
      " 4   Significant_Feature  8 non-null      object\n",
      "dtypes: int64(2), object(3)\n",
      "memory usage: 452.0+ bytes\n"
     ]
    }
   ],
   "source": [
    "#.info()\treturns the column header, data type, value counts, etc.\n",
    "df.info()"
   ]
  },
  {
   "cell_type": "code",
   "execution_count": 32,
   "id": "4412f40b-f8e7-4d49-8859-3336deaafea9",
   "metadata": {},
   "outputs": [
    {
     "data": {
      "text/html": [
       "<div>\n",
       "<style scoped>\n",
       "    .dataframe tbody tr th:only-of-type {\n",
       "        vertical-align: middle;\n",
       "    }\n",
       "\n",
       "    .dataframe tbody tr th {\n",
       "        vertical-align: top;\n",
       "    }\n",
       "\n",
       "    .dataframe thead th {\n",
       "        text-align: right;\n",
       "    }\n",
       "</style>\n",
       "<table border=\"1\" class=\"dataframe\">\n",
       "  <thead>\n",
       "    <tr style=\"text-align: right;\">\n",
       "      <th></th>\n",
       "      <th>Num_Legs</th>\n",
       "      <th>Num_Wings</th>\n",
       "    </tr>\n",
       "  </thead>\n",
       "  <tbody>\n",
       "    <tr>\n",
       "      <th>count</th>\n",
       "      <td>8.000000</td>\n",
       "      <td>8.000000</td>\n",
       "    </tr>\n",
       "    <tr>\n",
       "      <th>mean</th>\n",
       "      <td>4.250000</td>\n",
       "      <td>1.250000</td>\n",
       "    </tr>\n",
       "    <tr>\n",
       "      <th>std</th>\n",
       "      <td>2.492847</td>\n",
       "      <td>1.832251</td>\n",
       "    </tr>\n",
       "    <tr>\n",
       "      <th>min</th>\n",
       "      <td>0.000000</td>\n",
       "      <td>0.000000</td>\n",
       "    </tr>\n",
       "    <tr>\n",
       "      <th>25%</th>\n",
       "      <td>3.500000</td>\n",
       "      <td>0.000000</td>\n",
       "    </tr>\n",
       "    <tr>\n",
       "      <th>50%</th>\n",
       "      <td>4.000000</td>\n",
       "      <td>0.000000</td>\n",
       "    </tr>\n",
       "    <tr>\n",
       "      <th>75%</th>\n",
       "      <td>6.000000</td>\n",
       "      <td>2.500000</td>\n",
       "    </tr>\n",
       "    <tr>\n",
       "      <th>max</th>\n",
       "      <td>8.000000</td>\n",
       "      <td>4.000000</td>\n",
       "    </tr>\n",
       "  </tbody>\n",
       "</table>\n",
       "</div>"
      ],
      "text/plain": [
       "       Num_Legs  Num_Wings\n",
       "count  8.000000   8.000000\n",
       "mean   4.250000   1.250000\n",
       "std    2.492847   1.832251\n",
       "min    0.000000   0.000000\n",
       "25%    3.500000   0.000000\n",
       "50%    4.000000   0.000000\n",
       "75%    6.000000   2.500000\n",
       "max    8.000000   4.000000"
      ]
     },
     "execution_count": 32,
     "metadata": {},
     "output_type": "execute_result"
    }
   ],
   "source": [
    "# .describe()\treturns basic statistical details (mean, max, min, etc)\n",
    "df.describe()"
   ]
  },
  {
   "cell_type": "code",
   "execution_count": 33,
   "id": "46637e0e-0633-493b-8536-98048f1a48a2",
   "metadata": {},
   "outputs": [
    {
     "data": {
      "text/plain": [
       "(8, 5)"
      ]
     },
     "execution_count": 33,
     "metadata": {},
     "output_type": "execute_result"
    }
   ],
   "source": [
    "#.shape \treturns the size (row, column) of the DataFrame\n",
    "df.shape"
   ]
  },
  {
   "cell_type": "code",
   "execution_count": 34,
   "id": "f76dab7a-53c5-4632-bcfe-9b5b045137a8",
   "metadata": {},
   "outputs": [
    {
     "data": {
      "text/plain": [
       "array([['Chicken', 'Bird', 2, 2, 'Feathers'],\n",
       "       ['Guppy', 'Fish', 0, 0, 'Tail'],\n",
       "       ['Elephant', 'Mammal', 4, 0, 'Trunk'],\n",
       "       ['Butterfly', 'Insect', 6, 4, 'Wings'],\n",
       "       ['Giraffe', 'Mammal', 4, 0, 'Long Neck'],\n",
       "       ['Spider', 'Arachnid', 8, 0, 'Exoskeleton'],\n",
       "       ['Turtle', 'Reptile', 4, 0, 'Shell'],\n",
       "       ['Beetle', 'Insect', 6, 4, 'Elytra-Wings']], dtype=object)"
      ]
     },
     "execution_count": 34,
     "metadata": {},
     "output_type": "execute_result"
    }
   ],
   "source": [
    "# Retrieve the values in the dataframe\n",
    "df.values"
   ]
  },
  {
   "cell_type": "code",
   "execution_count": 35,
   "id": "88fce138-750c-4cb4-bf49-91a537dd237e",
   "metadata": {},
   "outputs": [
    {
     "data": {
      "text/plain": [
       "Index(['Animal', 'Group', 'Num_Legs', 'Num_Wings', 'Significant_Feature'], dtype='object')"
      ]
     },
     "execution_count": 35,
     "metadata": {},
     "output_type": "execute_result"
    }
   ],
   "source": [
    "#.columns \treturns a list of names of all columns\n",
    "df.columns"
   ]
  },
  {
   "cell_type": "code",
   "execution_count": 36,
   "id": "ccd1055b-9cd6-4cba-a80c-d1e5d8cb3845",
   "metadata": {},
   "outputs": [
    {
     "data": {
      "text/plain": [
       "RangeIndex(start=0, stop=8, step=1)"
      ]
     },
     "execution_count": 36,
     "metadata": {},
     "output_type": "execute_result"
    }
   ],
   "source": [
    "# returns the index object\n",
    "df.index"
   ]
  },
  {
   "attachments": {},
   "cell_type": "markdown",
   "id": "5171ec24-a83c-48ed-b571-88cbe914268a",
   "metadata": {},
   "source": [
    "### **Exercise 3**\n",
    "#### DataFrame Simple Exploratory Data Analysis (EDA)\n"
   ]
  },
  {
   "cell_type": "markdown",
   "id": "565faff0-881b-4123-b785-80f3d98b9b10",
   "metadata": {},
   "source": [
    "Use pandas EDA commands for the below questions:\n",
    "\n",
    "1. Create a DataFrame name `scores` using the following data.\n",
    "2. Display the first 4 rows of the DataFrame\n",
    "3. Display the number of rows and columns\n",
    "4. Display the `.info()` output for the DataFrame\n",
    "5. Extract the names of the columns as a list\n",
    "6. Display the data types for all column (ie. use `dtypes` property)\n",
    "7. Display the basic statistical details (mean, max, min, etc) using the `describe()` method."
   ]
  },
  {
   "cell_type": "code",
   "execution_count": 38,
   "id": "6e0f14b0-edfb-4a21-a9d8-13ffeb903f72",
   "metadata": {},
   "outputs": [],
   "source": [
    "# Data for datafram 'scores'\n",
    "\n",
    "student_ids = [1001, 1002, 1003, 1004, 1005, 1006, 1007]\n",
    "names = ['Tom', 'Dick', 'Mary', 'Jim', 'Bob', 'Nick', 'Anne']\n",
    "science = [85, 25, 70, 78, 68, 79, 80]\n",
    "maths = [78, 36, 52, 0, 45, 65, 95]\n",
    "english = [92, 45, 75, 75, 92, 75, 83]\n"
   ]
  },
  {
   "cell_type": "code",
   "execution_count": 39,
   "id": "eb18aaff-b34c-4649-a888-a9c63c3fe42a",
   "metadata": {
    "scrolled": true
   },
   "outputs": [
    {
     "name": "stdout",
     "output_type": "stream",
     "text": [
      "   Student_ID  Name  Science  Maths  English\n",
      "0        1001   Tom       85     78       92\n",
      "1        1002  Dick       25     36       45\n",
      "2        1003  Mary       70     52       75\n",
      "3        1004   Jim       78      0       75\n",
      "4        1005   Bob       68     45       92\n",
      "5        1006  Nick       79     65       75\n",
      "6        1007  Anne       80     95       83\n"
     ]
    }
   ],
   "source": [
    "# Answer 1:\n",
    "# Create a dictionary from the data lists\n",
    "data = {\n",
    "     'Student_ID' : student_ids,\n",
    "     'Name': names,\n",
    "     'Science': science,\n",
    "     'Maths': maths,\n",
    "     'English': english\n",
    "}\n",
    "\n",
    "# Create a DataFrame 'score' using the above dictionary\n",
    "scores = pd.DataFrame(data)\n",
    "\n",
    "# Display the DataFrame\n",
    "print(scores)\n",
    "\n"
   ]
  },
  {
   "cell_type": "markdown",
   "id": "95b819f6-f938-4101-a678-aa6dacbd6c9f",
   "metadata": {},
   "source": [
    "##### Answers 2 - 8 here:"
   ]
  },
  {
   "cell_type": "code",
   "execution_count": 40,
   "id": "3f4f5496-2942-4786-b075-21151fd312a3",
   "metadata": {},
   "outputs": [
    {
     "data": {
      "text/html": [
       "<div>\n",
       "<style scoped>\n",
       "    .dataframe tbody tr th:only-of-type {\n",
       "        vertical-align: middle;\n",
       "    }\n",
       "\n",
       "    .dataframe tbody tr th {\n",
       "        vertical-align: top;\n",
       "    }\n",
       "\n",
       "    .dataframe thead th {\n",
       "        text-align: right;\n",
       "    }\n",
       "</style>\n",
       "<table border=\"1\" class=\"dataframe\">\n",
       "  <thead>\n",
       "    <tr style=\"text-align: right;\">\n",
       "      <th></th>\n",
       "      <th>Student_ID</th>\n",
       "      <th>Name</th>\n",
       "      <th>Science</th>\n",
       "      <th>Maths</th>\n",
       "      <th>English</th>\n",
       "    </tr>\n",
       "  </thead>\n",
       "  <tbody>\n",
       "    <tr>\n",
       "      <th>0</th>\n",
       "      <td>1001</td>\n",
       "      <td>Tom</td>\n",
       "      <td>85</td>\n",
       "      <td>78</td>\n",
       "      <td>92</td>\n",
       "    </tr>\n",
       "    <tr>\n",
       "      <th>1</th>\n",
       "      <td>1002</td>\n",
       "      <td>Dick</td>\n",
       "      <td>25</td>\n",
       "      <td>36</td>\n",
       "      <td>45</td>\n",
       "    </tr>\n",
       "    <tr>\n",
       "      <th>2</th>\n",
       "      <td>1003</td>\n",
       "      <td>Mary</td>\n",
       "      <td>70</td>\n",
       "      <td>52</td>\n",
       "      <td>75</td>\n",
       "    </tr>\n",
       "    <tr>\n",
       "      <th>3</th>\n",
       "      <td>1004</td>\n",
       "      <td>Jim</td>\n",
       "      <td>78</td>\n",
       "      <td>0</td>\n",
       "      <td>75</td>\n",
       "    </tr>\n",
       "  </tbody>\n",
       "</table>\n",
       "</div>"
      ],
      "text/plain": [
       "   Student_ID  Name  Science  Maths  English\n",
       "0        1001   Tom       85     78       92\n",
       "1        1002  Dick       25     36       45\n",
       "2        1003  Mary       70     52       75\n",
       "3        1004   Jim       78      0       75"
      ]
     },
     "execution_count": 40,
     "metadata": {},
     "output_type": "execute_result"
    }
   ],
   "source": [
    "# 2.Display the first 4 rows of the DataFrame\n",
    "scores.head(4)"
   ]
  },
  {
   "cell_type": "code",
   "execution_count": 41,
   "id": "789e73bc-82e4-4791-8cc4-a4e2f12315d9",
   "metadata": {},
   "outputs": [
    {
     "data": {
      "text/plain": [
       "(7, 5)"
      ]
     },
     "execution_count": 41,
     "metadata": {},
     "output_type": "execute_result"
    }
   ],
   "source": [
    "# 3. Find the number of rows and columns (use the shape preperty)\n",
    "scores.shape"
   ]
  },
  {
   "cell_type": "code",
   "execution_count": 42,
   "id": "2f741a9a-5fd6-4a2b-8b3e-4a6cf47d02cc",
   "metadata": {},
   "outputs": [
    {
     "name": "stdout",
     "output_type": "stream",
     "text": [
      "<class 'pandas.core.frame.DataFrame'>\n",
      "RangeIndex: 7 entries, 0 to 6\n",
      "Data columns (total 5 columns):\n",
      " #   Column      Non-Null Count  Dtype \n",
      "---  ------      --------------  ----- \n",
      " 0   Student_ID  7 non-null      int64 \n",
      " 1   Name        7 non-null      object\n",
      " 2   Science     7 non-null      int64 \n",
      " 3   Maths       7 non-null      int64 \n",
      " 4   English     7 non-null      int64 \n",
      "dtypes: int64(4), object(1)\n",
      "memory usage: 412.0+ bytes\n"
     ]
    }
   ],
   "source": [
    "# 4. Display the .info() output for the DataFrame\n",
    "scores.info()"
   ]
  },
  {
   "cell_type": "code",
   "execution_count": 43,
   "id": "0058278c-a7c7-48f1-a187-cec6534c8ef8",
   "metadata": {},
   "outputs": [
    {
     "data": {
      "text/plain": [
       "Index(['Student_ID', 'Name', 'Science', 'Maths', 'English'], dtype='object')"
      ]
     },
     "execution_count": 43,
     "metadata": {},
     "output_type": "execute_result"
    }
   ],
   "source": [
    "# 5. Extract the names of the columns as a list using the .columns property\n",
    "scores.columns"
   ]
  },
  {
   "cell_type": "code",
   "execution_count": 44,
   "id": "4e84c8a6-2fa9-4135-8fc5-02fcc6ecafc4",
   "metadata": {},
   "outputs": [
    {
     "data": {
      "text/plain": [
       "Student_ID     int64\n",
       "Name          object\n",
       "Science        int64\n",
       "Maths          int64\n",
       "English        int64\n",
       "dtype: object"
      ]
     },
     "execution_count": 44,
     "metadata": {},
     "output_type": "execute_result"
    }
   ],
   "source": [
    "# 6. Display the data types for all column (ie. use dtypes)\n",
    "scores.dtypes"
   ]
  },
  {
   "cell_type": "code",
   "execution_count": 45,
   "id": "e16bc1c2-814e-424e-9d9a-cc50efa7a92d",
   "metadata": {},
   "outputs": [
    {
     "data": {
      "text/html": [
       "<div>\n",
       "<style scoped>\n",
       "    .dataframe tbody tr th:only-of-type {\n",
       "        vertical-align: middle;\n",
       "    }\n",
       "\n",
       "    .dataframe tbody tr th {\n",
       "        vertical-align: top;\n",
       "    }\n",
       "\n",
       "    .dataframe thead th {\n",
       "        text-align: right;\n",
       "    }\n",
       "</style>\n",
       "<table border=\"1\" class=\"dataframe\">\n",
       "  <thead>\n",
       "    <tr style=\"text-align: right;\">\n",
       "      <th></th>\n",
       "      <th>Student_ID</th>\n",
       "      <th>Science</th>\n",
       "      <th>Maths</th>\n",
       "      <th>English</th>\n",
       "    </tr>\n",
       "  </thead>\n",
       "  <tbody>\n",
       "    <tr>\n",
       "      <th>count</th>\n",
       "      <td>7.000000</td>\n",
       "      <td>7.000000</td>\n",
       "      <td>7.000000</td>\n",
       "      <td>7.000000</td>\n",
       "    </tr>\n",
       "    <tr>\n",
       "      <th>mean</th>\n",
       "      <td>1004.000000</td>\n",
       "      <td>69.285714</td>\n",
       "      <td>53.000000</td>\n",
       "      <td>76.714286</td>\n",
       "    </tr>\n",
       "    <tr>\n",
       "      <th>std</th>\n",
       "      <td>2.160247</td>\n",
       "      <td>20.393743</td>\n",
       "      <td>30.811253</td>\n",
       "      <td>15.923926</td>\n",
       "    </tr>\n",
       "    <tr>\n",
       "      <th>min</th>\n",
       "      <td>1001.000000</td>\n",
       "      <td>25.000000</td>\n",
       "      <td>0.000000</td>\n",
       "      <td>45.000000</td>\n",
       "    </tr>\n",
       "    <tr>\n",
       "      <th>25%</th>\n",
       "      <td>1002.500000</td>\n",
       "      <td>69.000000</td>\n",
       "      <td>40.500000</td>\n",
       "      <td>75.000000</td>\n",
       "    </tr>\n",
       "    <tr>\n",
       "      <th>50%</th>\n",
       "      <td>1004.000000</td>\n",
       "      <td>78.000000</td>\n",
       "      <td>52.000000</td>\n",
       "      <td>75.000000</td>\n",
       "    </tr>\n",
       "    <tr>\n",
       "      <th>75%</th>\n",
       "      <td>1005.500000</td>\n",
       "      <td>79.500000</td>\n",
       "      <td>71.500000</td>\n",
       "      <td>87.500000</td>\n",
       "    </tr>\n",
       "    <tr>\n",
       "      <th>max</th>\n",
       "      <td>1007.000000</td>\n",
       "      <td>85.000000</td>\n",
       "      <td>95.000000</td>\n",
       "      <td>92.000000</td>\n",
       "    </tr>\n",
       "  </tbody>\n",
       "</table>\n",
       "</div>"
      ],
      "text/plain": [
       "        Student_ID    Science      Maths    English\n",
       "count     7.000000   7.000000   7.000000   7.000000\n",
       "mean   1004.000000  69.285714  53.000000  76.714286\n",
       "std       2.160247  20.393743  30.811253  15.923926\n",
       "min    1001.000000  25.000000   0.000000  45.000000\n",
       "25%    1002.500000  69.000000  40.500000  75.000000\n",
       "50%    1004.000000  78.000000  52.000000  75.000000\n",
       "75%    1005.500000  79.500000  71.500000  87.500000\n",
       "max    1007.000000  85.000000  95.000000  92.000000"
      ]
     },
     "execution_count": 45,
     "metadata": {},
     "output_type": "execute_result"
    }
   ],
   "source": [
    "# 7. Display the basic statistical details (mean, max, min, etc) with the describe() method.\n",
    "scores.describe()\n"
   ]
  },
  {
   "attachments": {},
   "cell_type": "markdown",
   "id": "e97ace4b-5128-4841-90ea-3a93859c9b93",
   "metadata": {},
   "source": [
    "# 5. Selecting Columns and Rows"
   ]
  },
  {
   "cell_type": "markdown",
   "id": "b8dab8af-b264-4b53-9bd6-64f51c12aa17",
   "metadata": {},
   "source": [
    "##### Reload the animal dataframe before continuing:"
   ]
  },
  {
   "cell_type": "code",
   "execution_count": 48,
   "id": "f0dc30bb-c65a-4692-ad6d-4415e9c9298d",
   "metadata": {},
   "outputs": [
    {
     "data": {
      "text/html": [
       "<div>\n",
       "<style scoped>\n",
       "    .dataframe tbody tr th:only-of-type {\n",
       "        vertical-align: middle;\n",
       "    }\n",
       "\n",
       "    .dataframe tbody tr th {\n",
       "        vertical-align: top;\n",
       "    }\n",
       "\n",
       "    .dataframe thead th {\n",
       "        text-align: right;\n",
       "    }\n",
       "</style>\n",
       "<table border=\"1\" class=\"dataframe\">\n",
       "  <thead>\n",
       "    <tr style=\"text-align: right;\">\n",
       "      <th></th>\n",
       "      <th>Animal</th>\n",
       "      <th>Group</th>\n",
       "      <th>Num_Legs</th>\n",
       "      <th>Num_Wings</th>\n",
       "      <th>Significant_Feature</th>\n",
       "    </tr>\n",
       "  </thead>\n",
       "  <tbody>\n",
       "    <tr>\n",
       "      <th>0</th>\n",
       "      <td>Chicken</td>\n",
       "      <td>Bird</td>\n",
       "      <td>2</td>\n",
       "      <td>2</td>\n",
       "      <td>Feathers</td>\n",
       "    </tr>\n",
       "    <tr>\n",
       "      <th>1</th>\n",
       "      <td>Guppy</td>\n",
       "      <td>Fish</td>\n",
       "      <td>0</td>\n",
       "      <td>0</td>\n",
       "      <td>Tail</td>\n",
       "    </tr>\n",
       "    <tr>\n",
       "      <th>2</th>\n",
       "      <td>Elephant</td>\n",
       "      <td>Mammal</td>\n",
       "      <td>4</td>\n",
       "      <td>0</td>\n",
       "      <td>Trunk</td>\n",
       "    </tr>\n",
       "    <tr>\n",
       "      <th>3</th>\n",
       "      <td>Butterfly</td>\n",
       "      <td>Insect</td>\n",
       "      <td>6</td>\n",
       "      <td>4</td>\n",
       "      <td>Wings</td>\n",
       "    </tr>\n",
       "    <tr>\n",
       "      <th>4</th>\n",
       "      <td>Giraffe</td>\n",
       "      <td>Mammal</td>\n",
       "      <td>4</td>\n",
       "      <td>0</td>\n",
       "      <td>Long Neck</td>\n",
       "    </tr>\n",
       "    <tr>\n",
       "      <th>5</th>\n",
       "      <td>Spider</td>\n",
       "      <td>Arachnid</td>\n",
       "      <td>8</td>\n",
       "      <td>0</td>\n",
       "      <td>Exoskeleton</td>\n",
       "    </tr>\n",
       "    <tr>\n",
       "      <th>6</th>\n",
       "      <td>Turtle</td>\n",
       "      <td>Reptile</td>\n",
       "      <td>4</td>\n",
       "      <td>0</td>\n",
       "      <td>Shell</td>\n",
       "    </tr>\n",
       "    <tr>\n",
       "      <th>7</th>\n",
       "      <td>Beetle</td>\n",
       "      <td>Insect</td>\n",
       "      <td>6</td>\n",
       "      <td>4</td>\n",
       "      <td>Elytra-Wings</td>\n",
       "    </tr>\n",
       "  </tbody>\n",
       "</table>\n",
       "</div>"
      ],
      "text/plain": [
       "      Animal     Group  Num_Legs  Num_Wings Significant_Feature\n",
       "0    Chicken      Bird         2          2            Feathers\n",
       "1      Guppy      Fish         0          0                Tail\n",
       "2   Elephant    Mammal         4          0               Trunk\n",
       "3  Butterfly    Insect         6          4               Wings\n",
       "4    Giraffe    Mammal         4          0           Long Neck\n",
       "5     Spider  Arachnid         8          0         Exoskeleton\n",
       "6     Turtle   Reptile         4          0               Shell\n",
       "7     Beetle    Insect         6          4        Elytra-Wings"
      ]
     },
     "execution_count": 48,
     "metadata": {},
     "output_type": "execute_result"
    }
   ],
   "source": [
    "df = pd.read_csv(\"animal_data.csv\")\n",
    "df"
   ]
  },
  {
   "cell_type": "markdown",
   "id": "0c0b74ff-30f4-4183-a5b5-6de924b2144e",
   "metadata": {},
   "source": [
    "##### Accessing a single column by Column Name: \n"
   ]
  },
  {
   "cell_type": "code",
   "execution_count": 49,
   "id": "13f4d55b-7147-4f62-8df4-2899a2e9ac9f",
   "metadata": {},
   "outputs": [
    {
     "data": {
      "text/plain": [
       "0      Chicken\n",
       "1        Guppy\n",
       "2     Elephant\n",
       "3    Butterfly\n",
       "4      Giraffe\n",
       "5       Spider\n",
       "6       Turtle\n",
       "7       Beetle\n",
       "Name: Animal, dtype: object"
      ]
     },
     "execution_count": 49,
     "metadata": {},
     "output_type": "execute_result"
    }
   ],
   "source": [
    "# Selecting (Subsetting) a Column\n",
    "df[ \"Animal\" ]"
   ]
  },
  {
   "cell_type": "code",
   "execution_count": 50,
   "id": "e62f0493-99d5-4040-a9cb-f8e9d64f453a",
   "metadata": {},
   "outputs": [
    {
     "data": {
      "text/plain": [
       "0        Bird\n",
       "1        Fish\n",
       "2      Mammal\n",
       "3      Insect\n",
       "4      Mammal\n",
       "5    Arachnid\n",
       "6     Reptile\n",
       "7      Insect\n",
       "Name: Group, dtype: object"
      ]
     },
     "execution_count": 50,
     "metadata": {},
     "output_type": "execute_result"
    }
   ],
   "source": [
    "# Selecting a Column (2)\n",
    "df[ \"Group\" ]"
   ]
  },
  {
   "cell_type": "markdown",
   "id": "a6fccf50-bb47-42cc-b4d7-ce2d5a43654a",
   "metadata": {},
   "source": [
    "##### Selecting Data: Multiple Columns"
   ]
  },
  {
   "cell_type": "code",
   "execution_count": 51,
   "id": "85eb1daa-a989-4b98-be2f-6085f8561758",
   "metadata": {},
   "outputs": [
    {
     "data": {
      "text/html": [
       "<div>\n",
       "<style scoped>\n",
       "    .dataframe tbody tr th:only-of-type {\n",
       "        vertical-align: middle;\n",
       "    }\n",
       "\n",
       "    .dataframe tbody tr th {\n",
       "        vertical-align: top;\n",
       "    }\n",
       "\n",
       "    .dataframe thead th {\n",
       "        text-align: right;\n",
       "    }\n",
       "</style>\n",
       "<table border=\"1\" class=\"dataframe\">\n",
       "  <thead>\n",
       "    <tr style=\"text-align: right;\">\n",
       "      <th></th>\n",
       "      <th>Animal</th>\n",
       "      <th>Num_Legs</th>\n",
       "      <th>Group</th>\n",
       "    </tr>\n",
       "  </thead>\n",
       "  <tbody>\n",
       "    <tr>\n",
       "      <th>0</th>\n",
       "      <td>Chicken</td>\n",
       "      <td>2</td>\n",
       "      <td>Bird</td>\n",
       "    </tr>\n",
       "    <tr>\n",
       "      <th>1</th>\n",
       "      <td>Guppy</td>\n",
       "      <td>0</td>\n",
       "      <td>Fish</td>\n",
       "    </tr>\n",
       "    <tr>\n",
       "      <th>2</th>\n",
       "      <td>Elephant</td>\n",
       "      <td>4</td>\n",
       "      <td>Mammal</td>\n",
       "    </tr>\n",
       "    <tr>\n",
       "      <th>3</th>\n",
       "      <td>Butterfly</td>\n",
       "      <td>6</td>\n",
       "      <td>Insect</td>\n",
       "    </tr>\n",
       "    <tr>\n",
       "      <th>4</th>\n",
       "      <td>Giraffe</td>\n",
       "      <td>4</td>\n",
       "      <td>Mammal</td>\n",
       "    </tr>\n",
       "    <tr>\n",
       "      <th>5</th>\n",
       "      <td>Spider</td>\n",
       "      <td>8</td>\n",
       "      <td>Arachnid</td>\n",
       "    </tr>\n",
       "    <tr>\n",
       "      <th>6</th>\n",
       "      <td>Turtle</td>\n",
       "      <td>4</td>\n",
       "      <td>Reptile</td>\n",
       "    </tr>\n",
       "    <tr>\n",
       "      <th>7</th>\n",
       "      <td>Beetle</td>\n",
       "      <td>6</td>\n",
       "      <td>Insect</td>\n",
       "    </tr>\n",
       "  </tbody>\n",
       "</table>\n",
       "</div>"
      ],
      "text/plain": [
       "      Animal  Num_Legs     Group\n",
       "0    Chicken         2      Bird\n",
       "1      Guppy         0      Fish\n",
       "2   Elephant         4    Mammal\n",
       "3  Butterfly         6    Insect\n",
       "4    Giraffe         4    Mammal\n",
       "5     Spider         8  Arachnid\n",
       "6     Turtle         4   Reptile\n",
       "7     Beetle         6    Insect"
      ]
     },
     "execution_count": 51,
     "metadata": {},
     "output_type": "execute_result"
    }
   ],
   "source": [
    "# Selecting Multiple Column Names, provided as a list:\n",
    "df[ [\"Animal\",  \"Num_Legs\", \"Group\"] ]"
   ]
  },
  {
   "attachments": {},
   "cell_type": "markdown",
   "id": "b3895848-a7ad-482e-b361-dadb49b9ee4d",
   "metadata": {},
   "source": [
    "##### Selecting Rows Data using Boolean Array"
   ]
  },
  {
   "cell_type": "code",
   "execution_count": 52,
   "id": "a1af347c-92ec-4c63-847c-f10086e7119b",
   "metadata": {},
   "outputs": [
    {
     "data": {
      "text/plain": [
       "0    False\n",
       "1     True\n",
       "2    False\n",
       "3    False\n",
       "4    False\n",
       "5    False\n",
       "6    False\n",
       "7    False\n",
       "Name: Animal, dtype: bool"
      ]
     },
     "execution_count": 52,
     "metadata": {},
     "output_type": "execute_result"
    }
   ],
   "source": [
    "# Selecting Rows (slicing data using a Boolean array)\n",
    "df[\"Animal\"] == \"Guppy\""
   ]
  },
  {
   "cell_type": "code",
   "execution_count": 53,
   "id": "c7d3fdb3-e790-4ce6-8cb8-4efb9d2ac200",
   "metadata": {
    "scrolled": true
   },
   "outputs": [
    {
     "data": {
      "text/html": [
       "<div>\n",
       "<style scoped>\n",
       "    .dataframe tbody tr th:only-of-type {\n",
       "        vertical-align: middle;\n",
       "    }\n",
       "\n",
       "    .dataframe tbody tr th {\n",
       "        vertical-align: top;\n",
       "    }\n",
       "\n",
       "    .dataframe thead th {\n",
       "        text-align: right;\n",
       "    }\n",
       "</style>\n",
       "<table border=\"1\" class=\"dataframe\">\n",
       "  <thead>\n",
       "    <tr style=\"text-align: right;\">\n",
       "      <th></th>\n",
       "      <th>Animal</th>\n",
       "      <th>Group</th>\n",
       "      <th>Num_Legs</th>\n",
       "      <th>Num_Wings</th>\n",
       "      <th>Significant_Feature</th>\n",
       "    </tr>\n",
       "  </thead>\n",
       "  <tbody>\n",
       "    <tr>\n",
       "      <th>1</th>\n",
       "      <td>Guppy</td>\n",
       "      <td>Fish</td>\n",
       "      <td>0</td>\n",
       "      <td>0</td>\n",
       "      <td>Tail</td>\n",
       "    </tr>\n",
       "  </tbody>\n",
       "</table>\n",
       "</div>"
      ],
      "text/plain": [
       "  Animal Group  Num_Legs  Num_Wings Significant_Feature\n",
       "1  Guppy  Fish         0          0                Tail"
      ]
     },
     "execution_count": 53,
     "metadata": {},
     "output_type": "execute_result"
    }
   ],
   "source": [
    "# Selecting based on Text Data\n",
    "df[ df[\"Animal\"]  == \"Guppy\" ] "
   ]
  },
  {
   "cell_type": "code",
   "execution_count": 54,
   "id": "0aa139cc-395e-4262-abad-a550461bd02a",
   "metadata": {},
   "outputs": [
    {
     "data": {
      "text/html": [
       "<div>\n",
       "<style scoped>\n",
       "    .dataframe tbody tr th:only-of-type {\n",
       "        vertical-align: middle;\n",
       "    }\n",
       "\n",
       "    .dataframe tbody tr th {\n",
       "        vertical-align: top;\n",
       "    }\n",
       "\n",
       "    .dataframe thead th {\n",
       "        text-align: right;\n",
       "    }\n",
       "</style>\n",
       "<table border=\"1\" class=\"dataframe\">\n",
       "  <thead>\n",
       "    <tr style=\"text-align: right;\">\n",
       "      <th></th>\n",
       "      <th>Animal</th>\n",
       "      <th>Group</th>\n",
       "      <th>Num_Legs</th>\n",
       "      <th>Num_Wings</th>\n",
       "      <th>Significant_Feature</th>\n",
       "    </tr>\n",
       "  </thead>\n",
       "  <tbody>\n",
       "    <tr>\n",
       "      <th>2</th>\n",
       "      <td>Elephant</td>\n",
       "      <td>Mammal</td>\n",
       "      <td>4</td>\n",
       "      <td>0</td>\n",
       "      <td>Trunk</td>\n",
       "    </tr>\n",
       "  </tbody>\n",
       "</table>\n",
       "</div>"
      ],
      "text/plain": [
       "     Animal   Group  Num_Legs  Num_Wings Significant_Feature\n",
       "2  Elephant  Mammal         4          0               Trunk"
      ]
     },
     "execution_count": 54,
     "metadata": {},
     "output_type": "execute_result"
    }
   ],
   "source": [
    "# Another Example:\n",
    "# Selecting based on Text Data\n",
    "df[ df[\"Significant_Feature\"] == \"Trunk\" ]"
   ]
  },
  {
   "cell_type": "markdown",
   "id": "8c6e8e63-98aa-40d3-9f10-e1a7bd8cfd58",
   "metadata": {},
   "source": [
    "##### Selecting Data using .isin()"
   ]
  },
  {
   "cell_type": "code",
   "execution_count": 55,
   "id": "4c376f17-3ea6-47be-88cf-5a3eb089fdbe",
   "metadata": {},
   "outputs": [
    {
     "data": {
      "text/plain": [
       "0    False\n",
       "1    False\n",
       "2    False\n",
       "3     True\n",
       "4    False\n",
       "5     True\n",
       "6    False\n",
       "7     True\n",
       "Name: Group, dtype: bool"
      ]
     },
     "execution_count": 55,
     "metadata": {},
     "output_type": "execute_result"
    }
   ],
   "source": [
    "# Selecting using .isin()                 \n",
    "invertebrates = df[\"Group\"].isin([\"Insect\", \"Arachnid\"]) \n",
    "invertebrates"
   ]
  },
  {
   "cell_type": "code",
   "execution_count": 56,
   "id": "ade39d14-2160-4c83-ab65-55f48797d33d",
   "metadata": {},
   "outputs": [
    {
     "data": {
      "text/html": [
       "<div>\n",
       "<style scoped>\n",
       "    .dataframe tbody tr th:only-of-type {\n",
       "        vertical-align: middle;\n",
       "    }\n",
       "\n",
       "    .dataframe tbody tr th {\n",
       "        vertical-align: top;\n",
       "    }\n",
       "\n",
       "    .dataframe thead th {\n",
       "        text-align: right;\n",
       "    }\n",
       "</style>\n",
       "<table border=\"1\" class=\"dataframe\">\n",
       "  <thead>\n",
       "    <tr style=\"text-align: right;\">\n",
       "      <th></th>\n",
       "      <th>Animal</th>\n",
       "      <th>Group</th>\n",
       "      <th>Num_Legs</th>\n",
       "      <th>Num_Wings</th>\n",
       "      <th>Significant_Feature</th>\n",
       "    </tr>\n",
       "  </thead>\n",
       "  <tbody>\n",
       "    <tr>\n",
       "      <th>3</th>\n",
       "      <td>Butterfly</td>\n",
       "      <td>Insect</td>\n",
       "      <td>6</td>\n",
       "      <td>4</td>\n",
       "      <td>Wings</td>\n",
       "    </tr>\n",
       "    <tr>\n",
       "      <th>5</th>\n",
       "      <td>Spider</td>\n",
       "      <td>Arachnid</td>\n",
       "      <td>8</td>\n",
       "      <td>0</td>\n",
       "      <td>Exoskeleton</td>\n",
       "    </tr>\n",
       "    <tr>\n",
       "      <th>7</th>\n",
       "      <td>Beetle</td>\n",
       "      <td>Insect</td>\n",
       "      <td>6</td>\n",
       "      <td>4</td>\n",
       "      <td>Elytra-Wings</td>\n",
       "    </tr>\n",
       "  </tbody>\n",
       "</table>\n",
       "</div>"
      ],
      "text/plain": [
       "      Animal     Group  Num_Legs  Num_Wings Significant_Feature\n",
       "3  Butterfly    Insect         6          4               Wings\n",
       "5     Spider  Arachnid         8          0         Exoskeleton\n",
       "7     Beetle    Insect         6          4        Elytra-Wings"
      ]
     },
     "execution_count": 56,
     "metadata": {},
     "output_type": "execute_result"
    }
   ],
   "source": [
    "df[ invertebrates ] "
   ]
  },
  {
   "cell_type": "markdown",
   "id": "2b846b88-ff91-4cd7-8018-f6cf674eef41",
   "metadata": {},
   "source": [
    "##### Selecting Based on Single/Multiple Conditions:"
   ]
  },
  {
   "cell_type": "code",
   "execution_count": 57,
   "id": "1fb67164-b13b-4b47-9aaa-c7e6104172f5",
   "metadata": {},
   "outputs": [
    {
     "data": {
      "text/html": [
       "<div>\n",
       "<style scoped>\n",
       "    .dataframe tbody tr th:only-of-type {\n",
       "        vertical-align: middle;\n",
       "    }\n",
       "\n",
       "    .dataframe tbody tr th {\n",
       "        vertical-align: top;\n",
       "    }\n",
       "\n",
       "    .dataframe thead th {\n",
       "        text-align: right;\n",
       "    }\n",
       "</style>\n",
       "<table border=\"1\" class=\"dataframe\">\n",
       "  <thead>\n",
       "    <tr style=\"text-align: right;\">\n",
       "      <th></th>\n",
       "      <th>Animal</th>\n",
       "      <th>Group</th>\n",
       "      <th>Num_Legs</th>\n",
       "      <th>Num_Wings</th>\n",
       "      <th>Significant_Feature</th>\n",
       "    </tr>\n",
       "  </thead>\n",
       "  <tbody>\n",
       "    <tr>\n",
       "      <th>0</th>\n",
       "      <td>Chicken</td>\n",
       "      <td>Bird</td>\n",
       "      <td>2</td>\n",
       "      <td>2</td>\n",
       "      <td>Feathers</td>\n",
       "    </tr>\n",
       "    <tr>\n",
       "      <th>3</th>\n",
       "      <td>Butterfly</td>\n",
       "      <td>Insect</td>\n",
       "      <td>6</td>\n",
       "      <td>4</td>\n",
       "      <td>Wings</td>\n",
       "    </tr>\n",
       "    <tr>\n",
       "      <th>7</th>\n",
       "      <td>Beetle</td>\n",
       "      <td>Insect</td>\n",
       "      <td>6</td>\n",
       "      <td>4</td>\n",
       "      <td>Elytra-Wings</td>\n",
       "    </tr>\n",
       "  </tbody>\n",
       "</table>\n",
       "</div>"
      ],
      "text/plain": [
       "      Animal   Group  Num_Legs  Num_Wings Significant_Feature\n",
       "0    Chicken    Bird         2          2            Feathers\n",
       "3  Butterfly  Insect         6          4               Wings\n",
       "7     Beetle  Insect         6          4        Elytra-Wings"
      ]
     },
     "execution_count": 57,
     "metadata": {},
     "output_type": "execute_result"
    }
   ],
   "source": [
    "# Selecting based on conditions\n",
    "df[ df[\"Num_Wings\"] > 0 ] "
   ]
  },
  {
   "cell_type": "code",
   "execution_count": 58,
   "id": "d76c9023-c885-48b3-8fb3-6787c444c180",
   "metadata": {},
   "outputs": [
    {
     "data": {
      "text/html": [
       "<div>\n",
       "<style scoped>\n",
       "    .dataframe tbody tr th:only-of-type {\n",
       "        vertical-align: middle;\n",
       "    }\n",
       "\n",
       "    .dataframe tbody tr th {\n",
       "        vertical-align: top;\n",
       "    }\n",
       "\n",
       "    .dataframe thead th {\n",
       "        text-align: right;\n",
       "    }\n",
       "</style>\n",
       "<table border=\"1\" class=\"dataframe\">\n",
       "  <thead>\n",
       "    <tr style=\"text-align: right;\">\n",
       "      <th></th>\n",
       "      <th>Animal</th>\n",
       "      <th>Group</th>\n",
       "      <th>Num_Legs</th>\n",
       "      <th>Num_Wings</th>\n",
       "      <th>Significant_Feature</th>\n",
       "    </tr>\n",
       "  </thead>\n",
       "  <tbody>\n",
       "    <tr>\n",
       "      <th>0</th>\n",
       "      <td>Chicken</td>\n",
       "      <td>Bird</td>\n",
       "      <td>2</td>\n",
       "      <td>2</td>\n",
       "      <td>Feathers</td>\n",
       "    </tr>\n",
       "    <tr>\n",
       "      <th>1</th>\n",
       "      <td>Guppy</td>\n",
       "      <td>Fish</td>\n",
       "      <td>0</td>\n",
       "      <td>0</td>\n",
       "      <td>Tail</td>\n",
       "    </tr>\n",
       "  </tbody>\n",
       "</table>\n",
       "</div>"
      ],
      "text/plain": [
       "    Animal Group  Num_Legs  Num_Wings Significant_Feature\n",
       "0  Chicken  Bird         2          2            Feathers\n",
       "1    Guppy  Fish         0          0                Tail"
      ]
     },
     "execution_count": 58,
     "metadata": {},
     "output_type": "execute_result"
    }
   ],
   "source": [
    "df[ df[\"Num_Legs\"] < 4] \n"
   ]
  },
  {
   "cell_type": "code",
   "execution_count": 59,
   "id": "ca741631-0a5c-495b-b342-b13d93732452",
   "metadata": {},
   "outputs": [
    {
     "data": {
      "text/plain": [
       "0     True\n",
       "1    False\n",
       "2    False\n",
       "3    False\n",
       "4    False\n",
       "5    False\n",
       "6    False\n",
       "7    False\n",
       "dtype: bool"
      ]
     },
     "execution_count": 59,
     "metadata": {},
     "output_type": "execute_result"
    }
   ],
   "source": [
    "# Boolean Array Based on Multiple Conditions\n",
    "(df[\"Num_Legs\"] < 4 ) & (df[\"Num_Wings\"] > 0)"
   ]
  },
  {
   "cell_type": "code",
   "execution_count": 60,
   "id": "16509f94-8c88-4ec5-b96a-546ceb75253d",
   "metadata": {},
   "outputs": [
    {
     "data": {
      "text/html": [
       "<div>\n",
       "<style scoped>\n",
       "    .dataframe tbody tr th:only-of-type {\n",
       "        vertical-align: middle;\n",
       "    }\n",
       "\n",
       "    .dataframe tbody tr th {\n",
       "        vertical-align: top;\n",
       "    }\n",
       "\n",
       "    .dataframe thead th {\n",
       "        text-align: right;\n",
       "    }\n",
       "</style>\n",
       "<table border=\"1\" class=\"dataframe\">\n",
       "  <thead>\n",
       "    <tr style=\"text-align: right;\">\n",
       "      <th></th>\n",
       "      <th>Animal</th>\n",
       "      <th>Group</th>\n",
       "      <th>Num_Legs</th>\n",
       "      <th>Num_Wings</th>\n",
       "      <th>Significant_Feature</th>\n",
       "    </tr>\n",
       "  </thead>\n",
       "  <tbody>\n",
       "    <tr>\n",
       "      <th>0</th>\n",
       "      <td>Chicken</td>\n",
       "      <td>Bird</td>\n",
       "      <td>2</td>\n",
       "      <td>2</td>\n",
       "      <td>Feathers</td>\n",
       "    </tr>\n",
       "  </tbody>\n",
       "</table>\n",
       "</div>"
      ],
      "text/plain": [
       "    Animal Group  Num_Legs  Num_Wings Significant_Feature\n",
       "0  Chicken  Bird         2          2            Feathers"
      ]
     },
     "execution_count": 60,
     "metadata": {},
     "output_type": "execute_result"
    }
   ],
   "source": [
    "# Subsetting based on multiple conditions\n",
    "df[ (df[\"Num_Legs\"] < 4 ) & (df[\"Num_Wings\"] > 0) ] "
   ]
  },
  {
   "attachments": {},
   "cell_type": "markdown",
   "id": "bf680d16-3206-4734-86c7-eee7db8aa9f3",
   "metadata": {},
   "source": [
    "### **Exercise 4**\n",
    "#### Selecting Columns and Rows"
   ]
  },
  {
   "cell_type": "markdown",
   "id": "6d93e8e1-6e60-4816-8b8c-7746eaf51225",
   "metadata": {},
   "source": [
    "1. Load animal_data.csv into a DataFrame name `animal` \n",
    "2. Extract the “Significant Feature” column into a list\n",
    "3. Identify the animal with “Shell” as its Significant Feature\n",
    "4. Find all animals with 4 legs, \n",
    "5. and count the number of animals with 4 legs\n",
    "6. Find all animals which are Mammals\n",
    "7. Count the number of animals in each animal group. Hint: use the .value_counts() method "
   ]
  },
  {
   "cell_type": "code",
   "execution_count": 62,
   "id": "dbd9c1cc-028d-428d-a1f4-4fec6d984e3c",
   "metadata": {},
   "outputs": [
    {
     "data": {
      "text/html": [
       "<div>\n",
       "<style scoped>\n",
       "    .dataframe tbody tr th:only-of-type {\n",
       "        vertical-align: middle;\n",
       "    }\n",
       "\n",
       "    .dataframe tbody tr th {\n",
       "        vertical-align: top;\n",
       "    }\n",
       "\n",
       "    .dataframe thead th {\n",
       "        text-align: right;\n",
       "    }\n",
       "</style>\n",
       "<table border=\"1\" class=\"dataframe\">\n",
       "  <thead>\n",
       "    <tr style=\"text-align: right;\">\n",
       "      <th></th>\n",
       "      <th>Animal</th>\n",
       "      <th>Group</th>\n",
       "      <th>Num_Legs</th>\n",
       "      <th>Num_Wings</th>\n",
       "      <th>Significant_Feature</th>\n",
       "    </tr>\n",
       "  </thead>\n",
       "  <tbody>\n",
       "    <tr>\n",
       "      <th>0</th>\n",
       "      <td>Chicken</td>\n",
       "      <td>Bird</td>\n",
       "      <td>2</td>\n",
       "      <td>2</td>\n",
       "      <td>Feathers</td>\n",
       "    </tr>\n",
       "    <tr>\n",
       "      <th>1</th>\n",
       "      <td>Guppy</td>\n",
       "      <td>Fish</td>\n",
       "      <td>0</td>\n",
       "      <td>0</td>\n",
       "      <td>Tail</td>\n",
       "    </tr>\n",
       "    <tr>\n",
       "      <th>2</th>\n",
       "      <td>Elephant</td>\n",
       "      <td>Mammal</td>\n",
       "      <td>4</td>\n",
       "      <td>0</td>\n",
       "      <td>Trunk</td>\n",
       "    </tr>\n",
       "    <tr>\n",
       "      <th>3</th>\n",
       "      <td>Butterfly</td>\n",
       "      <td>Insect</td>\n",
       "      <td>6</td>\n",
       "      <td>4</td>\n",
       "      <td>Wings</td>\n",
       "    </tr>\n",
       "    <tr>\n",
       "      <th>4</th>\n",
       "      <td>Giraffe</td>\n",
       "      <td>Mammal</td>\n",
       "      <td>4</td>\n",
       "      <td>0</td>\n",
       "      <td>Long Neck</td>\n",
       "    </tr>\n",
       "    <tr>\n",
       "      <th>5</th>\n",
       "      <td>Spider</td>\n",
       "      <td>Arachnid</td>\n",
       "      <td>8</td>\n",
       "      <td>0</td>\n",
       "      <td>Exoskeleton</td>\n",
       "    </tr>\n",
       "    <tr>\n",
       "      <th>6</th>\n",
       "      <td>Turtle</td>\n",
       "      <td>Reptile</td>\n",
       "      <td>4</td>\n",
       "      <td>0</td>\n",
       "      <td>Shell</td>\n",
       "    </tr>\n",
       "    <tr>\n",
       "      <th>7</th>\n",
       "      <td>Beetle</td>\n",
       "      <td>Insect</td>\n",
       "      <td>6</td>\n",
       "      <td>4</td>\n",
       "      <td>Elytra-Wings</td>\n",
       "    </tr>\n",
       "  </tbody>\n",
       "</table>\n",
       "</div>"
      ],
      "text/plain": [
       "      Animal     Group  Num_Legs  Num_Wings Significant_Feature\n",
       "0    Chicken      Bird         2          2            Feathers\n",
       "1      Guppy      Fish         0          0                Tail\n",
       "2   Elephant    Mammal         4          0               Trunk\n",
       "3  Butterfly    Insect         6          4               Wings\n",
       "4    Giraffe    Mammal         4          0           Long Neck\n",
       "5     Spider  Arachnid         8          0         Exoskeleton\n",
       "6     Turtle   Reptile         4          0               Shell\n",
       "7     Beetle    Insect         6          4        Elytra-Wings"
      ]
     },
     "execution_count": 62,
     "metadata": {},
     "output_type": "execute_result"
    }
   ],
   "source": [
    "# Place your answers here! \n",
    "import pandas as pd\n",
    "animal = pd.read_csv(\"animal_data.csv\")\n",
    "animal"
   ]
  },
  {
   "cell_type": "code",
   "execution_count": 66,
   "id": "7fe39add-9cd0-44dc-89d9-e33677983a36",
   "metadata": {},
   "outputs": [
    {
     "data": {
      "text/plain": [
       "0        Feathers\n",
       "1            Tail\n",
       "2           Trunk\n",
       "3           Wings\n",
       "4       Long Neck\n",
       "5     Exoskeleton\n",
       "6           Shell\n",
       "7    Elytra-Wings\n",
       "Name: Significant_Feature, dtype: object"
      ]
     },
     "execution_count": 66,
     "metadata": {},
     "output_type": "execute_result"
    }
   ],
   "source": [
    "# Place your answers here! \n",
    "animal[ \"Significant_Feature\"]"
   ]
  },
  {
   "cell_type": "code",
   "execution_count": 67,
   "id": "3babaafa-cb22-43ac-80d5-129c8a961338",
   "metadata": {},
   "outputs": [
    {
     "data": {
      "text/html": [
       "<div>\n",
       "<style scoped>\n",
       "    .dataframe tbody tr th:only-of-type {\n",
       "        vertical-align: middle;\n",
       "    }\n",
       "\n",
       "    .dataframe tbody tr th {\n",
       "        vertical-align: top;\n",
       "    }\n",
       "\n",
       "    .dataframe thead th {\n",
       "        text-align: right;\n",
       "    }\n",
       "</style>\n",
       "<table border=\"1\" class=\"dataframe\">\n",
       "  <thead>\n",
       "    <tr style=\"text-align: right;\">\n",
       "      <th></th>\n",
       "      <th>Animal</th>\n",
       "      <th>Group</th>\n",
       "      <th>Num_Legs</th>\n",
       "      <th>Num_Wings</th>\n",
       "      <th>Significant_Feature</th>\n",
       "    </tr>\n",
       "  </thead>\n",
       "  <tbody>\n",
       "    <tr>\n",
       "      <th>6</th>\n",
       "      <td>Turtle</td>\n",
       "      <td>Reptile</td>\n",
       "      <td>4</td>\n",
       "      <td>0</td>\n",
       "      <td>Shell</td>\n",
       "    </tr>\n",
       "  </tbody>\n",
       "</table>\n",
       "</div>"
      ],
      "text/plain": [
       "   Animal    Group  Num_Legs  Num_Wings Significant_Feature\n",
       "6  Turtle  Reptile         4          0               Shell"
      ]
     },
     "execution_count": 67,
     "metadata": {},
     "output_type": "execute_result"
    }
   ],
   "source": [
    "# Place your answers here! \n",
    "animal[animal[\"Significant_Feature\"] == \"Shell\"]"
   ]
  },
  {
   "cell_type": "code",
   "execution_count": 68,
   "id": "395d0a3e-fc5b-4f6c-bc20-38c7a098bf88",
   "metadata": {},
   "outputs": [
    {
     "data": {
      "text/html": [
       "<div>\n",
       "<style scoped>\n",
       "    .dataframe tbody tr th:only-of-type {\n",
       "        vertical-align: middle;\n",
       "    }\n",
       "\n",
       "    .dataframe tbody tr th {\n",
       "        vertical-align: top;\n",
       "    }\n",
       "\n",
       "    .dataframe thead th {\n",
       "        text-align: right;\n",
       "    }\n",
       "</style>\n",
       "<table border=\"1\" class=\"dataframe\">\n",
       "  <thead>\n",
       "    <tr style=\"text-align: right;\">\n",
       "      <th></th>\n",
       "      <th>Animal</th>\n",
       "      <th>Group</th>\n",
       "      <th>Num_Legs</th>\n",
       "      <th>Num_Wings</th>\n",
       "      <th>Significant_Feature</th>\n",
       "    </tr>\n",
       "  </thead>\n",
       "  <tbody>\n",
       "    <tr>\n",
       "      <th>2</th>\n",
       "      <td>Elephant</td>\n",
       "      <td>Mammal</td>\n",
       "      <td>4</td>\n",
       "      <td>0</td>\n",
       "      <td>Trunk</td>\n",
       "    </tr>\n",
       "    <tr>\n",
       "      <th>4</th>\n",
       "      <td>Giraffe</td>\n",
       "      <td>Mammal</td>\n",
       "      <td>4</td>\n",
       "      <td>0</td>\n",
       "      <td>Long Neck</td>\n",
       "    </tr>\n",
       "    <tr>\n",
       "      <th>6</th>\n",
       "      <td>Turtle</td>\n",
       "      <td>Reptile</td>\n",
       "      <td>4</td>\n",
       "      <td>0</td>\n",
       "      <td>Shell</td>\n",
       "    </tr>\n",
       "  </tbody>\n",
       "</table>\n",
       "</div>"
      ],
      "text/plain": [
       "     Animal    Group  Num_Legs  Num_Wings Significant_Feature\n",
       "2  Elephant   Mammal         4          0               Trunk\n",
       "4   Giraffe   Mammal         4          0           Long Neck\n",
       "6    Turtle  Reptile         4          0               Shell"
      ]
     },
     "execution_count": 68,
     "metadata": {},
     "output_type": "execute_result"
    }
   ],
   "source": [
    "# Place your answers here! \n",
    "animal[animal[\"Num_Legs\"] == 4]"
   ]
  },
  {
   "cell_type": "code",
   "execution_count": 70,
   "id": "1c4544d4-fd63-4356-a518-32a8b4306bea",
   "metadata": {},
   "outputs": [
    {
     "name": "stdout",
     "output_type": "stream",
     "text": [
      "Animal                 3\n",
      "Group                  3\n",
      "Num_Legs               3\n",
      "Num_Wings              3\n",
      "Significant_Feature    3\n",
      "dtype: int64\n"
     ]
    }
   ],
   "source": [
    "# Place your answers here!\n",
    "count = animal[animal[\"Num_Legs\"] == 4].count()\n",
    "print(count)"
   ]
  },
  {
   "cell_type": "code",
   "execution_count": 71,
   "id": "ab384d3a-9274-4269-ba38-105d6c0fb68c",
   "metadata": {},
   "outputs": [
    {
     "data": {
      "text/html": [
       "<div>\n",
       "<style scoped>\n",
       "    .dataframe tbody tr th:only-of-type {\n",
       "        vertical-align: middle;\n",
       "    }\n",
       "\n",
       "    .dataframe tbody tr th {\n",
       "        vertical-align: top;\n",
       "    }\n",
       "\n",
       "    .dataframe thead th {\n",
       "        text-align: right;\n",
       "    }\n",
       "</style>\n",
       "<table border=\"1\" class=\"dataframe\">\n",
       "  <thead>\n",
       "    <tr style=\"text-align: right;\">\n",
       "      <th></th>\n",
       "      <th>Animal</th>\n",
       "      <th>Group</th>\n",
       "      <th>Num_Legs</th>\n",
       "      <th>Num_Wings</th>\n",
       "      <th>Significant_Feature</th>\n",
       "    </tr>\n",
       "  </thead>\n",
       "  <tbody>\n",
       "    <tr>\n",
       "      <th>2</th>\n",
       "      <td>Elephant</td>\n",
       "      <td>Mammal</td>\n",
       "      <td>4</td>\n",
       "      <td>0</td>\n",
       "      <td>Trunk</td>\n",
       "    </tr>\n",
       "    <tr>\n",
       "      <th>4</th>\n",
       "      <td>Giraffe</td>\n",
       "      <td>Mammal</td>\n",
       "      <td>4</td>\n",
       "      <td>0</td>\n",
       "      <td>Long Neck</td>\n",
       "    </tr>\n",
       "  </tbody>\n",
       "</table>\n",
       "</div>"
      ],
      "text/plain": [
       "     Animal   Group  Num_Legs  Num_Wings Significant_Feature\n",
       "2  Elephant  Mammal         4          0               Trunk\n",
       "4   Giraffe  Mammal         4          0           Long Neck"
      ]
     },
     "execution_count": 71,
     "metadata": {},
     "output_type": "execute_result"
    }
   ],
   "source": [
    "animal[animal[\"Group\"] == \"Mammal\"]"
   ]
  },
  {
   "cell_type": "code",
   "execution_count": 72,
   "id": "8478ae43-1410-4e2f-805b-1713382177dd",
   "metadata": {},
   "outputs": [
    {
     "name": "stdout",
     "output_type": "stream",
     "text": [
      "Group\n",
      "Mammal      2\n",
      "Insect      2\n",
      "Bird        1\n",
      "Fish        1\n",
      "Arachnid    1\n",
      "Reptile     1\n",
      "Name: count, dtype: int64\n"
     ]
    }
   ],
   "source": [
    "count = animal[\"Group\"].value_counts()\n",
    "print(count)"
   ]
  },
  {
   "cell_type": "markdown",
   "id": "34b5c354-4ec5-4a71-bf36-79e05f679d42",
   "metadata": {},
   "source": [
    "# 6. Sorting DataFrames, Adding New Columns"
   ]
  },
  {
   "cell_type": "code",
   "execution_count": 73,
   "id": "0a7d856b-031a-4dd8-b2a6-f8b3879c6845",
   "metadata": {},
   "outputs": [
    {
     "data": {
      "text/html": [
       "<div>\n",
       "<style scoped>\n",
       "    .dataframe tbody tr th:only-of-type {\n",
       "        vertical-align: middle;\n",
       "    }\n",
       "\n",
       "    .dataframe tbody tr th {\n",
       "        vertical-align: top;\n",
       "    }\n",
       "\n",
       "    .dataframe thead th {\n",
       "        text-align: right;\n",
       "    }\n",
       "</style>\n",
       "<table border=\"1\" class=\"dataframe\">\n",
       "  <thead>\n",
       "    <tr style=\"text-align: right;\">\n",
       "      <th></th>\n",
       "      <th>Animal</th>\n",
       "      <th>Group</th>\n",
       "      <th>Num_Legs</th>\n",
       "      <th>Num_Wings</th>\n",
       "      <th>Significant_Feature</th>\n",
       "    </tr>\n",
       "  </thead>\n",
       "  <tbody>\n",
       "    <tr>\n",
       "      <th>0</th>\n",
       "      <td>Chicken</td>\n",
       "      <td>Bird</td>\n",
       "      <td>2</td>\n",
       "      <td>2</td>\n",
       "      <td>Feathers</td>\n",
       "    </tr>\n",
       "    <tr>\n",
       "      <th>1</th>\n",
       "      <td>Guppy</td>\n",
       "      <td>Fish</td>\n",
       "      <td>0</td>\n",
       "      <td>0</td>\n",
       "      <td>Tail</td>\n",
       "    </tr>\n",
       "    <tr>\n",
       "      <th>2</th>\n",
       "      <td>Elephant</td>\n",
       "      <td>Mammal</td>\n",
       "      <td>4</td>\n",
       "      <td>0</td>\n",
       "      <td>Trunk</td>\n",
       "    </tr>\n",
       "    <tr>\n",
       "      <th>3</th>\n",
       "      <td>Butterfly</td>\n",
       "      <td>Insect</td>\n",
       "      <td>6</td>\n",
       "      <td>4</td>\n",
       "      <td>Wings</td>\n",
       "    </tr>\n",
       "    <tr>\n",
       "      <th>4</th>\n",
       "      <td>Giraffe</td>\n",
       "      <td>Mammal</td>\n",
       "      <td>4</td>\n",
       "      <td>0</td>\n",
       "      <td>Long Neck</td>\n",
       "    </tr>\n",
       "    <tr>\n",
       "      <th>5</th>\n",
       "      <td>Spider</td>\n",
       "      <td>Arachnid</td>\n",
       "      <td>8</td>\n",
       "      <td>0</td>\n",
       "      <td>Exoskeleton</td>\n",
       "    </tr>\n",
       "    <tr>\n",
       "      <th>6</th>\n",
       "      <td>Turtle</td>\n",
       "      <td>Reptile</td>\n",
       "      <td>4</td>\n",
       "      <td>0</td>\n",
       "      <td>Shell</td>\n",
       "    </tr>\n",
       "    <tr>\n",
       "      <th>7</th>\n",
       "      <td>Beetle</td>\n",
       "      <td>Insect</td>\n",
       "      <td>6</td>\n",
       "      <td>4</td>\n",
       "      <td>Elytra-Wings</td>\n",
       "    </tr>\n",
       "  </tbody>\n",
       "</table>\n",
       "</div>"
      ],
      "text/plain": [
       "      Animal     Group  Num_Legs  Num_Wings Significant_Feature\n",
       "0    Chicken      Bird         2          2            Feathers\n",
       "1      Guppy      Fish         0          0                Tail\n",
       "2   Elephant    Mammal         4          0               Trunk\n",
       "3  Butterfly    Insect         6          4               Wings\n",
       "4    Giraffe    Mammal         4          0           Long Neck\n",
       "5     Spider  Arachnid         8          0         Exoskeleton\n",
       "6     Turtle   Reptile         4          0               Shell\n",
       "7     Beetle    Insect         6          4        Elytra-Wings"
      ]
     },
     "execution_count": 73,
     "metadata": {},
     "output_type": "execute_result"
    }
   ],
   "source": [
    "# Reload animal dataframe (reset)\n",
    "df = pd.read_csv(\"animal_data.csv\")\n",
    "df"
   ]
  },
  {
   "cell_type": "markdown",
   "id": "9b5255bd-558b-46cc-b5b7-053ea9ebb937",
   "metadata": {},
   "source": [
    ".sort_values( )  - sort according to column selected"
   ]
  },
  {
   "cell_type": "code",
   "execution_count": 74,
   "id": "39ae9488-8eeb-45c8-8c40-72e12a9d4419",
   "metadata": {},
   "outputs": [
    {
     "data": {
      "text/html": [
       "<div>\n",
       "<style scoped>\n",
       "    .dataframe tbody tr th:only-of-type {\n",
       "        vertical-align: middle;\n",
       "    }\n",
       "\n",
       "    .dataframe tbody tr th {\n",
       "        vertical-align: top;\n",
       "    }\n",
       "\n",
       "    .dataframe thead th {\n",
       "        text-align: right;\n",
       "    }\n",
       "</style>\n",
       "<table border=\"1\" class=\"dataframe\">\n",
       "  <thead>\n",
       "    <tr style=\"text-align: right;\">\n",
       "      <th></th>\n",
       "      <th>Animal</th>\n",
       "      <th>Group</th>\n",
       "      <th>Num_Legs</th>\n",
       "      <th>Num_Wings</th>\n",
       "      <th>Significant_Feature</th>\n",
       "    </tr>\n",
       "  </thead>\n",
       "  <tbody>\n",
       "    <tr>\n",
       "      <th>7</th>\n",
       "      <td>Beetle</td>\n",
       "      <td>Insect</td>\n",
       "      <td>6</td>\n",
       "      <td>4</td>\n",
       "      <td>Elytra-Wings</td>\n",
       "    </tr>\n",
       "    <tr>\n",
       "      <th>3</th>\n",
       "      <td>Butterfly</td>\n",
       "      <td>Insect</td>\n",
       "      <td>6</td>\n",
       "      <td>4</td>\n",
       "      <td>Wings</td>\n",
       "    </tr>\n",
       "    <tr>\n",
       "      <th>0</th>\n",
       "      <td>Chicken</td>\n",
       "      <td>Bird</td>\n",
       "      <td>2</td>\n",
       "      <td>2</td>\n",
       "      <td>Feathers</td>\n",
       "    </tr>\n",
       "    <tr>\n",
       "      <th>2</th>\n",
       "      <td>Elephant</td>\n",
       "      <td>Mammal</td>\n",
       "      <td>4</td>\n",
       "      <td>0</td>\n",
       "      <td>Trunk</td>\n",
       "    </tr>\n",
       "    <tr>\n",
       "      <th>4</th>\n",
       "      <td>Giraffe</td>\n",
       "      <td>Mammal</td>\n",
       "      <td>4</td>\n",
       "      <td>0</td>\n",
       "      <td>Long Neck</td>\n",
       "    </tr>\n",
       "    <tr>\n",
       "      <th>1</th>\n",
       "      <td>Guppy</td>\n",
       "      <td>Fish</td>\n",
       "      <td>0</td>\n",
       "      <td>0</td>\n",
       "      <td>Tail</td>\n",
       "    </tr>\n",
       "    <tr>\n",
       "      <th>5</th>\n",
       "      <td>Spider</td>\n",
       "      <td>Arachnid</td>\n",
       "      <td>8</td>\n",
       "      <td>0</td>\n",
       "      <td>Exoskeleton</td>\n",
       "    </tr>\n",
       "    <tr>\n",
       "      <th>6</th>\n",
       "      <td>Turtle</td>\n",
       "      <td>Reptile</td>\n",
       "      <td>4</td>\n",
       "      <td>0</td>\n",
       "      <td>Shell</td>\n",
       "    </tr>\n",
       "  </tbody>\n",
       "</table>\n",
       "</div>"
      ],
      "text/plain": [
       "      Animal     Group  Num_Legs  Num_Wings Significant_Feature\n",
       "7     Beetle    Insect         6          4        Elytra-Wings\n",
       "3  Butterfly    Insect         6          4               Wings\n",
       "0    Chicken      Bird         2          2            Feathers\n",
       "2   Elephant    Mammal         4          0               Trunk\n",
       "4    Giraffe    Mammal         4          0           Long Neck\n",
       "1      Guppy      Fish         0          0                Tail\n",
       "5     Spider  Arachnid         8          0         Exoskeleton\n",
       "6     Turtle   Reptile         4          0               Shell"
      ]
     },
     "execution_count": 74,
     "metadata": {},
     "output_type": "execute_result"
    }
   ],
   "source": [
    "# Sorting based on a column\n",
    "df.sort_values(\"Animal\")"
   ]
  },
  {
   "cell_type": "code",
   "execution_count": 75,
   "id": "2d552f97-5df4-47fc-8d09-ef6262660b54",
   "metadata": {},
   "outputs": [
    {
     "data": {
      "text/html": [
       "<div>\n",
       "<style scoped>\n",
       "    .dataframe tbody tr th:only-of-type {\n",
       "        vertical-align: middle;\n",
       "    }\n",
       "\n",
       "    .dataframe tbody tr th {\n",
       "        vertical-align: top;\n",
       "    }\n",
       "\n",
       "    .dataframe thead th {\n",
       "        text-align: right;\n",
       "    }\n",
       "</style>\n",
       "<table border=\"1\" class=\"dataframe\">\n",
       "  <thead>\n",
       "    <tr style=\"text-align: right;\">\n",
       "      <th></th>\n",
       "      <th>Animal</th>\n",
       "      <th>Group</th>\n",
       "      <th>Num_Legs</th>\n",
       "      <th>Num_Wings</th>\n",
       "      <th>Significant_Feature</th>\n",
       "    </tr>\n",
       "  </thead>\n",
       "  <tbody>\n",
       "    <tr>\n",
       "      <th>6</th>\n",
       "      <td>Turtle</td>\n",
       "      <td>Reptile</td>\n",
       "      <td>4</td>\n",
       "      <td>0</td>\n",
       "      <td>Shell</td>\n",
       "    </tr>\n",
       "    <tr>\n",
       "      <th>5</th>\n",
       "      <td>Spider</td>\n",
       "      <td>Arachnid</td>\n",
       "      <td>8</td>\n",
       "      <td>0</td>\n",
       "      <td>Exoskeleton</td>\n",
       "    </tr>\n",
       "    <tr>\n",
       "      <th>1</th>\n",
       "      <td>Guppy</td>\n",
       "      <td>Fish</td>\n",
       "      <td>0</td>\n",
       "      <td>0</td>\n",
       "      <td>Tail</td>\n",
       "    </tr>\n",
       "    <tr>\n",
       "      <th>4</th>\n",
       "      <td>Giraffe</td>\n",
       "      <td>Mammal</td>\n",
       "      <td>4</td>\n",
       "      <td>0</td>\n",
       "      <td>Long Neck</td>\n",
       "    </tr>\n",
       "    <tr>\n",
       "      <th>2</th>\n",
       "      <td>Elephant</td>\n",
       "      <td>Mammal</td>\n",
       "      <td>4</td>\n",
       "      <td>0</td>\n",
       "      <td>Trunk</td>\n",
       "    </tr>\n",
       "    <tr>\n",
       "      <th>0</th>\n",
       "      <td>Chicken</td>\n",
       "      <td>Bird</td>\n",
       "      <td>2</td>\n",
       "      <td>2</td>\n",
       "      <td>Feathers</td>\n",
       "    </tr>\n",
       "    <tr>\n",
       "      <th>3</th>\n",
       "      <td>Butterfly</td>\n",
       "      <td>Insect</td>\n",
       "      <td>6</td>\n",
       "      <td>4</td>\n",
       "      <td>Wings</td>\n",
       "    </tr>\n",
       "    <tr>\n",
       "      <th>7</th>\n",
       "      <td>Beetle</td>\n",
       "      <td>Insect</td>\n",
       "      <td>6</td>\n",
       "      <td>4</td>\n",
       "      <td>Elytra-Wings</td>\n",
       "    </tr>\n",
       "  </tbody>\n",
       "</table>\n",
       "</div>"
      ],
      "text/plain": [
       "      Animal     Group  Num_Legs  Num_Wings Significant_Feature\n",
       "6     Turtle   Reptile         4          0               Shell\n",
       "5     Spider  Arachnid         8          0         Exoskeleton\n",
       "1      Guppy      Fish         0          0                Tail\n",
       "4    Giraffe    Mammal         4          0           Long Neck\n",
       "2   Elephant    Mammal         4          0               Trunk\n",
       "0    Chicken      Bird         2          2            Feathers\n",
       "3  Butterfly    Insect         6          4               Wings\n",
       "7     Beetle    Insect         6          4        Elytra-Wings"
      ]
     },
     "execution_count": 75,
     "metadata": {},
     "output_type": "execute_result"
    }
   ],
   "source": [
    "# Sorting in descending order            \n",
    "df.sort_values(\"Animal\", ascending = False)"
   ]
  },
  {
   "cell_type": "code",
   "execution_count": 76,
   "id": "437f6a0e-ff4e-42eb-9ceb-2b736887de18",
   "metadata": {},
   "outputs": [
    {
     "data": {
      "text/html": [
       "<div>\n",
       "<style scoped>\n",
       "    .dataframe tbody tr th:only-of-type {\n",
       "        vertical-align: middle;\n",
       "    }\n",
       "\n",
       "    .dataframe tbody tr th {\n",
       "        vertical-align: top;\n",
       "    }\n",
       "\n",
       "    .dataframe thead th {\n",
       "        text-align: right;\n",
       "    }\n",
       "</style>\n",
       "<table border=\"1\" class=\"dataframe\">\n",
       "  <thead>\n",
       "    <tr style=\"text-align: right;\">\n",
       "      <th></th>\n",
       "      <th>Animal</th>\n",
       "      <th>Group</th>\n",
       "      <th>Num_Legs</th>\n",
       "      <th>Num_Wings</th>\n",
       "      <th>Significant_Feature</th>\n",
       "    </tr>\n",
       "  </thead>\n",
       "  <tbody>\n",
       "    <tr>\n",
       "      <th>5</th>\n",
       "      <td>Spider</td>\n",
       "      <td>Arachnid</td>\n",
       "      <td>8</td>\n",
       "      <td>0</td>\n",
       "      <td>Exoskeleton</td>\n",
       "    </tr>\n",
       "    <tr>\n",
       "      <th>0</th>\n",
       "      <td>Chicken</td>\n",
       "      <td>Bird</td>\n",
       "      <td>2</td>\n",
       "      <td>2</td>\n",
       "      <td>Feathers</td>\n",
       "    </tr>\n",
       "    <tr>\n",
       "      <th>1</th>\n",
       "      <td>Guppy</td>\n",
       "      <td>Fish</td>\n",
       "      <td>0</td>\n",
       "      <td>0</td>\n",
       "      <td>Tail</td>\n",
       "    </tr>\n",
       "    <tr>\n",
       "      <th>7</th>\n",
       "      <td>Beetle</td>\n",
       "      <td>Insect</td>\n",
       "      <td>6</td>\n",
       "      <td>4</td>\n",
       "      <td>Elytra-Wings</td>\n",
       "    </tr>\n",
       "    <tr>\n",
       "      <th>3</th>\n",
       "      <td>Butterfly</td>\n",
       "      <td>Insect</td>\n",
       "      <td>6</td>\n",
       "      <td>4</td>\n",
       "      <td>Wings</td>\n",
       "    </tr>\n",
       "    <tr>\n",
       "      <th>2</th>\n",
       "      <td>Elephant</td>\n",
       "      <td>Mammal</td>\n",
       "      <td>4</td>\n",
       "      <td>0</td>\n",
       "      <td>Trunk</td>\n",
       "    </tr>\n",
       "    <tr>\n",
       "      <th>4</th>\n",
       "      <td>Giraffe</td>\n",
       "      <td>Mammal</td>\n",
       "      <td>4</td>\n",
       "      <td>0</td>\n",
       "      <td>Long Neck</td>\n",
       "    </tr>\n",
       "    <tr>\n",
       "      <th>6</th>\n",
       "      <td>Turtle</td>\n",
       "      <td>Reptile</td>\n",
       "      <td>4</td>\n",
       "      <td>0</td>\n",
       "      <td>Shell</td>\n",
       "    </tr>\n",
       "  </tbody>\n",
       "</table>\n",
       "</div>"
      ],
      "text/plain": [
       "      Animal     Group  Num_Legs  Num_Wings Significant_Feature\n",
       "5     Spider  Arachnid         8          0         Exoskeleton\n",
       "0    Chicken      Bird         2          2            Feathers\n",
       "1      Guppy      Fish         0          0                Tail\n",
       "7     Beetle    Insect         6          4        Elytra-Wings\n",
       "3  Butterfly    Insect         6          4               Wings\n",
       "2   Elephant    Mammal         4          0               Trunk\n",
       "4    Giraffe    Mammal         4          0           Long Neck\n",
       "6     Turtle   Reptile         4          0               Shell"
      ]
     },
     "execution_count": 76,
     "metadata": {},
     "output_type": "execute_result"
    }
   ],
   "source": [
    "# Sort by multiple values, first by Group, then by Animal\n",
    "df.sort_values([\"Group\", \"Animal\"])"
   ]
  },
  {
   "cell_type": "markdown",
   "id": "6b3cda07-0a9c-4357-b64d-d59682415fb9",
   "metadata": {},
   "source": [
    "##### Creating and Adding New Data Columns Example"
   ]
  },
  {
   "cell_type": "code",
   "execution_count": 77,
   "id": "d56bcc99-9027-493e-aaae-df87c0a8e37c",
   "metadata": {},
   "outputs": [
    {
     "data": {
      "text/html": [
       "<div>\n",
       "<style scoped>\n",
       "    .dataframe tbody tr th:only-of-type {\n",
       "        vertical-align: middle;\n",
       "    }\n",
       "\n",
       "    .dataframe tbody tr th {\n",
       "        vertical-align: top;\n",
       "    }\n",
       "\n",
       "    .dataframe thead th {\n",
       "        text-align: right;\n",
       "    }\n",
       "</style>\n",
       "<table border=\"1\" class=\"dataframe\">\n",
       "  <thead>\n",
       "    <tr style=\"text-align: right;\">\n",
       "      <th></th>\n",
       "      <th>Animal</th>\n",
       "      <th>Group</th>\n",
       "      <th>Num_Legs</th>\n",
       "      <th>Num_Wings</th>\n",
       "      <th>Significant_Feature</th>\n",
       "      <th>Total_Legs_Wings</th>\n",
       "    </tr>\n",
       "  </thead>\n",
       "  <tbody>\n",
       "    <tr>\n",
       "      <th>0</th>\n",
       "      <td>Chicken</td>\n",
       "      <td>Bird</td>\n",
       "      <td>2</td>\n",
       "      <td>2</td>\n",
       "      <td>Feathers</td>\n",
       "      <td>4</td>\n",
       "    </tr>\n",
       "    <tr>\n",
       "      <th>1</th>\n",
       "      <td>Guppy</td>\n",
       "      <td>Fish</td>\n",
       "      <td>0</td>\n",
       "      <td>0</td>\n",
       "      <td>Tail</td>\n",
       "      <td>0</td>\n",
       "    </tr>\n",
       "    <tr>\n",
       "      <th>2</th>\n",
       "      <td>Elephant</td>\n",
       "      <td>Mammal</td>\n",
       "      <td>4</td>\n",
       "      <td>0</td>\n",
       "      <td>Trunk</td>\n",
       "      <td>4</td>\n",
       "    </tr>\n",
       "    <tr>\n",
       "      <th>3</th>\n",
       "      <td>Butterfly</td>\n",
       "      <td>Insect</td>\n",
       "      <td>6</td>\n",
       "      <td>4</td>\n",
       "      <td>Wings</td>\n",
       "      <td>10</td>\n",
       "    </tr>\n",
       "    <tr>\n",
       "      <th>4</th>\n",
       "      <td>Giraffe</td>\n",
       "      <td>Mammal</td>\n",
       "      <td>4</td>\n",
       "      <td>0</td>\n",
       "      <td>Long Neck</td>\n",
       "      <td>4</td>\n",
       "    </tr>\n",
       "    <tr>\n",
       "      <th>5</th>\n",
       "      <td>Spider</td>\n",
       "      <td>Arachnid</td>\n",
       "      <td>8</td>\n",
       "      <td>0</td>\n",
       "      <td>Exoskeleton</td>\n",
       "      <td>8</td>\n",
       "    </tr>\n",
       "    <tr>\n",
       "      <th>6</th>\n",
       "      <td>Turtle</td>\n",
       "      <td>Reptile</td>\n",
       "      <td>4</td>\n",
       "      <td>0</td>\n",
       "      <td>Shell</td>\n",
       "      <td>4</td>\n",
       "    </tr>\n",
       "    <tr>\n",
       "      <th>7</th>\n",
       "      <td>Beetle</td>\n",
       "      <td>Insect</td>\n",
       "      <td>6</td>\n",
       "      <td>4</td>\n",
       "      <td>Elytra-Wings</td>\n",
       "      <td>10</td>\n",
       "    </tr>\n",
       "  </tbody>\n",
       "</table>\n",
       "</div>"
      ],
      "text/plain": [
       "      Animal     Group  Num_Legs  Num_Wings Significant_Feature  \\\n",
       "0    Chicken      Bird         2          2            Feathers   \n",
       "1      Guppy      Fish         0          0                Tail   \n",
       "2   Elephant    Mammal         4          0               Trunk   \n",
       "3  Butterfly    Insect         6          4               Wings   \n",
       "4    Giraffe    Mammal         4          0           Long Neck   \n",
       "5     Spider  Arachnid         8          0         Exoskeleton   \n",
       "6     Turtle   Reptile         4          0               Shell   \n",
       "7     Beetle    Insect         6          4        Elytra-Wings   \n",
       "\n",
       "   Total_Legs_Wings  \n",
       "0                 4  \n",
       "1                 0  \n",
       "2                 4  \n",
       "3                10  \n",
       "4                 4  \n",
       "5                 8  \n",
       "6                 4  \n",
       "7                10  "
      ]
     },
     "execution_count": 77,
     "metadata": {},
     "output_type": "execute_result"
    }
   ],
   "source": [
    "# Adding a new column Total_Legs_Wings = Num_Legs + Num_Wings              \n",
    "# df[ \"______________\" ] = df[\"____________\"] + df[\"____________\"]\n",
    "\n",
    "df[ \"Total_Legs_Wings\" ] = df[\"Num_Legs\"] + df[\"Num_Wings\"]\n",
    "df"
   ]
  },
  {
   "attachments": {},
   "cell_type": "markdown",
   "id": "2904352a-0e93-4be7-8a5d-834a891ac0b7",
   "metadata": {},
   "source": [
    "### **Exercise 5**\n",
    "#### Sorting DataFrames, Adding New Columns"
   ]
  },
  {
   "cell_type": "markdown",
   "id": "f1fdce4b-81fa-4751-805e-d74280fd5ef2",
   "metadata": {},
   "source": [
    "1. Load the animal data.csv file into a DataFrame named `animal`\n",
    "2. (Refer to the powerpoint slide) Create and add the new column 'Total_Legs_Wings' to the animal DataFrame.\n",
    "3. Sort the animal DataFrame according to Total_Legs_Wings, in ascending order."
   ]
  },
  {
   "cell_type": "code",
   "execution_count": 79,
   "id": "a53739da-d093-4487-b630-82fa6e4340ff",
   "metadata": {},
   "outputs": [
    {
     "data": {
      "text/html": [
       "<div>\n",
       "<style scoped>\n",
       "    .dataframe tbody tr th:only-of-type {\n",
       "        vertical-align: middle;\n",
       "    }\n",
       "\n",
       "    .dataframe tbody tr th {\n",
       "        vertical-align: top;\n",
       "    }\n",
       "\n",
       "    .dataframe thead th {\n",
       "        text-align: right;\n",
       "    }\n",
       "</style>\n",
       "<table border=\"1\" class=\"dataframe\">\n",
       "  <thead>\n",
       "    <tr style=\"text-align: right;\">\n",
       "      <th></th>\n",
       "      <th>Animal</th>\n",
       "      <th>Group</th>\n",
       "      <th>Num_Legs</th>\n",
       "      <th>Num_Wings</th>\n",
       "      <th>Significant_Feature</th>\n",
       "    </tr>\n",
       "  </thead>\n",
       "  <tbody>\n",
       "    <tr>\n",
       "      <th>0</th>\n",
       "      <td>Chicken</td>\n",
       "      <td>Bird</td>\n",
       "      <td>2</td>\n",
       "      <td>2</td>\n",
       "      <td>Feathers</td>\n",
       "    </tr>\n",
       "    <tr>\n",
       "      <th>1</th>\n",
       "      <td>Guppy</td>\n",
       "      <td>Fish</td>\n",
       "      <td>0</td>\n",
       "      <td>0</td>\n",
       "      <td>Tail</td>\n",
       "    </tr>\n",
       "    <tr>\n",
       "      <th>2</th>\n",
       "      <td>Elephant</td>\n",
       "      <td>Mammal</td>\n",
       "      <td>4</td>\n",
       "      <td>0</td>\n",
       "      <td>Trunk</td>\n",
       "    </tr>\n",
       "    <tr>\n",
       "      <th>3</th>\n",
       "      <td>Butterfly</td>\n",
       "      <td>Insect</td>\n",
       "      <td>6</td>\n",
       "      <td>4</td>\n",
       "      <td>Wings</td>\n",
       "    </tr>\n",
       "    <tr>\n",
       "      <th>4</th>\n",
       "      <td>Giraffe</td>\n",
       "      <td>Mammal</td>\n",
       "      <td>4</td>\n",
       "      <td>0</td>\n",
       "      <td>Long Neck</td>\n",
       "    </tr>\n",
       "    <tr>\n",
       "      <th>5</th>\n",
       "      <td>Spider</td>\n",
       "      <td>Arachnid</td>\n",
       "      <td>8</td>\n",
       "      <td>0</td>\n",
       "      <td>Exoskeleton</td>\n",
       "    </tr>\n",
       "    <tr>\n",
       "      <th>6</th>\n",
       "      <td>Turtle</td>\n",
       "      <td>Reptile</td>\n",
       "      <td>4</td>\n",
       "      <td>0</td>\n",
       "      <td>Shell</td>\n",
       "    </tr>\n",
       "    <tr>\n",
       "      <th>7</th>\n",
       "      <td>Beetle</td>\n",
       "      <td>Insect</td>\n",
       "      <td>6</td>\n",
       "      <td>4</td>\n",
       "      <td>Elytra-Wings</td>\n",
       "    </tr>\n",
       "  </tbody>\n",
       "</table>\n",
       "</div>"
      ],
      "text/plain": [
       "      Animal     Group  Num_Legs  Num_Wings Significant_Feature\n",
       "0    Chicken      Bird         2          2            Feathers\n",
       "1      Guppy      Fish         0          0                Tail\n",
       "2   Elephant    Mammal         4          0               Trunk\n",
       "3  Butterfly    Insect         6          4               Wings\n",
       "4    Giraffe    Mammal         4          0           Long Neck\n",
       "5     Spider  Arachnid         8          0         Exoskeleton\n",
       "6     Turtle   Reptile         4          0               Shell\n",
       "7     Beetle    Insect         6          4        Elytra-Wings"
      ]
     },
     "execution_count": 79,
     "metadata": {},
     "output_type": "execute_result"
    }
   ],
   "source": [
    "# Reload the 'animal' dataframe \n",
    "animal = pd.read_csv(\"animal_data.csv\")\n",
    "animal"
   ]
  },
  {
   "cell_type": "code",
   "execution_count": 80,
   "id": "2f51035e-4d1b-455b-bbde-78f477d8c505",
   "metadata": {},
   "outputs": [
    {
     "data": {
      "text/html": [
       "<div>\n",
       "<style scoped>\n",
       "    .dataframe tbody tr th:only-of-type {\n",
       "        vertical-align: middle;\n",
       "    }\n",
       "\n",
       "    .dataframe tbody tr th {\n",
       "        vertical-align: top;\n",
       "    }\n",
       "\n",
       "    .dataframe thead th {\n",
       "        text-align: right;\n",
       "    }\n",
       "</style>\n",
       "<table border=\"1\" class=\"dataframe\">\n",
       "  <thead>\n",
       "    <tr style=\"text-align: right;\">\n",
       "      <th></th>\n",
       "      <th>Animal</th>\n",
       "      <th>Group</th>\n",
       "      <th>Num_Legs</th>\n",
       "      <th>Num_Wings</th>\n",
       "      <th>Significant_Feature</th>\n",
       "      <th>Total_Legs_Wings</th>\n",
       "    </tr>\n",
       "  </thead>\n",
       "  <tbody>\n",
       "    <tr>\n",
       "      <th>0</th>\n",
       "      <td>Chicken</td>\n",
       "      <td>Bird</td>\n",
       "      <td>2</td>\n",
       "      <td>2</td>\n",
       "      <td>Feathers</td>\n",
       "      <td>4</td>\n",
       "    </tr>\n",
       "    <tr>\n",
       "      <th>1</th>\n",
       "      <td>Guppy</td>\n",
       "      <td>Fish</td>\n",
       "      <td>0</td>\n",
       "      <td>0</td>\n",
       "      <td>Tail</td>\n",
       "      <td>0</td>\n",
       "    </tr>\n",
       "    <tr>\n",
       "      <th>2</th>\n",
       "      <td>Elephant</td>\n",
       "      <td>Mammal</td>\n",
       "      <td>4</td>\n",
       "      <td>0</td>\n",
       "      <td>Trunk</td>\n",
       "      <td>4</td>\n",
       "    </tr>\n",
       "    <tr>\n",
       "      <th>3</th>\n",
       "      <td>Butterfly</td>\n",
       "      <td>Insect</td>\n",
       "      <td>6</td>\n",
       "      <td>4</td>\n",
       "      <td>Wings</td>\n",
       "      <td>10</td>\n",
       "    </tr>\n",
       "    <tr>\n",
       "      <th>4</th>\n",
       "      <td>Giraffe</td>\n",
       "      <td>Mammal</td>\n",
       "      <td>4</td>\n",
       "      <td>0</td>\n",
       "      <td>Long Neck</td>\n",
       "      <td>4</td>\n",
       "    </tr>\n",
       "    <tr>\n",
       "      <th>5</th>\n",
       "      <td>Spider</td>\n",
       "      <td>Arachnid</td>\n",
       "      <td>8</td>\n",
       "      <td>0</td>\n",
       "      <td>Exoskeleton</td>\n",
       "      <td>8</td>\n",
       "    </tr>\n",
       "    <tr>\n",
       "      <th>6</th>\n",
       "      <td>Turtle</td>\n",
       "      <td>Reptile</td>\n",
       "      <td>4</td>\n",
       "      <td>0</td>\n",
       "      <td>Shell</td>\n",
       "      <td>4</td>\n",
       "    </tr>\n",
       "    <tr>\n",
       "      <th>7</th>\n",
       "      <td>Beetle</td>\n",
       "      <td>Insect</td>\n",
       "      <td>6</td>\n",
       "      <td>4</td>\n",
       "      <td>Elytra-Wings</td>\n",
       "      <td>10</td>\n",
       "    </tr>\n",
       "  </tbody>\n",
       "</table>\n",
       "</div>"
      ],
      "text/plain": [
       "      Animal     Group  Num_Legs  Num_Wings Significant_Feature  \\\n",
       "0    Chicken      Bird         2          2            Feathers   \n",
       "1      Guppy      Fish         0          0                Tail   \n",
       "2   Elephant    Mammal         4          0               Trunk   \n",
       "3  Butterfly    Insect         6          4               Wings   \n",
       "4    Giraffe    Mammal         4          0           Long Neck   \n",
       "5     Spider  Arachnid         8          0         Exoskeleton   \n",
       "6     Turtle   Reptile         4          0               Shell   \n",
       "7     Beetle    Insect         6          4        Elytra-Wings   \n",
       "\n",
       "   Total_Legs_Wings  \n",
       "0                 4  \n",
       "1                 0  \n",
       "2                 4  \n",
       "3                10  \n",
       "4                 4  \n",
       "5                 8  \n",
       "6                 4  \n",
       "7                10  "
      ]
     },
     "execution_count": 80,
     "metadata": {},
     "output_type": "execute_result"
    }
   ],
   "source": [
    "# 2. (Refer to the powerpoint slide) Create and add \n",
    "# the new column 'Total_Legs_Wings' to the animal DataFrame.\n",
    "# answer: animal['Total_Legs_Wings'] = animal['Num_Legs'] + animal['Num_Wings']\n",
    "\n",
    "# Create the new column\n",
    "animal[\"Total_Legs_Wings\"] = animal[\"Num_Legs\"] + animal[\"Num_Wings\"]\n",
    "\n",
    "# Display the dataframe\n",
    "animal"
   ]
  },
  {
   "cell_type": "code",
   "execution_count": 81,
   "id": "a313216f-11c3-4df2-ab15-425b09513a33",
   "metadata": {},
   "outputs": [
    {
     "data": {
      "text/html": [
       "<div>\n",
       "<style scoped>\n",
       "    .dataframe tbody tr th:only-of-type {\n",
       "        vertical-align: middle;\n",
       "    }\n",
       "\n",
       "    .dataframe tbody tr th {\n",
       "        vertical-align: top;\n",
       "    }\n",
       "\n",
       "    .dataframe thead th {\n",
       "        text-align: right;\n",
       "    }\n",
       "</style>\n",
       "<table border=\"1\" class=\"dataframe\">\n",
       "  <thead>\n",
       "    <tr style=\"text-align: right;\">\n",
       "      <th></th>\n",
       "      <th>Animal</th>\n",
       "      <th>Group</th>\n",
       "      <th>Num_Legs</th>\n",
       "      <th>Num_Wings</th>\n",
       "      <th>Significant_Feature</th>\n",
       "      <th>Total_Legs_Wings</th>\n",
       "    </tr>\n",
       "  </thead>\n",
       "  <tbody>\n",
       "    <tr>\n",
       "      <th>1</th>\n",
       "      <td>Guppy</td>\n",
       "      <td>Fish</td>\n",
       "      <td>0</td>\n",
       "      <td>0</td>\n",
       "      <td>Tail</td>\n",
       "      <td>0</td>\n",
       "    </tr>\n",
       "    <tr>\n",
       "      <th>0</th>\n",
       "      <td>Chicken</td>\n",
       "      <td>Bird</td>\n",
       "      <td>2</td>\n",
       "      <td>2</td>\n",
       "      <td>Feathers</td>\n",
       "      <td>4</td>\n",
       "    </tr>\n",
       "    <tr>\n",
       "      <th>2</th>\n",
       "      <td>Elephant</td>\n",
       "      <td>Mammal</td>\n",
       "      <td>4</td>\n",
       "      <td>0</td>\n",
       "      <td>Trunk</td>\n",
       "      <td>4</td>\n",
       "    </tr>\n",
       "    <tr>\n",
       "      <th>4</th>\n",
       "      <td>Giraffe</td>\n",
       "      <td>Mammal</td>\n",
       "      <td>4</td>\n",
       "      <td>0</td>\n",
       "      <td>Long Neck</td>\n",
       "      <td>4</td>\n",
       "    </tr>\n",
       "    <tr>\n",
       "      <th>6</th>\n",
       "      <td>Turtle</td>\n",
       "      <td>Reptile</td>\n",
       "      <td>4</td>\n",
       "      <td>0</td>\n",
       "      <td>Shell</td>\n",
       "      <td>4</td>\n",
       "    </tr>\n",
       "    <tr>\n",
       "      <th>5</th>\n",
       "      <td>Spider</td>\n",
       "      <td>Arachnid</td>\n",
       "      <td>8</td>\n",
       "      <td>0</td>\n",
       "      <td>Exoskeleton</td>\n",
       "      <td>8</td>\n",
       "    </tr>\n",
       "    <tr>\n",
       "      <th>3</th>\n",
       "      <td>Butterfly</td>\n",
       "      <td>Insect</td>\n",
       "      <td>6</td>\n",
       "      <td>4</td>\n",
       "      <td>Wings</td>\n",
       "      <td>10</td>\n",
       "    </tr>\n",
       "    <tr>\n",
       "      <th>7</th>\n",
       "      <td>Beetle</td>\n",
       "      <td>Insect</td>\n",
       "      <td>6</td>\n",
       "      <td>4</td>\n",
       "      <td>Elytra-Wings</td>\n",
       "      <td>10</td>\n",
       "    </tr>\n",
       "  </tbody>\n",
       "</table>\n",
       "</div>"
      ],
      "text/plain": [
       "      Animal     Group  Num_Legs  Num_Wings Significant_Feature  \\\n",
       "1      Guppy      Fish         0          0                Tail   \n",
       "0    Chicken      Bird         2          2            Feathers   \n",
       "2   Elephant    Mammal         4          0               Trunk   \n",
       "4    Giraffe    Mammal         4          0           Long Neck   \n",
       "6     Turtle   Reptile         4          0               Shell   \n",
       "5     Spider  Arachnid         8          0         Exoskeleton   \n",
       "3  Butterfly    Insect         6          4               Wings   \n",
       "7     Beetle    Insect         6          4        Elytra-Wings   \n",
       "\n",
       "   Total_Legs_Wings  \n",
       "1                 0  \n",
       "0                 4  \n",
       "2                 4  \n",
       "4                 4  \n",
       "6                 4  \n",
       "5                 8  \n",
       "3                10  \n",
       "7                10  "
      ]
     },
     "execution_count": 81,
     "metadata": {},
     "output_type": "execute_result"
    }
   ],
   "source": [
    "# Sort the result according to 'Total_Legs_Wings' \n",
    "# hint: use sort_values(). \n",
    "#       ascending - True or False?) \n",
    "animal.sort_values( 'Total_Legs_Wings' , ascending = True ) "
   ]
  },
  {
   "attachments": {},
   "cell_type": "markdown",
   "id": "e337fdb2-1593-4a52-8a82-2f05334abba7",
   "metadata": {},
   "source": [
    "# 7. Indexing & Slicing DataFrame\n"
   ]
  },
  {
   "cell_type": "markdown",
   "id": "fddf4c7b-6140-4a08-8ad5-8cbafe055021",
   "metadata": {},
   "source": [
    "##### **Changing DataFrame Index**"
   ]
  },
  {
   "cell_type": "markdown",
   "id": "fa6557a9-8717-47fb-ab7a-db0e81b31eb4",
   "metadata": {},
   "source": [
    "Reload DataFrame before continue:"
   ]
  },
  {
   "cell_type": "code",
   "execution_count": 83,
   "id": "042735db-de4e-4bfa-97f9-26d080704835",
   "metadata": {},
   "outputs": [
    {
     "name": "stdout",
     "output_type": "stream",
     "text": [
      "      Animal     Group  Num_Legs  Num_Wings Significant_Feature\n",
      "0    Chicken      Bird         2          2            Feathers\n",
      "1      Guppy      Fish         0          0                Tail\n",
      "2   Elephant    Mammal         4          0               Trunk\n",
      "3  Butterfly    Insect         6          4               Wings\n",
      "4    Giraffe    Mammal         4          0           Long Neck\n",
      "5     Spider  Arachnid         8          0         Exoskeleton\n",
      "6     Turtle   Reptile         4          0               Shell\n",
      "7     Beetle    Insect         6          4        Elytra-Wings\n"
     ]
    }
   ],
   "source": [
    "df = pd.read_csv(\"animal_data.csv\")\n",
    "print(df)"
   ]
  },
  {
   "cell_type": "markdown",
   "id": "bf3d2c73-d0a5-4d3a-a008-c27b31248a61",
   "metadata": {},
   "source": [
    "Change DataFrame Index: "
   ]
  },
  {
   "cell_type": "code",
   "execution_count": 84,
   "id": "8fd12087-9ff7-4732-b6d6-5e005e962281",
   "metadata": {},
   "outputs": [
    {
     "data": {
      "text/html": [
       "<div>\n",
       "<style scoped>\n",
       "    .dataframe tbody tr th:only-of-type {\n",
       "        vertical-align: middle;\n",
       "    }\n",
       "\n",
       "    .dataframe tbody tr th {\n",
       "        vertical-align: top;\n",
       "    }\n",
       "\n",
       "    .dataframe thead th {\n",
       "        text-align: right;\n",
       "    }\n",
       "</style>\n",
       "<table border=\"1\" class=\"dataframe\">\n",
       "  <thead>\n",
       "    <tr style=\"text-align: right;\">\n",
       "      <th></th>\n",
       "      <th>Group</th>\n",
       "      <th>Num_Legs</th>\n",
       "      <th>Num_Wings</th>\n",
       "      <th>Significant_Feature</th>\n",
       "    </tr>\n",
       "    <tr>\n",
       "      <th>Animal</th>\n",
       "      <th></th>\n",
       "      <th></th>\n",
       "      <th></th>\n",
       "      <th></th>\n",
       "    </tr>\n",
       "  </thead>\n",
       "  <tbody>\n",
       "    <tr>\n",
       "      <th>Chicken</th>\n",
       "      <td>Bird</td>\n",
       "      <td>2</td>\n",
       "      <td>2</td>\n",
       "      <td>Feathers</td>\n",
       "    </tr>\n",
       "    <tr>\n",
       "      <th>Guppy</th>\n",
       "      <td>Fish</td>\n",
       "      <td>0</td>\n",
       "      <td>0</td>\n",
       "      <td>Tail</td>\n",
       "    </tr>\n",
       "    <tr>\n",
       "      <th>Elephant</th>\n",
       "      <td>Mammal</td>\n",
       "      <td>4</td>\n",
       "      <td>0</td>\n",
       "      <td>Trunk</td>\n",
       "    </tr>\n",
       "    <tr>\n",
       "      <th>Butterfly</th>\n",
       "      <td>Insect</td>\n",
       "      <td>6</td>\n",
       "      <td>4</td>\n",
       "      <td>Wings</td>\n",
       "    </tr>\n",
       "    <tr>\n",
       "      <th>Giraffe</th>\n",
       "      <td>Mammal</td>\n",
       "      <td>4</td>\n",
       "      <td>0</td>\n",
       "      <td>Long Neck</td>\n",
       "    </tr>\n",
       "    <tr>\n",
       "      <th>Spider</th>\n",
       "      <td>Arachnid</td>\n",
       "      <td>8</td>\n",
       "      <td>0</td>\n",
       "      <td>Exoskeleton</td>\n",
       "    </tr>\n",
       "    <tr>\n",
       "      <th>Turtle</th>\n",
       "      <td>Reptile</td>\n",
       "      <td>4</td>\n",
       "      <td>0</td>\n",
       "      <td>Shell</td>\n",
       "    </tr>\n",
       "    <tr>\n",
       "      <th>Beetle</th>\n",
       "      <td>Insect</td>\n",
       "      <td>6</td>\n",
       "      <td>4</td>\n",
       "      <td>Elytra-Wings</td>\n",
       "    </tr>\n",
       "  </tbody>\n",
       "</table>\n",
       "</div>"
      ],
      "text/plain": [
       "              Group  Num_Legs  Num_Wings Significant_Feature\n",
       "Animal                                                      \n",
       "Chicken        Bird         2          2            Feathers\n",
       "Guppy          Fish         0          0                Tail\n",
       "Elephant     Mammal         4          0               Trunk\n",
       "Butterfly    Insect         6          4               Wings\n",
       "Giraffe      Mammal         4          0           Long Neck\n",
       "Spider     Arachnid         8          0         Exoskeleton\n",
       "Turtle      Reptile         4          0               Shell\n",
       "Beetle       Insect         6          4        Elytra-Wings"
      ]
     },
     "execution_count": 84,
     "metadata": {},
     "output_type": "execute_result"
    }
   ],
   "source": [
    "df  = df.set_index('Animal')\n",
    "df"
   ]
  },
  {
   "attachments": {},
   "cell_type": "markdown",
   "id": "5447adaa-d486-48b6-8c70-30686ea72e20",
   "metadata": {},
   "source": [
    "##### Indexing & Slicing using Index Labels`.loc()` \n",
    "\n",
    "Like Series, DataFrame  has  special  attributes `.loc()` and  `.iloc()` for label-based and integer-based  indexing,  respectively.  Since DataFrame is two-dimensional, you can select a subset of the rows and columns with NumPy-like notation using either axis labels (`.loc()`) or integers (`.iloc()`).\n",
    "\n",
    "As a first example, let’s select a single row by label using `.loc()`."
   ]
  },
  {
   "cell_type": "code",
   "execution_count": 85,
   "id": "41700804-0917-465a-bca6-6d7d26aad1ac",
   "metadata": {},
   "outputs": [
    {
     "data": {
      "text/plain": [
       "Group                  Fish\n",
       "Num_Legs                  0\n",
       "Num_Wings                 0\n",
       "Significant_Feature    Tail\n",
       "Name: Guppy, dtype: object"
      ]
     },
     "execution_count": 85,
     "metadata": {},
     "output_type": "execute_result"
    }
   ],
   "source": [
    "# Selecting multiple rows, passing a single label\n",
    "df.loc[\"Guppy\"]"
   ]
  },
  {
   "cell_type": "markdown",
   "id": "a2ff372a-ab87-42c4-bda8-e348e556424f",
   "metadata": {},
   "source": [
    "The  result  of  selecting  a  single  row  is  a  Series  with  an  index  that  contains  the DataFrame’s column labels. \n",
    "\n",
    "To select multiple rows, pass a sequence of labels. Note: this will generate a new DataFrame."
   ]
  },
  {
   "cell_type": "code",
   "execution_count": 86,
   "id": "b8093153-73b8-4263-833c-1d1689565bf9",
   "metadata": {},
   "outputs": [
    {
     "data": {
      "text/html": [
       "<div>\n",
       "<style scoped>\n",
       "    .dataframe tbody tr th:only-of-type {\n",
       "        vertical-align: middle;\n",
       "    }\n",
       "\n",
       "    .dataframe tbody tr th {\n",
       "        vertical-align: top;\n",
       "    }\n",
       "\n",
       "    .dataframe thead th {\n",
       "        text-align: right;\n",
       "    }\n",
       "</style>\n",
       "<table border=\"1\" class=\"dataframe\">\n",
       "  <thead>\n",
       "    <tr style=\"text-align: right;\">\n",
       "      <th></th>\n",
       "      <th>Group</th>\n",
       "      <th>Num_Legs</th>\n",
       "      <th>Num_Wings</th>\n",
       "      <th>Significant_Feature</th>\n",
       "    </tr>\n",
       "    <tr>\n",
       "      <th>Animal</th>\n",
       "      <th></th>\n",
       "      <th></th>\n",
       "      <th></th>\n",
       "      <th></th>\n",
       "    </tr>\n",
       "  </thead>\n",
       "  <tbody>\n",
       "    <tr>\n",
       "      <th>Guppy</th>\n",
       "      <td>Fish</td>\n",
       "      <td>0</td>\n",
       "      <td>0</td>\n",
       "      <td>Tail</td>\n",
       "    </tr>\n",
       "    <tr>\n",
       "      <th>Turtle</th>\n",
       "      <td>Reptile</td>\n",
       "      <td>4</td>\n",
       "      <td>0</td>\n",
       "      <td>Shell</td>\n",
       "    </tr>\n",
       "    <tr>\n",
       "      <th>Butterfly</th>\n",
       "      <td>Insect</td>\n",
       "      <td>6</td>\n",
       "      <td>4</td>\n",
       "      <td>Wings</td>\n",
       "    </tr>\n",
       "  </tbody>\n",
       "</table>\n",
       "</div>"
      ],
      "text/plain": [
       "             Group  Num_Legs  Num_Wings Significant_Feature\n",
       "Animal                                                     \n",
       "Guppy         Fish         0          0                Tail\n",
       "Turtle     Reptile         4          0               Shell\n",
       "Butterfly   Insect         6          4               Wings"
      ]
     },
     "execution_count": 86,
     "metadata": {},
     "output_type": "execute_result"
    }
   ],
   "source": [
    "# Selecting multiple rows, passing a list of labels\n",
    "df.loc[ [\"Guppy\", \"Turtle\", \"Butterfly\"] ]"
   ]
  },
  {
   "cell_type": "markdown",
   "id": "13c7c36b-a5d9-41e0-8b32-daccc6b8359b",
   "metadata": {},
   "source": [
    "##### Using `.loc()` with the `:` operator\n",
    "\n",
    "We can also perform slicing using the : operator"
   ]
  },
  {
   "cell_type": "code",
   "execution_count": 87,
   "id": "05f31962-e5b3-4c27-afb2-3dbcea1daf98",
   "metadata": {},
   "outputs": [
    {
     "data": {
      "text/html": [
       "<div>\n",
       "<style scoped>\n",
       "    .dataframe tbody tr th:only-of-type {\n",
       "        vertical-align: middle;\n",
       "    }\n",
       "\n",
       "    .dataframe tbody tr th {\n",
       "        vertical-align: top;\n",
       "    }\n",
       "\n",
       "    .dataframe thead th {\n",
       "        text-align: right;\n",
       "    }\n",
       "</style>\n",
       "<table border=\"1\" class=\"dataframe\">\n",
       "  <thead>\n",
       "    <tr style=\"text-align: right;\">\n",
       "      <th></th>\n",
       "      <th>Group</th>\n",
       "      <th>Num_Legs</th>\n",
       "      <th>Num_Wings</th>\n",
       "      <th>Significant_Feature</th>\n",
       "    </tr>\n",
       "    <tr>\n",
       "      <th>Animal</th>\n",
       "      <th></th>\n",
       "      <th></th>\n",
       "      <th></th>\n",
       "      <th></th>\n",
       "    </tr>\n",
       "  </thead>\n",
       "  <tbody>\n",
       "    <tr>\n",
       "      <th>Guppy</th>\n",
       "      <td>Fish</td>\n",
       "      <td>0</td>\n",
       "      <td>0</td>\n",
       "      <td>Tail</td>\n",
       "    </tr>\n",
       "    <tr>\n",
       "      <th>Elephant</th>\n",
       "      <td>Mammal</td>\n",
       "      <td>4</td>\n",
       "      <td>0</td>\n",
       "      <td>Trunk</td>\n",
       "    </tr>\n",
       "    <tr>\n",
       "      <th>Butterfly</th>\n",
       "      <td>Insect</td>\n",
       "      <td>6</td>\n",
       "      <td>4</td>\n",
       "      <td>Wings</td>\n",
       "    </tr>\n",
       "  </tbody>\n",
       "</table>\n",
       "</div>"
      ],
      "text/plain": [
       "            Group  Num_Legs  Num_Wings Significant_Feature\n",
       "Animal                                                    \n",
       "Guppy        Fish         0          0                Tail\n",
       "Elephant   Mammal         4          0               Trunk\n",
       "Butterfly  Insect         6          4               Wings"
      ]
     },
     "execution_count": 87,
     "metadata": {},
     "output_type": "execute_result"
    }
   ],
   "source": [
    "# Slicing using loc\n",
    "df.loc[ \"Guppy\":\"Butterfly\" ]\n",
    "# Note: using DataFrame loc method, the endpoint is included in the output. "
   ]
  },
  {
   "cell_type": "markdown",
   "id": "40a60450-9277-4e36-8cb0-75d44ef60053",
   "metadata": {},
   "source": [
    "You can combine both row and column selection in  loc  by separating the selections with a comma:"
   ]
  },
  {
   "cell_type": "code",
   "execution_count": 88,
   "id": "a7970228-80a4-44d7-bab0-9fecd5dd4341",
   "metadata": {},
   "outputs": [
    {
     "data": {
      "text/html": [
       "<div>\n",
       "<style scoped>\n",
       "    .dataframe tbody tr th:only-of-type {\n",
       "        vertical-align: middle;\n",
       "    }\n",
       "\n",
       "    .dataframe tbody tr th {\n",
       "        vertical-align: top;\n",
       "    }\n",
       "\n",
       "    .dataframe thead th {\n",
       "        text-align: right;\n",
       "    }\n",
       "</style>\n",
       "<table border=\"1\" class=\"dataframe\">\n",
       "  <thead>\n",
       "    <tr style=\"text-align: right;\">\n",
       "      <th></th>\n",
       "      <th>Group</th>\n",
       "      <th>Num_Legs</th>\n",
       "    </tr>\n",
       "    <tr>\n",
       "      <th>Animal</th>\n",
       "      <th></th>\n",
       "      <th></th>\n",
       "    </tr>\n",
       "  </thead>\n",
       "  <tbody>\n",
       "    <tr>\n",
       "      <th>Butterfly</th>\n",
       "      <td>Insect</td>\n",
       "      <td>6</td>\n",
       "    </tr>\n",
       "    <tr>\n",
       "      <th>Giraffe</th>\n",
       "      <td>Mammal</td>\n",
       "      <td>4</td>\n",
       "    </tr>\n",
       "    <tr>\n",
       "      <th>Spider</th>\n",
       "      <td>Arachnid</td>\n",
       "      <td>8</td>\n",
       "    </tr>\n",
       "  </tbody>\n",
       "</table>\n",
       "</div>"
      ],
      "text/plain": [
       "              Group  Num_Legs\n",
       "Animal                       \n",
       "Butterfly    Insect         6\n",
       "Giraffe      Mammal         4\n",
       "Spider     Arachnid         8"
      ]
     },
     "execution_count": 88,
     "metadata": {},
     "output_type": "execute_result"
    }
   ],
   "source": [
    "# Combine both row and column selection in loc by separating \n",
    "#   the selections with a comma:\n",
    "df.loc[ \"Butterfly\":\"Spider\", [\"Group\", \"Num_Legs\"] ]"
   ]
  },
  {
   "cell_type": "markdown",
   "id": "a37af6fe-6a46-4e7a-9a17-375a569be364",
   "metadata": {},
   "source": [
    "##### Using .`iloc()`\n",
    "\n",
    "We’ll then perform some similar selections with integers using  iloc :"
   ]
  },
  {
   "cell_type": "code",
   "execution_count": 89,
   "id": "da001193-ddd5-4af4-82f9-60ff44ad8b52",
   "metadata": {},
   "outputs": [
    {
     "data": {
      "text/plain": [
       "Group                  Insect\n",
       "Num_Legs                    6\n",
       "Num_Wings                   4\n",
       "Significant_Feature     Wings\n",
       "Name: Butterfly, dtype: object"
      ]
     },
     "execution_count": 89,
     "metadata": {},
     "output_type": "execute_result"
    }
   ],
   "source": [
    "# indexing based on position \n",
    "df.iloc[3]"
   ]
  },
  {
   "cell_type": "code",
   "execution_count": 90,
   "id": "f8d25b7a-159c-496a-ac5f-62884ab9ca6b",
   "metadata": {},
   "outputs": [
    {
     "data": {
      "text/html": [
       "<div>\n",
       "<style scoped>\n",
       "    .dataframe tbody tr th:only-of-type {\n",
       "        vertical-align: middle;\n",
       "    }\n",
       "\n",
       "    .dataframe tbody tr th {\n",
       "        vertical-align: top;\n",
       "    }\n",
       "\n",
       "    .dataframe thead th {\n",
       "        text-align: right;\n",
       "    }\n",
       "</style>\n",
       "<table border=\"1\" class=\"dataframe\">\n",
       "  <thead>\n",
       "    <tr style=\"text-align: right;\">\n",
       "      <th></th>\n",
       "      <th>Group</th>\n",
       "      <th>Num_Legs</th>\n",
       "      <th>Num_Wings</th>\n",
       "      <th>Significant_Feature</th>\n",
       "    </tr>\n",
       "    <tr>\n",
       "      <th>Animal</th>\n",
       "      <th></th>\n",
       "      <th></th>\n",
       "      <th></th>\n",
       "      <th></th>\n",
       "    </tr>\n",
       "  </thead>\n",
       "  <tbody>\n",
       "    <tr>\n",
       "      <th>Guppy</th>\n",
       "      <td>Fish</td>\n",
       "      <td>0</td>\n",
       "      <td>0</td>\n",
       "      <td>Tail</td>\n",
       "    </tr>\n",
       "    <tr>\n",
       "      <th>Elephant</th>\n",
       "      <td>Mammal</td>\n",
       "      <td>4</td>\n",
       "      <td>0</td>\n",
       "      <td>Trunk</td>\n",
       "    </tr>\n",
       "  </tbody>\n",
       "</table>\n",
       "</div>"
      ],
      "text/plain": [
       "           Group  Num_Legs  Num_Wings Significant_Feature\n",
       "Animal                                                   \n",
       "Guppy       Fish         0          0                Tail\n",
       "Elephant  Mammal         4          0               Trunk"
      ]
     },
     "execution_count": 90,
     "metadata": {},
     "output_type": "execute_result"
    }
   ],
   "source": [
    "df.iloc[1:3]\n",
    "# note: endpoint is NOT included when using iloc (unlike the loc method)."
   ]
  },
  {
   "cell_type": "markdown",
   "id": "7e7e0920-2c58-46bb-98fc-0c60df391251",
   "metadata": {},
   "source": [
    "There are many ways to select and rearrange the data contained in a pandas' DataFrame. Table 5-4 provides a short summary of many of them.  "
   ]
  },
  {
   "attachments": {
    "f9f63d95-f485-4d00-ab25-1f94f0feda33.png": {
     "image/png": "[encoded data removed]"
    }
   },
   "cell_type": "markdown",
   "id": "f4d7439a-7eb0-4241-9688-112b062b9378",
   "metadata": {},
   "source": [
    "![image.png](attachment:f9f63d95-f485-4d00-ab25-1f94f0feda33.png)"
   ]
  },
  {
   "cell_type": "markdown",
   "id": "546cca4e-42e2-451e-a7e8-c2dfd708ccac",
   "metadata": {},
   "source": [
    "### **Exercise 6**\n",
    "#### Indexing & Slicing using `.loc()` and `.iloc()`"
   ]
  },
  {
   "cell_type": "markdown",
   "id": "aa5ceed6-2c59-4500-94c5-dcfc98853630",
   "metadata": {},
   "source": [
    "1. Reload (refresh) the animal data.csv file into a DataFrame name animal\n",
    "2. Sort the dataFrame according to the “Animal” column. \n",
    "3. Set the index using the column “Animal” (sorted).\n",
    "4. Using .loc() and index slicing, select the first four animals in the DataFrame (ie. from Beetle to Elephant)\n",
    "5. Using .iloc() and negative slicing, select the last three animals in the DataFrame"
   ]
  },
  {
   "cell_type": "code",
   "execution_count": null,
   "id": "2b9ee2ee-8244-41d6-af1c-a34d5e1eb8fa",
   "metadata": {},
   "outputs": [
    {
     "data": {
      "text/html": [
       "<div>\n",
       "<style scoped>\n",
       "    .dataframe tbody tr th:only-of-type {\n",
       "        vertical-align: middle;\n",
       "    }\n",
       "\n",
       "    .dataframe tbody tr th {\n",
       "        vertical-align: top;\n",
       "    }\n",
       "\n",
       "    .dataframe thead th {\n",
       "        text-align: right;\n",
       "    }\n",
       "</style>\n",
       "<table border=\"1\" class=\"dataframe\">\n",
       "  <thead>\n",
       "    <tr style=\"text-align: right;\">\n",
       "      <th></th>\n",
       "      <th>Animal</th>\n",
       "      <th>Group</th>\n",
       "      <th>Num_Legs</th>\n",
       "      <th>Num_Wings</th>\n",
       "      <th>Significant_Feature</th>\n",
       "    </tr>\n",
       "  </thead>\n",
       "  <tbody>\n",
       "    <tr>\n",
       "      <th>0</th>\n",
       "      <td>Chicken</td>\n",
       "      <td>Bird</td>\n",
       "      <td>2</td>\n",
       "      <td>2</td>\n",
       "      <td>Feathers</td>\n",
       "    </tr>\n",
       "    <tr>\n",
       "      <th>1</th>\n",
       "      <td>Guppy</td>\n",
       "      <td>Fish</td>\n",
       "      <td>0</td>\n",
       "      <td>0</td>\n",
       "      <td>Tail</td>\n",
       "    </tr>\n",
       "    <tr>\n",
       "      <th>2</th>\n",
       "      <td>Elephant</td>\n",
       "      <td>Mammal</td>\n",
       "      <td>4</td>\n",
       "      <td>0</td>\n",
       "      <td>Trunk</td>\n",
       "    </tr>\n",
       "    <tr>\n",
       "      <th>3</th>\n",
       "      <td>Butterfly</td>\n",
       "      <td>Insect</td>\n",
       "      <td>6</td>\n",
       "      <td>4</td>\n",
       "      <td>Wings</td>\n",
       "    </tr>\n",
       "    <tr>\n",
       "      <th>4</th>\n",
       "      <td>Giraffe</td>\n",
       "      <td>Mammal</td>\n",
       "      <td>4</td>\n",
       "      <td>0</td>\n",
       "      <td>Long Neck</td>\n",
       "    </tr>\n",
       "    <tr>\n",
       "      <th>5</th>\n",
       "      <td>Spider</td>\n",
       "      <td>Arachnid</td>\n",
       "      <td>8</td>\n",
       "      <td>0</td>\n",
       "      <td>Exoskeleton</td>\n",
       "    </tr>\n",
       "    <tr>\n",
       "      <th>6</th>\n",
       "      <td>Turtle</td>\n",
       "      <td>Reptile</td>\n",
       "      <td>4</td>\n",
       "      <td>0</td>\n",
       "      <td>Shell</td>\n",
       "    </tr>\n",
       "    <tr>\n",
       "      <th>7</th>\n",
       "      <td>Beetle</td>\n",
       "      <td>Insect</td>\n",
       "      <td>6</td>\n",
       "      <td>4</td>\n",
       "      <td>Elytra-Wings</td>\n",
       "    </tr>\n",
       "  </tbody>\n",
       "</table>\n",
       "</div>"
      ],
      "text/plain": [
       "      Animal     Group  Num_Legs  Num_Wings Significant_Feature\n",
       "0    Chicken      Bird         2          2            Feathers\n",
       "1      Guppy      Fish         0          0                Tail\n",
       "2   Elephant    Mammal         4          0               Trunk\n",
       "3  Butterfly    Insect         6          4               Wings\n",
       "4    Giraffe    Mammal         4          0           Long Neck\n",
       "5     Spider  Arachnid         8          0         Exoskeleton\n",
       "6     Turtle   Reptile         4          0               Shell\n",
       "7     Beetle    Insect         6          4        Elytra-Wings"
      ]
     },
     "execution_count": 92,
     "metadata": {},
     "output_type": "execute_result"
    }
   ],
   "source": [
    "df = pd.read_csv(\"animal_data.csv\")\n",
    "df"
   ]
  },
  {
   "cell_type": "code",
   "execution_count": 93,
   "id": "61cf5513-94de-4e58-8821-3c3ffce98a06",
   "metadata": {},
   "outputs": [
    {
     "data": {
      "text/html": [
       "<div>\n",
       "<style scoped>\n",
       "    .dataframe tbody tr th:only-of-type {\n",
       "        vertical-align: middle;\n",
       "    }\n",
       "\n",
       "    .dataframe tbody tr th {\n",
       "        vertical-align: top;\n",
       "    }\n",
       "\n",
       "    .dataframe thead th {\n",
       "        text-align: right;\n",
       "    }\n",
       "</style>\n",
       "<table border=\"1\" class=\"dataframe\">\n",
       "  <thead>\n",
       "    <tr style=\"text-align: right;\">\n",
       "      <th></th>\n",
       "      <th>Animal</th>\n",
       "      <th>Group</th>\n",
       "      <th>Num_Legs</th>\n",
       "      <th>Num_Wings</th>\n",
       "      <th>Significant_Feature</th>\n",
       "    </tr>\n",
       "  </thead>\n",
       "  <tbody>\n",
       "    <tr>\n",
       "      <th>7</th>\n",
       "      <td>Beetle</td>\n",
       "      <td>Insect</td>\n",
       "      <td>6</td>\n",
       "      <td>4</td>\n",
       "      <td>Elytra-Wings</td>\n",
       "    </tr>\n",
       "    <tr>\n",
       "      <th>3</th>\n",
       "      <td>Butterfly</td>\n",
       "      <td>Insect</td>\n",
       "      <td>6</td>\n",
       "      <td>4</td>\n",
       "      <td>Wings</td>\n",
       "    </tr>\n",
       "    <tr>\n",
       "      <th>0</th>\n",
       "      <td>Chicken</td>\n",
       "      <td>Bird</td>\n",
       "      <td>2</td>\n",
       "      <td>2</td>\n",
       "      <td>Feathers</td>\n",
       "    </tr>\n",
       "    <tr>\n",
       "      <th>2</th>\n",
       "      <td>Elephant</td>\n",
       "      <td>Mammal</td>\n",
       "      <td>4</td>\n",
       "      <td>0</td>\n",
       "      <td>Trunk</td>\n",
       "    </tr>\n",
       "    <tr>\n",
       "      <th>4</th>\n",
       "      <td>Giraffe</td>\n",
       "      <td>Mammal</td>\n",
       "      <td>4</td>\n",
       "      <td>0</td>\n",
       "      <td>Long Neck</td>\n",
       "    </tr>\n",
       "    <tr>\n",
       "      <th>1</th>\n",
       "      <td>Guppy</td>\n",
       "      <td>Fish</td>\n",
       "      <td>0</td>\n",
       "      <td>0</td>\n",
       "      <td>Tail</td>\n",
       "    </tr>\n",
       "    <tr>\n",
       "      <th>5</th>\n",
       "      <td>Spider</td>\n",
       "      <td>Arachnid</td>\n",
       "      <td>8</td>\n",
       "      <td>0</td>\n",
       "      <td>Exoskeleton</td>\n",
       "    </tr>\n",
       "    <tr>\n",
       "      <th>6</th>\n",
       "      <td>Turtle</td>\n",
       "      <td>Reptile</td>\n",
       "      <td>4</td>\n",
       "      <td>0</td>\n",
       "      <td>Shell</td>\n",
       "    </tr>\n",
       "  </tbody>\n",
       "</table>\n",
       "</div>"
      ],
      "text/plain": [
       "      Animal     Group  Num_Legs  Num_Wings Significant_Feature\n",
       "7     Beetle    Insect         6          4        Elytra-Wings\n",
       "3  Butterfly    Insect         6          4               Wings\n",
       "0    Chicken      Bird         2          2            Feathers\n",
       "2   Elephant    Mammal         4          0               Trunk\n",
       "4    Giraffe    Mammal         4          0           Long Neck\n",
       "1      Guppy      Fish         0          0                Tail\n",
       "5     Spider  Arachnid         8          0         Exoskeleton\n",
       "6     Turtle   Reptile         4          0               Shell"
      ]
     },
     "execution_count": 93,
     "metadata": {},
     "output_type": "execute_result"
    }
   ],
   "source": [
    "# Sort the dataFrame according to the “Animal” column. \n",
    "df = df.sort_values(\"Animal\", ascending = True)\n",
    "df"
   ]
  },
  {
   "cell_type": "code",
   "execution_count": 94,
   "id": "04d16405-94f0-4746-ad2d-3498531f6533",
   "metadata": {},
   "outputs": [
    {
     "data": {
      "text/html": [
       "<div>\n",
       "<style scoped>\n",
       "    .dataframe tbody tr th:only-of-type {\n",
       "        vertical-align: middle;\n",
       "    }\n",
       "\n",
       "    .dataframe tbody tr th {\n",
       "        vertical-align: top;\n",
       "    }\n",
       "\n",
       "    .dataframe thead th {\n",
       "        text-align: right;\n",
       "    }\n",
       "</style>\n",
       "<table border=\"1\" class=\"dataframe\">\n",
       "  <thead>\n",
       "    <tr style=\"text-align: right;\">\n",
       "      <th></th>\n",
       "      <th>Group</th>\n",
       "      <th>Num_Legs</th>\n",
       "      <th>Num_Wings</th>\n",
       "      <th>Significant_Feature</th>\n",
       "    </tr>\n",
       "    <tr>\n",
       "      <th>Animal</th>\n",
       "      <th></th>\n",
       "      <th></th>\n",
       "      <th></th>\n",
       "      <th></th>\n",
       "    </tr>\n",
       "  </thead>\n",
       "  <tbody>\n",
       "    <tr>\n",
       "      <th>Beetle</th>\n",
       "      <td>Insect</td>\n",
       "      <td>6</td>\n",
       "      <td>4</td>\n",
       "      <td>Elytra-Wings</td>\n",
       "    </tr>\n",
       "    <tr>\n",
       "      <th>Butterfly</th>\n",
       "      <td>Insect</td>\n",
       "      <td>6</td>\n",
       "      <td>4</td>\n",
       "      <td>Wings</td>\n",
       "    </tr>\n",
       "    <tr>\n",
       "      <th>Chicken</th>\n",
       "      <td>Bird</td>\n",
       "      <td>2</td>\n",
       "      <td>2</td>\n",
       "      <td>Feathers</td>\n",
       "    </tr>\n",
       "    <tr>\n",
       "      <th>Elephant</th>\n",
       "      <td>Mammal</td>\n",
       "      <td>4</td>\n",
       "      <td>0</td>\n",
       "      <td>Trunk</td>\n",
       "    </tr>\n",
       "    <tr>\n",
       "      <th>Giraffe</th>\n",
       "      <td>Mammal</td>\n",
       "      <td>4</td>\n",
       "      <td>0</td>\n",
       "      <td>Long Neck</td>\n",
       "    </tr>\n",
       "    <tr>\n",
       "      <th>Guppy</th>\n",
       "      <td>Fish</td>\n",
       "      <td>0</td>\n",
       "      <td>0</td>\n",
       "      <td>Tail</td>\n",
       "    </tr>\n",
       "    <tr>\n",
       "      <th>Spider</th>\n",
       "      <td>Arachnid</td>\n",
       "      <td>8</td>\n",
       "      <td>0</td>\n",
       "      <td>Exoskeleton</td>\n",
       "    </tr>\n",
       "    <tr>\n",
       "      <th>Turtle</th>\n",
       "      <td>Reptile</td>\n",
       "      <td>4</td>\n",
       "      <td>0</td>\n",
       "      <td>Shell</td>\n",
       "    </tr>\n",
       "  </tbody>\n",
       "</table>\n",
       "</div>"
      ],
      "text/plain": [
       "              Group  Num_Legs  Num_Wings Significant_Feature\n",
       "Animal                                                      \n",
       "Beetle       Insect         6          4        Elytra-Wings\n",
       "Butterfly    Insect         6          4               Wings\n",
       "Chicken        Bird         2          2            Feathers\n",
       "Elephant     Mammal         4          0               Trunk\n",
       "Giraffe      Mammal         4          0           Long Neck\n",
       "Guppy          Fish         0          0                Tail\n",
       "Spider     Arachnid         8          0         Exoskeleton\n",
       "Turtle      Reptile         4          0               Shell"
      ]
     },
     "execution_count": 94,
     "metadata": {},
     "output_type": "execute_result"
    }
   ],
   "source": [
    "# Set the index using the column “Animal” (sorted).\n",
    "\n",
    "df = df.set_index(\"Animal\")\n",
    "df"
   ]
  },
  {
   "cell_type": "code",
   "execution_count": 98,
   "id": "ffe9ff06-8861-418d-ae66-f01972fc6931",
   "metadata": {},
   "outputs": [
    {
     "data": {
      "text/html": [
       "<div>\n",
       "<style scoped>\n",
       "    .dataframe tbody tr th:only-of-type {\n",
       "        vertical-align: middle;\n",
       "    }\n",
       "\n",
       "    .dataframe tbody tr th {\n",
       "        vertical-align: top;\n",
       "    }\n",
       "\n",
       "    .dataframe thead th {\n",
       "        text-align: right;\n",
       "    }\n",
       "</style>\n",
       "<table border=\"1\" class=\"dataframe\">\n",
       "  <thead>\n",
       "    <tr style=\"text-align: right;\">\n",
       "      <th></th>\n",
       "      <th>Group</th>\n",
       "      <th>Num_Legs</th>\n",
       "      <th>Num_Wings</th>\n",
       "      <th>Significant_Feature</th>\n",
       "    </tr>\n",
       "    <tr>\n",
       "      <th>Animal</th>\n",
       "      <th></th>\n",
       "      <th></th>\n",
       "      <th></th>\n",
       "      <th></th>\n",
       "    </tr>\n",
       "  </thead>\n",
       "  <tbody>\n",
       "    <tr>\n",
       "      <th>Beetle</th>\n",
       "      <td>Insect</td>\n",
       "      <td>6</td>\n",
       "      <td>4</td>\n",
       "      <td>Elytra-Wings</td>\n",
       "    </tr>\n",
       "    <tr>\n",
       "      <th>Butterfly</th>\n",
       "      <td>Insect</td>\n",
       "      <td>6</td>\n",
       "      <td>4</td>\n",
       "      <td>Wings</td>\n",
       "    </tr>\n",
       "    <tr>\n",
       "      <th>Chicken</th>\n",
       "      <td>Bird</td>\n",
       "      <td>2</td>\n",
       "      <td>2</td>\n",
       "      <td>Feathers</td>\n",
       "    </tr>\n",
       "    <tr>\n",
       "      <th>Elephant</th>\n",
       "      <td>Mammal</td>\n",
       "      <td>4</td>\n",
       "      <td>0</td>\n",
       "      <td>Trunk</td>\n",
       "    </tr>\n",
       "  </tbody>\n",
       "</table>\n",
       "</div>"
      ],
      "text/plain": [
       "            Group  Num_Legs  Num_Wings Significant_Feature\n",
       "Animal                                                    \n",
       "Beetle     Insect         6          4        Elytra-Wings\n",
       "Butterfly  Insect         6          4               Wings\n",
       "Chicken      Bird         2          2            Feathers\n",
       "Elephant   Mammal         4          0               Trunk"
      ]
     },
     "execution_count": 98,
     "metadata": {},
     "output_type": "execute_result"
    }
   ],
   "source": [
    "# Using .loc[ ] and index slicing, select the first four animals \n",
    "# in the DataFrame (ie. from Beetle to Elephant)\n",
    "\n",
    "df.loc[\"Beetle\":\"Elephant\"]"
   ]
  },
  {
   "cell_type": "code",
   "execution_count": 99,
   "id": "af710643-6169-4807-8e66-e34ae6d25430",
   "metadata": {},
   "outputs": [
    {
     "data": {
      "text/html": [
       "<div>\n",
       "<style scoped>\n",
       "    .dataframe tbody tr th:only-of-type {\n",
       "        vertical-align: middle;\n",
       "    }\n",
       "\n",
       "    .dataframe tbody tr th {\n",
       "        vertical-align: top;\n",
       "    }\n",
       "\n",
       "    .dataframe thead th {\n",
       "        text-align: right;\n",
       "    }\n",
       "</style>\n",
       "<table border=\"1\" class=\"dataframe\">\n",
       "  <thead>\n",
       "    <tr style=\"text-align: right;\">\n",
       "      <th></th>\n",
       "      <th>Group</th>\n",
       "      <th>Num_Legs</th>\n",
       "      <th>Num_Wings</th>\n",
       "      <th>Significant_Feature</th>\n",
       "    </tr>\n",
       "    <tr>\n",
       "      <th>Animal</th>\n",
       "      <th></th>\n",
       "      <th></th>\n",
       "      <th></th>\n",
       "      <th></th>\n",
       "    </tr>\n",
       "  </thead>\n",
       "  <tbody>\n",
       "    <tr>\n",
       "      <th>Guppy</th>\n",
       "      <td>Fish</td>\n",
       "      <td>0</td>\n",
       "      <td>0</td>\n",
       "      <td>Tail</td>\n",
       "    </tr>\n",
       "    <tr>\n",
       "      <th>Spider</th>\n",
       "      <td>Arachnid</td>\n",
       "      <td>8</td>\n",
       "      <td>0</td>\n",
       "      <td>Exoskeleton</td>\n",
       "    </tr>\n",
       "    <tr>\n",
       "      <th>Turtle</th>\n",
       "      <td>Reptile</td>\n",
       "      <td>4</td>\n",
       "      <td>0</td>\n",
       "      <td>Shell</td>\n",
       "    </tr>\n",
       "  </tbody>\n",
       "</table>\n",
       "</div>"
      ],
      "text/plain": [
       "           Group  Num_Legs  Num_Wings Significant_Feature\n",
       "Animal                                                   \n",
       "Guppy       Fish         0          0                Tail\n",
       "Spider  Arachnid         8          0         Exoskeleton\n",
       "Turtle   Reptile         4          0               Shell"
      ]
     },
     "execution_count": 99,
     "metadata": {},
     "output_type": "execute_result"
    }
   ],
   "source": [
    "# Using .iloc[ ]  and negative slicing, select the last \n",
    "# three animals in the DataFrame\n",
    "\n",
    "df.iloc[-3:]"
   ]
  },
  {
   "cell_type": "markdown",
   "id": "57ba2b1b-579a-4b68-8d23-7cb54d8654db",
   "metadata": {},
   "source": [
    "# 8. Others: Stats Operators, String Methods, Changing Column Type"
   ]
  },
  {
   "cell_type": "markdown",
   "id": "0a7d6cd7-7c8a-4777-915d-a05b3fa0f400",
   "metadata": {},
   "source": [
    "### Stats Methods (mean, min, max, value_count, etc)"
   ]
  },
  {
   "cell_type": "markdown",
   "id": "13ed17c6-6b76-49fd-b382-2b5040ece9e6",
   "metadata": {},
   "source": [
    "Load the student scores dataset:"
   ]
  },
  {
   "cell_type": "code",
   "execution_count": 100,
   "id": "6221f8d5-1ceb-4437-813b-5190310c0bfa",
   "metadata": {},
   "outputs": [
    {
     "data": {
      "text/html": [
       "<div>\n",
       "<style scoped>\n",
       "    .dataframe tbody tr th:only-of-type {\n",
       "        vertical-align: middle;\n",
       "    }\n",
       "\n",
       "    .dataframe tbody tr th {\n",
       "        vertical-align: top;\n",
       "    }\n",
       "\n",
       "    .dataframe thead th {\n",
       "        text-align: right;\n",
       "    }\n",
       "</style>\n",
       "<table border=\"1\" class=\"dataframe\">\n",
       "  <thead>\n",
       "    <tr style=\"text-align: right;\">\n",
       "      <th></th>\n",
       "      <th>Student_IDs</th>\n",
       "      <th>Name</th>\n",
       "      <th>Science</th>\n",
       "      <th>Maths</th>\n",
       "      <th>English</th>\n",
       "    </tr>\n",
       "    <tr>\n",
       "      <th>student_ids</th>\n",
       "      <th></th>\n",
       "      <th></th>\n",
       "      <th></th>\n",
       "      <th></th>\n",
       "      <th></th>\n",
       "    </tr>\n",
       "  </thead>\n",
       "  <tbody>\n",
       "    <tr>\n",
       "      <th>1001</th>\n",
       "      <td>1001</td>\n",
       "      <td>Tom</td>\n",
       "      <td>85</td>\n",
       "      <td>78</td>\n",
       "      <td>92</td>\n",
       "    </tr>\n",
       "    <tr>\n",
       "      <th>1002</th>\n",
       "      <td>1002</td>\n",
       "      <td>Dick</td>\n",
       "      <td>25</td>\n",
       "      <td>36</td>\n",
       "      <td>45</td>\n",
       "    </tr>\n",
       "    <tr>\n",
       "      <th>1003</th>\n",
       "      <td>1003</td>\n",
       "      <td>Mary</td>\n",
       "      <td>70</td>\n",
       "      <td>52</td>\n",
       "      <td>75</td>\n",
       "    </tr>\n",
       "    <tr>\n",
       "      <th>1004</th>\n",
       "      <td>1004</td>\n",
       "      <td>Jim</td>\n",
       "      <td>78</td>\n",
       "      <td>0</td>\n",
       "      <td>75</td>\n",
       "    </tr>\n",
       "    <tr>\n",
       "      <th>1005</th>\n",
       "      <td>1005</td>\n",
       "      <td>Bob</td>\n",
       "      <td>68</td>\n",
       "      <td>45</td>\n",
       "      <td>92</td>\n",
       "    </tr>\n",
       "    <tr>\n",
       "      <th>1006</th>\n",
       "      <td>1006</td>\n",
       "      <td>Nick</td>\n",
       "      <td>79</td>\n",
       "      <td>65</td>\n",
       "      <td>75</td>\n",
       "    </tr>\n",
       "    <tr>\n",
       "      <th>1007</th>\n",
       "      <td>1007</td>\n",
       "      <td>Anne</td>\n",
       "      <td>80</td>\n",
       "      <td>95</td>\n",
       "      <td>83</td>\n",
       "    </tr>\n",
       "  </tbody>\n",
       "</table>\n",
       "</div>"
      ],
      "text/plain": [
       "             Student_IDs  Name  Science  Maths  English\n",
       "student_ids                                            \n",
       "1001                1001   Tom       85     78       92\n",
       "1002                1002  Dick       25     36       45\n",
       "1003                1003  Mary       70     52       75\n",
       "1004                1004   Jim       78      0       75\n",
       "1005                1005   Bob       68     45       92\n",
       "1006                1006  Nick       79     65       75\n",
       "1007                1007  Anne       80     95       83"
      ]
     },
     "execution_count": 100,
     "metadata": {},
     "output_type": "execute_result"
    }
   ],
   "source": [
    "student_ids = [1001, 1002, 1003, 1004, 1005, 1006, 1007]\n",
    "names = ['Tom', 'Dick', 'Mary', 'Jim', 'Bob', 'Nick', 'Anne']\n",
    "science = [85, 25, 70, 78, 68, 79, 80]\n",
    "maths = [78, 36, 52, 0, 45, 65, 95]\n",
    "english = [92, 45, 75, 75, 92, 75, 83]\n",
    "\n",
    "# Create a dictionary from the lists with 'Student ID' as index\n",
    "data = {\n",
    "    'Student_IDs' : student_ids,\n",
    "    'Name': names,\n",
    "    'Science': science,\n",
    "    'Maths': maths,\n",
    "    'English': english\n",
    "}\n",
    "\n",
    "# Create a DataFrame from the dictionary with 'Student ID' as index\n",
    "df = pd.DataFrame(data, index=student_ids)\n",
    "\n",
    "# Label the index as \"student_ids\"\n",
    "df.index.name = 'student_ids'\n",
    "df"
   ]
  },
  {
   "attachments": {},
   "cell_type": "markdown",
   "id": "82ee3b97-a22f-4a63-aab3-cf91b84f0a74",
   "metadata": {},
   "source": [
    "Pandas have stats functions for example .median() , .mode(), .min(), .max(), .var(), .std(), .sum(), .quantile(), etc that can be applied on its data.\n",
    "\n",
    "Example: calculate the mean, min and max for the Maths column:"
   ]
  },
  {
   "cell_type": "code",
   "execution_count": 101,
   "id": "b1ada551-e1f5-43b3-ba80-4816db5a7734",
   "metadata": {},
   "outputs": [
    {
     "name": "stdout",
     "output_type": "stream",
     "text": [
      "53.0 0 95\n"
     ]
    }
   ],
   "source": [
    "print( df[\"Maths\"].mean(), df[\"Maths\"].min(), df[\"Maths\"].max())"
   ]
  },
  {
   "cell_type": "markdown",
   "id": "f9bbbf28-ac0e-475c-ac0b-0414caf57ba5",
   "metadata": {},
   "source": [
    "Find the number of unique values in the English scores:"
   ]
  },
  {
   "cell_type": "code",
   "execution_count": 102,
   "id": "8597050a-e8b5-4e21-a1f5-ef934b31a771",
   "metadata": {},
   "outputs": [
    {
     "data": {
      "text/plain": [
       "English\n",
       "75    3\n",
       "92    2\n",
       "45    1\n",
       "83    1\n",
       "Name: count, dtype: int64"
      ]
     },
     "execution_count": 102,
     "metadata": {},
     "output_type": "execute_result"
    }
   ],
   "source": [
    "df['English'].value_counts()"
   ]
  },
  {
   "attachments": {},
   "cell_type": "markdown",
   "id": "b311aad9-a497-40e5-844a-f21bd6a2e77d",
   "metadata": {},
   "source": [
    "### String Methods\n",
    "\n",
    "Pandas DataFrame is equipped with a set of string processing methods in the str attribute that make it easy to operate on each element of the array, as in the code snippet below. "
   ]
  },
  {
   "cell_type": "code",
   "execution_count": 103,
   "id": "6861d319-e043-4583-8656-6d9350258097",
   "metadata": {},
   "outputs": [
    {
     "data": {
      "text/html": [
       "<div>\n",
       "<style scoped>\n",
       "    .dataframe tbody tr th:only-of-type {\n",
       "        vertical-align: middle;\n",
       "    }\n",
       "\n",
       "    .dataframe tbody tr th {\n",
       "        vertical-align: top;\n",
       "    }\n",
       "\n",
       "    .dataframe thead th {\n",
       "        text-align: right;\n",
       "    }\n",
       "</style>\n",
       "<table border=\"1\" class=\"dataframe\">\n",
       "  <thead>\n",
       "    <tr style=\"text-align: right;\">\n",
       "      <th></th>\n",
       "      <th>Student_IDs</th>\n",
       "      <th>Name</th>\n",
       "      <th>Science</th>\n",
       "      <th>Maths</th>\n",
       "      <th>English</th>\n",
       "    </tr>\n",
       "    <tr>\n",
       "      <th>student_ids</th>\n",
       "      <th></th>\n",
       "      <th></th>\n",
       "      <th></th>\n",
       "      <th></th>\n",
       "      <th></th>\n",
       "    </tr>\n",
       "  </thead>\n",
       "  <tbody>\n",
       "    <tr>\n",
       "      <th>1001</th>\n",
       "      <td>1001</td>\n",
       "      <td>tom</td>\n",
       "      <td>85</td>\n",
       "      <td>78</td>\n",
       "      <td>92</td>\n",
       "    </tr>\n",
       "    <tr>\n",
       "      <th>1002</th>\n",
       "      <td>1002</td>\n",
       "      <td>dick</td>\n",
       "      <td>25</td>\n",
       "      <td>36</td>\n",
       "      <td>45</td>\n",
       "    </tr>\n",
       "    <tr>\n",
       "      <th>1003</th>\n",
       "      <td>1003</td>\n",
       "      <td>mary</td>\n",
       "      <td>70</td>\n",
       "      <td>52</td>\n",
       "      <td>75</td>\n",
       "    </tr>\n",
       "    <tr>\n",
       "      <th>1004</th>\n",
       "      <td>1004</td>\n",
       "      <td>jim</td>\n",
       "      <td>78</td>\n",
       "      <td>0</td>\n",
       "      <td>75</td>\n",
       "    </tr>\n",
       "    <tr>\n",
       "      <th>1005</th>\n",
       "      <td>1005</td>\n",
       "      <td>bob</td>\n",
       "      <td>68</td>\n",
       "      <td>45</td>\n",
       "      <td>92</td>\n",
       "    </tr>\n",
       "    <tr>\n",
       "      <th>1006</th>\n",
       "      <td>1006</td>\n",
       "      <td>nick</td>\n",
       "      <td>79</td>\n",
       "      <td>65</td>\n",
       "      <td>75</td>\n",
       "    </tr>\n",
       "    <tr>\n",
       "      <th>1007</th>\n",
       "      <td>1007</td>\n",
       "      <td>anne</td>\n",
       "      <td>80</td>\n",
       "      <td>95</td>\n",
       "      <td>83</td>\n",
       "    </tr>\n",
       "  </tbody>\n",
       "</table>\n",
       "</div>"
      ],
      "text/plain": [
       "             Student_IDs  Name  Science  Maths  English\n",
       "student_ids                                            \n",
       "1001                1001   tom       85     78       92\n",
       "1002                1002  dick       25     36       45\n",
       "1003                1003  mary       70     52       75\n",
       "1004                1004   jim       78      0       75\n",
       "1005                1005   bob       68     45       92\n",
       "1006                1006  nick       79     65       75\n",
       "1007                1007  anne       80     95       83"
      ]
     },
     "execution_count": 103,
     "metadata": {},
     "output_type": "execute_result"
    }
   ],
   "source": [
    "# convert all names to lowercase:\n",
    "df[\"Name\"] = df[\"Name\"].str.lower()\n",
    "df"
   ]
  },
  {
   "cell_type": "code",
   "execution_count": 104,
   "id": "78b4ee56-7e0d-4bc2-8829-d5a5c6eb84bc",
   "metadata": {},
   "outputs": [
    {
     "data": {
      "text/html": [
       "<div>\n",
       "<style scoped>\n",
       "    .dataframe tbody tr th:only-of-type {\n",
       "        vertical-align: middle;\n",
       "    }\n",
       "\n",
       "    .dataframe tbody tr th {\n",
       "        vertical-align: top;\n",
       "    }\n",
       "\n",
       "    .dataframe thead th {\n",
       "        text-align: right;\n",
       "    }\n",
       "</style>\n",
       "<table border=\"1\" class=\"dataframe\">\n",
       "  <thead>\n",
       "    <tr style=\"text-align: right;\">\n",
       "      <th></th>\n",
       "      <th>Student_IDs</th>\n",
       "      <th>Name</th>\n",
       "      <th>Science</th>\n",
       "      <th>Maths</th>\n",
       "      <th>English</th>\n",
       "    </tr>\n",
       "    <tr>\n",
       "      <th>student_ids</th>\n",
       "      <th></th>\n",
       "      <th></th>\n",
       "      <th></th>\n",
       "      <th></th>\n",
       "      <th></th>\n",
       "    </tr>\n",
       "  </thead>\n",
       "  <tbody>\n",
       "    <tr>\n",
       "      <th>1001</th>\n",
       "      <td>1001</td>\n",
       "      <td>Tom</td>\n",
       "      <td>85</td>\n",
       "      <td>78</td>\n",
       "      <td>92</td>\n",
       "    </tr>\n",
       "    <tr>\n",
       "      <th>1002</th>\n",
       "      <td>1002</td>\n",
       "      <td>Dick</td>\n",
       "      <td>25</td>\n",
       "      <td>36</td>\n",
       "      <td>45</td>\n",
       "    </tr>\n",
       "    <tr>\n",
       "      <th>1003</th>\n",
       "      <td>1003</td>\n",
       "      <td>Mary</td>\n",
       "      <td>70</td>\n",
       "      <td>52</td>\n",
       "      <td>75</td>\n",
       "    </tr>\n",
       "    <tr>\n",
       "      <th>1004</th>\n",
       "      <td>1004</td>\n",
       "      <td>Jim</td>\n",
       "      <td>78</td>\n",
       "      <td>0</td>\n",
       "      <td>75</td>\n",
       "    </tr>\n",
       "    <tr>\n",
       "      <th>1005</th>\n",
       "      <td>1005</td>\n",
       "      <td>Bob</td>\n",
       "      <td>68</td>\n",
       "      <td>45</td>\n",
       "      <td>92</td>\n",
       "    </tr>\n",
       "    <tr>\n",
       "      <th>1006</th>\n",
       "      <td>1006</td>\n",
       "      <td>Nick</td>\n",
       "      <td>79</td>\n",
       "      <td>65</td>\n",
       "      <td>75</td>\n",
       "    </tr>\n",
       "    <tr>\n",
       "      <th>1007</th>\n",
       "      <td>1007</td>\n",
       "      <td>Anne</td>\n",
       "      <td>80</td>\n",
       "      <td>95</td>\n",
       "      <td>83</td>\n",
       "    </tr>\n",
       "  </tbody>\n",
       "</table>\n",
       "</div>"
      ],
      "text/plain": [
       "             Student_IDs  Name  Science  Maths  English\n",
       "student_ids                                            \n",
       "1001                1001   Tom       85     78       92\n",
       "1002                1002  Dick       25     36       45\n",
       "1003                1003  Mary       70     52       75\n",
       "1004                1004   Jim       78      0       75\n",
       "1005                1005   Bob       68     45       92\n",
       "1006                1006  Nick       79     65       75\n",
       "1007                1007  Anne       80     95       83"
      ]
     },
     "execution_count": 104,
     "metadata": {},
     "output_type": "execute_result"
    }
   ],
   "source": [
    "# Revert back capitalization for names\n",
    "df[\"Name\"] = df[\"Name\"].str.capitalize()\n",
    "df"
   ]
  },
  {
   "cell_type": "markdown",
   "id": "25498f45-8f14-4cd1-be64-66718c7f0a0f",
   "metadata": {},
   "source": [
    "### Changing Column Type using .astype() "
   ]
  },
  {
   "cell_type": "markdown",
   "id": "bb318abd-eae1-4d34-91e6-1082364af20e",
   "metadata": {},
   "source": [
    "A common task when working with data is to change the column types in a DataFrame, for example: from string columns to numeric types, from float columns to int,  etc.\n",
    "\n",
    "Below, we will demonstrate how to use the DataFrame.astype() method."
   ]
  },
  {
   "cell_type": "code",
   "execution_count": 105,
   "id": "d494a55f-65e1-45fb-a6cc-84327f430032",
   "metadata": {},
   "outputs": [
    {
     "data": {
      "text/html": [
       "<div>\n",
       "<style scoped>\n",
       "    .dataframe tbody tr th:only-of-type {\n",
       "        vertical-align: middle;\n",
       "    }\n",
       "\n",
       "    .dataframe tbody tr th {\n",
       "        vertical-align: top;\n",
       "    }\n",
       "\n",
       "    .dataframe thead th {\n",
       "        text-align: right;\n",
       "    }\n",
       "</style>\n",
       "<table border=\"1\" class=\"dataframe\">\n",
       "  <thead>\n",
       "    <tr style=\"text-align: right;\">\n",
       "      <th></th>\n",
       "      <th>A</th>\n",
       "      <th>B</th>\n",
       "      <th>C</th>\n",
       "    </tr>\n",
       "  </thead>\n",
       "  <tbody>\n",
       "    <tr>\n",
       "      <th>0</th>\n",
       "      <td>1</td>\n",
       "      <td>a</td>\n",
       "      <td>1.1</td>\n",
       "    </tr>\n",
       "    <tr>\n",
       "      <th>1</th>\n",
       "      <td>2</td>\n",
       "      <td>b</td>\n",
       "      <td>1.0</td>\n",
       "    </tr>\n",
       "    <tr>\n",
       "      <th>2</th>\n",
       "      <td>3</td>\n",
       "      <td>c</td>\n",
       "      <td>1.3</td>\n",
       "    </tr>\n",
       "    <tr>\n",
       "      <th>3</th>\n",
       "      <td>4</td>\n",
       "      <td>d</td>\n",
       "      <td>2.0</td>\n",
       "    </tr>\n",
       "    <tr>\n",
       "      <th>4</th>\n",
       "      <td>5</td>\n",
       "      <td>e</td>\n",
       "      <td>5.0</td>\n",
       "    </tr>\n",
       "  </tbody>\n",
       "</table>\n",
       "</div>"
      ],
      "text/plain": [
       "   A  B    C\n",
       "0  1  a  1.1\n",
       "1  2  b  1.0\n",
       "2  3  c  1.3\n",
       "3  4  d  2.0\n",
       "4  5  e  5.0"
      ]
     },
     "execution_count": 105,
     "metadata": {},
     "output_type": "execute_result"
    }
   ],
   "source": [
    "# Create a new DataFrame for this demo.\n",
    "\n",
    "df = pd.DataFrame({\n",
    "    'A': [1, 2, 3, 4, 5],           # integer\n",
    "    'B': ['a', 'b', 'c', 'd', 'e'], # string\n",
    "    'C': [1.1, 1.0, 1.3, 2, 5]      # float\n",
    "})\n",
    "\n",
    "# Display the Original DataFrame\n",
    "df"
   ]
  },
  {
   "cell_type": "code",
   "execution_count": 106,
   "id": "c66bd4c6-15cc-4f97-983b-14966aa51073",
   "metadata": {},
   "outputs": [
    {
     "data": {
      "text/plain": [
       "A      int64\n",
       "B     object\n",
       "C    float64\n",
       "dtype: object"
      ]
     },
     "execution_count": 106,
     "metadata": {},
     "output_type": "execute_result"
    }
   ],
   "source": [
    "df.dtypes"
   ]
  },
  {
   "cell_type": "code",
   "execution_count": 107,
   "id": "901509f9-2e5f-4e6e-864b-e353a7c64c23",
   "metadata": {},
   "outputs": [
    {
     "data": {
      "text/plain": [
       "A    object\n",
       "B    object\n",
       "C    object\n",
       "dtype: object"
      ]
     },
     "execution_count": 107,
     "metadata": {},
     "output_type": "execute_result"
    }
   ],
   "source": [
    "# Convert all columns to strings\n",
    "df = df.astype(str)\n",
    "df.dtypes"
   ]
  },
  {
   "cell_type": "code",
   "execution_count": 108,
   "id": "b3c2c459-d2f8-4317-956b-18179bf44423",
   "metadata": {},
   "outputs": [
    {
     "data": {
      "text/plain": [
       "A     int64\n",
       "B    object\n",
       "C    object\n",
       "dtype: object"
      ]
     },
     "execution_count": 108,
     "metadata": {},
     "output_type": "execute_result"
    }
   ],
   "source": [
    "# Convert column A back to int\n",
    "df[\"A\"] = df[\"A\"].astype(int)\n",
    "df.dtypes"
   ]
  },
  {
   "cell_type": "code",
   "execution_count": 109,
   "id": "05a2ea84-f479-4932-ab65-ebeac8b5d138",
   "metadata": {},
   "outputs": [
    {
     "data": {
      "text/plain": [
       "A      int64\n",
       "B     object\n",
       "C    float64\n",
       "dtype: object"
      ]
     },
     "execution_count": 109,
     "metadata": {},
     "output_type": "execute_result"
    }
   ],
   "source": [
    "# Convert column C back to float\n",
    "df[\"C\"] = df[\"C\"].astype(float)\n",
    "df.dtypes"
   ]
  },
  {
   "cell_type": "code",
   "execution_count": null,
   "id": "543fc62b-af71-4ead-9a31-614f4a2f67f3",
   "metadata": {},
   "outputs": [],
   "source": []
  },
  {
   "attachments": {},
   "cell_type": "markdown",
   "id": "736445ca-9bea-4f1a-a1ac-d4e5ca65669b",
   "metadata": {},
   "source": [
    "### **Exercise 7**\n",
    "#### Operatators, Strings, etc etc"
   ]
  },
  {
   "cell_type": "markdown",
   "id": "a9405ac2-77f4-46d9-8f70-510c3c628594",
   "metadata": {},
   "source": [
    "1. Use the scores DataFrame for the following exercises\n",
    "2. Reload and refresh the scores DataFrame. \n",
    "3. Convert the Student_ID column into strings\n",
    "4. Convert all names in the DataFrame to UPPERCASE.\n",
    "5. Find the highest marks and lowest marks for English\n",
    "6. Find the average scores for both Science and Maths "
   ]
  },
  {
   "cell_type": "code",
   "execution_count": 111,
   "id": "bd2e9167-e8b4-43d3-bcd1-cc3edee02459",
   "metadata": {},
   "outputs": [
    {
     "data": {
      "text/html": [
       "<div>\n",
       "<style scoped>\n",
       "    .dataframe tbody tr th:only-of-type {\n",
       "        vertical-align: middle;\n",
       "    }\n",
       "\n",
       "    .dataframe tbody tr th {\n",
       "        vertical-align: top;\n",
       "    }\n",
       "\n",
       "    .dataframe thead th {\n",
       "        text-align: right;\n",
       "    }\n",
       "</style>\n",
       "<table border=\"1\" class=\"dataframe\">\n",
       "  <thead>\n",
       "    <tr style=\"text-align: right;\">\n",
       "      <th></th>\n",
       "      <th>Student_IDs</th>\n",
       "      <th>Name</th>\n",
       "      <th>Science</th>\n",
       "      <th>Maths</th>\n",
       "      <th>English</th>\n",
       "    </tr>\n",
       "    <tr>\n",
       "      <th>student_ids</th>\n",
       "      <th></th>\n",
       "      <th></th>\n",
       "      <th></th>\n",
       "      <th></th>\n",
       "      <th></th>\n",
       "    </tr>\n",
       "  </thead>\n",
       "  <tbody>\n",
       "    <tr>\n",
       "      <th>1001</th>\n",
       "      <td>1001</td>\n",
       "      <td>Tom</td>\n",
       "      <td>85</td>\n",
       "      <td>78</td>\n",
       "      <td>92</td>\n",
       "    </tr>\n",
       "    <tr>\n",
       "      <th>1002</th>\n",
       "      <td>1002</td>\n",
       "      <td>Dick</td>\n",
       "      <td>25</td>\n",
       "      <td>36</td>\n",
       "      <td>45</td>\n",
       "    </tr>\n",
       "    <tr>\n",
       "      <th>1003</th>\n",
       "      <td>1003</td>\n",
       "      <td>Mary</td>\n",
       "      <td>70</td>\n",
       "      <td>52</td>\n",
       "      <td>75</td>\n",
       "    </tr>\n",
       "    <tr>\n",
       "      <th>1004</th>\n",
       "      <td>1004</td>\n",
       "      <td>Jim</td>\n",
       "      <td>78</td>\n",
       "      <td>0</td>\n",
       "      <td>75</td>\n",
       "    </tr>\n",
       "    <tr>\n",
       "      <th>1005</th>\n",
       "      <td>1005</td>\n",
       "      <td>Bob</td>\n",
       "      <td>68</td>\n",
       "      <td>45</td>\n",
       "      <td>92</td>\n",
       "    </tr>\n",
       "    <tr>\n",
       "      <th>1006</th>\n",
       "      <td>1006</td>\n",
       "      <td>Nick</td>\n",
       "      <td>79</td>\n",
       "      <td>65</td>\n",
       "      <td>75</td>\n",
       "    </tr>\n",
       "    <tr>\n",
       "      <th>1007</th>\n",
       "      <td>1007</td>\n",
       "      <td>Anne</td>\n",
       "      <td>80</td>\n",
       "      <td>95</td>\n",
       "      <td>83</td>\n",
       "    </tr>\n",
       "  </tbody>\n",
       "</table>\n",
       "</div>"
      ],
      "text/plain": [
       "             Student_IDs  Name  Science  Maths  English\n",
       "student_ids                                            \n",
       "1001                1001   Tom       85     78       92\n",
       "1002                1002  Dick       25     36       45\n",
       "1003                1003  Mary       70     52       75\n",
       "1004                1004   Jim       78      0       75\n",
       "1005                1005   Bob       68     45       92\n",
       "1006                1006  Nick       79     65       75\n",
       "1007                1007  Anne       80     95       83"
      ]
     },
     "execution_count": 111,
     "metadata": {},
     "output_type": "execute_result"
    }
   ],
   "source": [
    "# Place your answers here!\n",
    "student_ids = [1001, 1002, 1003, 1004, 1005, 1006, 1007]\n",
    "names = ['Tom', 'Dick', 'Mary', 'Jim', 'Bob', 'Nick', 'Anne']\n",
    "science = [85, 25, 70, 78, 68, 79, 80]\n",
    "maths = [78, 36, 52, 0, 45, 65, 95]\n",
    "english = [92, 45, 75, 75, 92, 75, 83]\n",
    "\n",
    "# Create a dictionary from the lists with 'Student ID' as index\n",
    "data = {\n",
    "    'Student_IDs' : student_ids,\n",
    "    'Name': names,\n",
    "    'Science': science,\n",
    "    'Maths': maths,\n",
    "    'English': english\n",
    "}\n",
    "\n",
    "# Create a DataFrame from the dictionary with 'Student ID' as index\n",
    "df = pd.DataFrame(data, index=student_ids)\n",
    "\n",
    "# Label the index as \"student_ids\"\n",
    "df.index.name = 'student_ids'\n",
    "df"
   ]
  },
  {
   "cell_type": "code",
   "execution_count": 113,
   "id": "ea404149-aad4-4285-b7b2-855cde735046",
   "metadata": {},
   "outputs": [
    {
     "data": {
      "text/html": [
       "<div>\n",
       "<style scoped>\n",
       "    .dataframe tbody tr th:only-of-type {\n",
       "        vertical-align: middle;\n",
       "    }\n",
       "\n",
       "    .dataframe tbody tr th {\n",
       "        vertical-align: top;\n",
       "    }\n",
       "\n",
       "    .dataframe thead th {\n",
       "        text-align: right;\n",
       "    }\n",
       "</style>\n",
       "<table border=\"1\" class=\"dataframe\">\n",
       "  <thead>\n",
       "    <tr style=\"text-align: right;\">\n",
       "      <th></th>\n",
       "      <th>Student_IDs</th>\n",
       "      <th>Name</th>\n",
       "      <th>Science</th>\n",
       "      <th>Maths</th>\n",
       "      <th>English</th>\n",
       "    </tr>\n",
       "    <tr>\n",
       "      <th>student_ids</th>\n",
       "      <th></th>\n",
       "      <th></th>\n",
       "      <th></th>\n",
       "      <th></th>\n",
       "      <th></th>\n",
       "    </tr>\n",
       "  </thead>\n",
       "  <tbody>\n",
       "    <tr>\n",
       "      <th>1001</th>\n",
       "      <td>1001</td>\n",
       "      <td>Tom</td>\n",
       "      <td>85</td>\n",
       "      <td>78</td>\n",
       "      <td>92</td>\n",
       "    </tr>\n",
       "    <tr>\n",
       "      <th>1002</th>\n",
       "      <td>1002</td>\n",
       "      <td>Dick</td>\n",
       "      <td>25</td>\n",
       "      <td>36</td>\n",
       "      <td>45</td>\n",
       "    </tr>\n",
       "    <tr>\n",
       "      <th>1003</th>\n",
       "      <td>1003</td>\n",
       "      <td>Mary</td>\n",
       "      <td>70</td>\n",
       "      <td>52</td>\n",
       "      <td>75</td>\n",
       "    </tr>\n",
       "    <tr>\n",
       "      <th>1004</th>\n",
       "      <td>1004</td>\n",
       "      <td>Jim</td>\n",
       "      <td>78</td>\n",
       "      <td>0</td>\n",
       "      <td>75</td>\n",
       "    </tr>\n",
       "    <tr>\n",
       "      <th>1005</th>\n",
       "      <td>1005</td>\n",
       "      <td>Bob</td>\n",
       "      <td>68</td>\n",
       "      <td>45</td>\n",
       "      <td>92</td>\n",
       "    </tr>\n",
       "    <tr>\n",
       "      <th>1006</th>\n",
       "      <td>1006</td>\n",
       "      <td>Nick</td>\n",
       "      <td>79</td>\n",
       "      <td>65</td>\n",
       "      <td>75</td>\n",
       "    </tr>\n",
       "    <tr>\n",
       "      <th>1007</th>\n",
       "      <td>1007</td>\n",
       "      <td>Anne</td>\n",
       "      <td>80</td>\n",
       "      <td>95</td>\n",
       "      <td>83</td>\n",
       "    </tr>\n",
       "  </tbody>\n",
       "</table>\n",
       "</div>"
      ],
      "text/plain": [
       "            Student_IDs  Name  Science  Maths  English\n",
       "student_ids                                           \n",
       "1001               1001   Tom       85     78       92\n",
       "1002               1002  Dick       25     36       45\n",
       "1003               1003  Mary       70     52       75\n",
       "1004               1004   Jim       78      0       75\n",
       "1005               1005   Bob       68     45       92\n",
       "1006               1006  Nick       79     65       75\n",
       "1007               1007  Anne       80     95       83"
      ]
     },
     "execution_count": 113,
     "metadata": {},
     "output_type": "execute_result"
    }
   ],
   "source": [
    "# Place your answers here!\n",
    "df[\"Student_IDs\"] = df[\"Student_IDs\"].astype(str)\n",
    "df"
   ]
  },
  {
   "cell_type": "code",
   "execution_count": 114,
   "id": "b373696e-0dd9-4def-b035-d1d390128285",
   "metadata": {},
   "outputs": [
    {
     "data": {
      "text/html": [
       "<div>\n",
       "<style scoped>\n",
       "    .dataframe tbody tr th:only-of-type {\n",
       "        vertical-align: middle;\n",
       "    }\n",
       "\n",
       "    .dataframe tbody tr th {\n",
       "        vertical-align: top;\n",
       "    }\n",
       "\n",
       "    .dataframe thead th {\n",
       "        text-align: right;\n",
       "    }\n",
       "</style>\n",
       "<table border=\"1\" class=\"dataframe\">\n",
       "  <thead>\n",
       "    <tr style=\"text-align: right;\">\n",
       "      <th></th>\n",
       "      <th>Student_IDs</th>\n",
       "      <th>Name</th>\n",
       "      <th>Science</th>\n",
       "      <th>Maths</th>\n",
       "      <th>English</th>\n",
       "    </tr>\n",
       "    <tr>\n",
       "      <th>student_ids</th>\n",
       "      <th></th>\n",
       "      <th></th>\n",
       "      <th></th>\n",
       "      <th></th>\n",
       "      <th></th>\n",
       "    </tr>\n",
       "  </thead>\n",
       "  <tbody>\n",
       "    <tr>\n",
       "      <th>1001</th>\n",
       "      <td>1001</td>\n",
       "      <td>TOM</td>\n",
       "      <td>85</td>\n",
       "      <td>78</td>\n",
       "      <td>92</td>\n",
       "    </tr>\n",
       "    <tr>\n",
       "      <th>1002</th>\n",
       "      <td>1002</td>\n",
       "      <td>DICK</td>\n",
       "      <td>25</td>\n",
       "      <td>36</td>\n",
       "      <td>45</td>\n",
       "    </tr>\n",
       "    <tr>\n",
       "      <th>1003</th>\n",
       "      <td>1003</td>\n",
       "      <td>MARY</td>\n",
       "      <td>70</td>\n",
       "      <td>52</td>\n",
       "      <td>75</td>\n",
       "    </tr>\n",
       "    <tr>\n",
       "      <th>1004</th>\n",
       "      <td>1004</td>\n",
       "      <td>JIM</td>\n",
       "      <td>78</td>\n",
       "      <td>0</td>\n",
       "      <td>75</td>\n",
       "    </tr>\n",
       "    <tr>\n",
       "      <th>1005</th>\n",
       "      <td>1005</td>\n",
       "      <td>BOB</td>\n",
       "      <td>68</td>\n",
       "      <td>45</td>\n",
       "      <td>92</td>\n",
       "    </tr>\n",
       "    <tr>\n",
       "      <th>1006</th>\n",
       "      <td>1006</td>\n",
       "      <td>NICK</td>\n",
       "      <td>79</td>\n",
       "      <td>65</td>\n",
       "      <td>75</td>\n",
       "    </tr>\n",
       "    <tr>\n",
       "      <th>1007</th>\n",
       "      <td>1007</td>\n",
       "      <td>ANNE</td>\n",
       "      <td>80</td>\n",
       "      <td>95</td>\n",
       "      <td>83</td>\n",
       "    </tr>\n",
       "  </tbody>\n",
       "</table>\n",
       "</div>"
      ],
      "text/plain": [
       "            Student_IDs  Name  Science  Maths  English\n",
       "student_ids                                           \n",
       "1001               1001   TOM       85     78       92\n",
       "1002               1002  DICK       25     36       45\n",
       "1003               1003  MARY       70     52       75\n",
       "1004               1004   JIM       78      0       75\n",
       "1005               1005   BOB       68     45       92\n",
       "1006               1006  NICK       79     65       75\n",
       "1007               1007  ANNE       80     95       83"
      ]
     },
     "execution_count": 114,
     "metadata": {},
     "output_type": "execute_result"
    }
   ],
   "source": [
    "# Place your answers here!\n",
    "df[\"Name\"] = df[\"Name\"].str.upper()\n",
    "df"
   ]
  },
  {
   "cell_type": "code",
   "execution_count": 115,
   "id": "e3017505-a19f-4a54-8156-58866343104d",
   "metadata": {},
   "outputs": [
    {
     "data": {
      "text/plain": [
       "np.int64(92)"
      ]
     },
     "execution_count": 115,
     "metadata": {},
     "output_type": "execute_result"
    }
   ],
   "source": [
    "df[\"English\"].max()"
   ]
  },
  {
   "cell_type": "code",
   "execution_count": 116,
   "id": "aaa46fd4-5e26-41bd-b517-6644ac7c275f",
   "metadata": {},
   "outputs": [
    {
     "data": {
      "text/plain": [
       "np.int64(45)"
      ]
     },
     "execution_count": 116,
     "metadata": {},
     "output_type": "execute_result"
    }
   ],
   "source": [
    "df[\"English\"].min()"
   ]
  },
  {
   "cell_type": "code",
   "execution_count": 117,
   "id": "7dec58fc-3277-4e77-8151-8b15d015ccf0",
   "metadata": {},
   "outputs": [
    {
     "data": {
      "text/plain": [
       "np.float64(69.28571428571429)"
      ]
     },
     "execution_count": 117,
     "metadata": {},
     "output_type": "execute_result"
    }
   ],
   "source": [
    "df[\"Science\"].mean()"
   ]
  },
  {
   "cell_type": "code",
   "execution_count": 118,
   "id": "050acb93-fea7-4d50-bf3c-e5879317f20b",
   "metadata": {},
   "outputs": [
    {
     "data": {
      "text/plain": [
       "np.float64(53.0)"
      ]
     },
     "execution_count": 118,
     "metadata": {},
     "output_type": "execute_result"
    }
   ],
   "source": [
    "df[\"Maths\"].mean()"
   ]
  },
  {
   "cell_type": "markdown",
   "id": "c752856a-3e88-40c9-b8e8-9af98c2e617f",
   "metadata": {},
   "source": [
    "# 9. Plotting with pandas"
   ]
  },
  {
   "cell_type": "markdown",
   "id": "f98e0beb-cf33-4a6c-8cef-24f7e6fd1057",
   "metadata": {},
   "source": [
    "pandas has some built-in methods (implemented using matplotlib) that simplify creating visualizations from DataFrame and Series objects. \n",
    "\n",
    "We shall look at plotting line plots, box plots and histograms in this section\n",
    "\n",
    "We will use the COE Pricing 2010-2024 dataset for the following."
   ]
  },
  {
   "cell_type": "code",
   "execution_count": null,
   "id": "a50c6c5a-a541-4ef9-9ec0-54c55f66b5df",
   "metadata": {},
   "outputs": [],
   "source": [
    "df_coe = pd.read_csv(\"COE_2010_2024A.csv\")"
   ]
  },
  {
   "cell_type": "code",
   "execution_count": 120,
   "id": "5bdc940c-de46-4909-ac1e-93fd8284c4a8",
   "metadata": {},
   "outputs": [
    {
     "data": {
      "text/html": [
       "<div>\n",
       "<style scoped>\n",
       "    .dataframe tbody tr th:only-of-type {\n",
       "        vertical-align: middle;\n",
       "    }\n",
       "\n",
       "    .dataframe tbody tr th {\n",
       "        vertical-align: top;\n",
       "    }\n",
       "\n",
       "    .dataframe thead th {\n",
       "        text-align: right;\n",
       "    }\n",
       "</style>\n",
       "<table border=\"1\" class=\"dataframe\">\n",
       "  <thead>\n",
       "    <tr style=\"text-align: right;\">\n",
       "      <th></th>\n",
       "      <th>Date</th>\n",
       "      <th>CategoryA</th>\n",
       "      <th>CategoryB</th>\n",
       "      <th>CategoryC</th>\n",
       "      <th>CategoryD</th>\n",
       "      <th>CategoryE</th>\n",
       "    </tr>\n",
       "  </thead>\n",
       "  <tbody>\n",
       "    <tr>\n",
       "      <th>0</th>\n",
       "      <td>1/1/2010</td>\n",
       "      <td>18502</td>\n",
       "      <td>19190</td>\n",
       "      <td>19001</td>\n",
       "      <td>889</td>\n",
       "      <td>19889</td>\n",
       "    </tr>\n",
       "    <tr>\n",
       "      <th>1</th>\n",
       "      <td>15/1/2010</td>\n",
       "      <td>20501</td>\n",
       "      <td>22400</td>\n",
       "      <td>20090</td>\n",
       "      <td>852</td>\n",
       "      <td>21899</td>\n",
       "    </tr>\n",
       "    <tr>\n",
       "      <th>2</th>\n",
       "      <td>1/2/2010</td>\n",
       "      <td>19989</td>\n",
       "      <td>23180</td>\n",
       "      <td>21390</td>\n",
       "      <td>852</td>\n",
       "      <td>22401</td>\n",
       "    </tr>\n",
       "    <tr>\n",
       "      <th>3</th>\n",
       "      <td>15/2/2010</td>\n",
       "      <td>20340</td>\n",
       "      <td>23889</td>\n",
       "      <td>23501</td>\n",
       "      <td>1001</td>\n",
       "      <td>24229</td>\n",
       "    </tr>\n",
       "    <tr>\n",
       "      <th>4</th>\n",
       "      <td>1/3/2010</td>\n",
       "      <td>20802</td>\n",
       "      <td>26389</td>\n",
       "      <td>27001</td>\n",
       "      <td>1159</td>\n",
       "      <td>27590</td>\n",
       "    </tr>\n",
       "  </tbody>\n",
       "</table>\n",
       "</div>"
      ],
      "text/plain": [
       "        Date  CategoryA  CategoryB  CategoryC  CategoryD  CategoryE\n",
       "0   1/1/2010      18502      19190      19001        889      19889\n",
       "1  15/1/2010      20501      22400      20090        852      21899\n",
       "2   1/2/2010      19989      23180      21390        852      22401\n",
       "3  15/2/2010      20340      23889      23501       1001      24229\n",
       "4   1/3/2010      20802      26389      27001       1159      27590"
      ]
     },
     "execution_count": 120,
     "metadata": {},
     "output_type": "execute_result"
    }
   ],
   "source": [
    "df_coe.head()"
   ]
  },
  {
   "cell_type": "code",
   "execution_count": 121,
   "id": "45e7cca9-4c3c-410c-a377-636f9f6ef93e",
   "metadata": {},
   "outputs": [
    {
     "name": "stdout",
     "output_type": "stream",
     "text": [
      "<class 'pandas.core.frame.DataFrame'>\n",
      "RangeIndex: 338 entries, 0 to 337\n",
      "Data columns (total 6 columns):\n",
      " #   Column     Non-Null Count  Dtype \n",
      "---  ------     --------------  ----- \n",
      " 0   Date       338 non-null    object\n",
      " 1   CategoryA  338 non-null    int64 \n",
      " 2   CategoryB  338 non-null    int64 \n",
      " 3   CategoryC  338 non-null    int64 \n",
      " 4   CategoryD  338 non-null    int64 \n",
      " 5   CategoryE  338 non-null    int64 \n",
      "dtypes: int64(5), object(1)\n",
      "memory usage: 16.0+ KB\n"
     ]
    }
   ],
   "source": [
    "df_coe.info()"
   ]
  },
  {
   "cell_type": "markdown",
   "id": "9bfcc14f-24cf-47a4-ad31-cf11c6f70987",
   "metadata": {},
   "source": [
    "We observe the following:\n",
    "1. the default index labels are integers 0, 1, 2, 3, 4 …\n",
    "2. the Date column is not recognized as DateTime object."
   ]
  },
  {
   "cell_type": "markdown",
   "id": "96013c45-c44c-4437-a9ee-4cd2cdf603fc",
   "metadata": {},
   "source": [
    "Therefore, \n",
    "we will first convert the Date column into a DateTime object. \n",
    "We then set the Date column as the index for the DataFrame.\n"
   ]
  },
  {
   "cell_type": "code",
   "execution_count": 122,
   "id": "ac8a4a84-63c4-413e-86f3-a51df2958b5a",
   "metadata": {},
   "outputs": [],
   "source": [
    "df_coe['Date'] = pd.to_datetime(df_coe['Date'], format = \"%d/%m/%Y\")"
   ]
  },
  {
   "cell_type": "code",
   "execution_count": 123,
   "id": "4deb8f46-f4e7-4b2f-9931-294ce066fb44",
   "metadata": {},
   "outputs": [
    {
     "data": {
      "text/html": [
       "<div>\n",
       "<style scoped>\n",
       "    .dataframe tbody tr th:only-of-type {\n",
       "        vertical-align: middle;\n",
       "    }\n",
       "\n",
       "    .dataframe tbody tr th {\n",
       "        vertical-align: top;\n",
       "    }\n",
       "\n",
       "    .dataframe thead th {\n",
       "        text-align: right;\n",
       "    }\n",
       "</style>\n",
       "<table border=\"1\" class=\"dataframe\">\n",
       "  <thead>\n",
       "    <tr style=\"text-align: right;\">\n",
       "      <th></th>\n",
       "      <th>CategoryA</th>\n",
       "      <th>CategoryB</th>\n",
       "      <th>CategoryC</th>\n",
       "      <th>CategoryD</th>\n",
       "      <th>CategoryE</th>\n",
       "    </tr>\n",
       "    <tr>\n",
       "      <th>Date</th>\n",
       "      <th></th>\n",
       "      <th></th>\n",
       "      <th></th>\n",
       "      <th></th>\n",
       "      <th></th>\n",
       "    </tr>\n",
       "  </thead>\n",
       "  <tbody>\n",
       "    <tr>\n",
       "      <th>2010-01-01</th>\n",
       "      <td>18502</td>\n",
       "      <td>19190</td>\n",
       "      <td>19001</td>\n",
       "      <td>889</td>\n",
       "      <td>19889</td>\n",
       "    </tr>\n",
       "    <tr>\n",
       "      <th>2010-01-15</th>\n",
       "      <td>20501</td>\n",
       "      <td>22400</td>\n",
       "      <td>20090</td>\n",
       "      <td>852</td>\n",
       "      <td>21899</td>\n",
       "    </tr>\n",
       "    <tr>\n",
       "      <th>2010-02-01</th>\n",
       "      <td>19989</td>\n",
       "      <td>23180</td>\n",
       "      <td>21390</td>\n",
       "      <td>852</td>\n",
       "      <td>22401</td>\n",
       "    </tr>\n",
       "    <tr>\n",
       "      <th>2010-02-15</th>\n",
       "      <td>20340</td>\n",
       "      <td>23889</td>\n",
       "      <td>23501</td>\n",
       "      <td>1001</td>\n",
       "      <td>24229</td>\n",
       "    </tr>\n",
       "    <tr>\n",
       "      <th>2010-03-01</th>\n",
       "      <td>20802</td>\n",
       "      <td>26389</td>\n",
       "      <td>27001</td>\n",
       "      <td>1159</td>\n",
       "      <td>27590</td>\n",
       "    </tr>\n",
       "  </tbody>\n",
       "</table>\n",
       "</div>"
      ],
      "text/plain": [
       "            CategoryA  CategoryB  CategoryC  CategoryD  CategoryE\n",
       "Date                                                             \n",
       "2010-01-01      18502      19190      19001        889      19889\n",
       "2010-01-15      20501      22400      20090        852      21899\n",
       "2010-02-01      19989      23180      21390        852      22401\n",
       "2010-02-15      20340      23889      23501       1001      24229\n",
       "2010-03-01      20802      26389      27001       1159      27590"
      ]
     },
     "execution_count": 123,
     "metadata": {},
     "output_type": "execute_result"
    }
   ],
   "source": [
    "df_coe = df_coe.set_index(\"Date\")\n",
    "df_coe.head()"
   ]
  },
  {
   "cell_type": "code",
   "execution_count": 124,
   "id": "0eb9b153-7856-458f-bc7b-2cb8985cfd1b",
   "metadata": {},
   "outputs": [
    {
     "name": "stdout",
     "output_type": "stream",
     "text": [
      "<class 'pandas.core.frame.DataFrame'>\n",
      "DatetimeIndex: 338 entries, 2010-01-01 to 2024-04-15\n",
      "Data columns (total 5 columns):\n",
      " #   Column     Non-Null Count  Dtype\n",
      "---  ------     --------------  -----\n",
      " 0   CategoryA  338 non-null    int64\n",
      " 1   CategoryB  338 non-null    int64\n",
      " 2   CategoryC  338 non-null    int64\n",
      " 3   CategoryD  338 non-null    int64\n",
      " 4   CategoryE  338 non-null    int64\n",
      "dtypes: int64(5)\n",
      "memory usage: 15.8 KB\n"
     ]
    }
   ],
   "source": [
    "df_coe.info()                                      "
   ]
  },
  {
   "attachments": {},
   "cell_type": "markdown",
   "id": "7b79b571-9d15-45c3-8e7f-eacc5b6ccd0f",
   "metadata": {},
   "source": [
    "We can then simply call DataFrame.plot( ) to generate the plot:"
   ]
  },
  {
   "cell_type": "code",
   "execution_count": 125,
   "id": "172ecad0-abda-46b8-a74a-61415f92ba9f",
   "metadata": {},
   "outputs": [
    {
     "data": {
      "text/plain": [
       "<Axes: xlabel='Date'>"
      ]
     },
     "execution_count": 125,
     "metadata": {},
     "output_type": "execute_result"
    },
    {
     "data": {
      "image/png": "[encoded data removed]",
      "text/plain": [
       "<Figure size 640x480 with 1 Axes>"
      ]
     },
     "metadata": {},
     "output_type": "display_data"
    }
   ],
   "source": [
    "df_coe[\"CategoryA\"].plot( )"
   ]
  },
  {
   "cell_type": "code",
   "execution_count": 126,
   "id": "e6e281e8-5a69-4619-81e5-3de7ae9831b0",
   "metadata": {},
   "outputs": [
    {
     "data": {
      "text/plain": [
       "<Axes: xlabel='Date'>"
      ]
     },
     "execution_count": 126,
     "metadata": {},
     "output_type": "execute_result"
    },
    {
     "data": {
      "image/png": "[encoded data removed]",
      "text/plain": [
       "<Figure size 640x480 with 1 Axes>"
      ]
     },
     "metadata": {},
     "output_type": "display_data"
    }
   ],
   "source": [
    "# Alternative command:\n",
    "df_coe.plot( y = \"CategoryA\")"
   ]
  },
  {
   "cell_type": "markdown",
   "id": "48310558-bccc-4fe0-8674-6b441c9b734f",
   "metadata": {},
   "source": [
    "We can generate multiple plots by putting the columns in a list:\n"
   ]
  },
  {
   "cell_type": "code",
   "execution_count": 127,
   "id": "35a011f0-5785-430f-a730-bc06fd430f33",
   "metadata": {},
   "outputs": [
    {
     "data": {
      "text/plain": [
       "<Axes: xlabel='Date'>"
      ]
     },
     "execution_count": 127,
     "metadata": {},
     "output_type": "execute_result"
    },
    {
     "data": {
      "image/png": "[encoded data removed]",
      "text/plain": [
       "<Figure size 640x480 with 1 Axes>"
      ]
     },
     "metadata": {},
     "output_type": "display_data"
    }
   ],
   "source": [
    "df_coe.plot(y = [\"CategoryA\", \"CategoryB\"])"
   ]
  },
  {
   "cell_type": "markdown",
   "id": "9ab32fb6-3710-4fbf-84f3-650fc0827f67",
   "metadata": {},
   "source": [
    "Similarly, pandas can generate bar plots and histograms.\n",
    "To generate a vertical bar plot (example here for 2024 Jan-Apr data only): \n"
   ]
  },
  {
   "cell_type": "code",
   "execution_count": 129,
   "id": "66ae8972-dede-4299-b2a3-4d993769724e",
   "metadata": {},
   "outputs": [
    {
     "data": {
      "image/png": "[encoded data removed]",
      "text/plain": [
       "<Figure size 640x480 with 1 Axes>"
      ]
     },
     "metadata": {},
     "output_type": "display_data"
    }
   ],
   "source": [
    "# Extract COE results for year 2024\n",
    "coe_2024 = df_coe.loc[\"2024\"]\n",
    "\n",
    "# Extract month information and store in new Month column\n",
    "coe_2024[\"Month\"] = coe_2024.index.month\n",
    "\n",
    "# Plot the bar chart for CatA and CatB results\n",
    "ax = coe_2024.plot(x = \"Month\", y = \"CategoryA\", kind=\"bar\")\n"
   ]
  },
  {
   "cell_type": "markdown",
   "id": "b51fafe0-6c00-49d5-ac26-3b4d5e70ff46",
   "metadata": {},
   "source": [
    "Lastly, we can generate a histogram easily using `.hist()`\n",
    "\n",
    "The following produces a quick-and-simple distribution plot of the COE price over the period 2010-2024 (present):"
   ]
  },
  {
   "cell_type": "code",
   "execution_count": 130,
   "id": "41ea4222-3ddb-4015-8add-0f03496029c6",
   "metadata": {},
   "outputs": [
    {
     "data": {
      "text/plain": [
       "<Axes: >"
      ]
     },
     "execution_count": 130,
     "metadata": {},
     "output_type": "execute_result"
    },
    {
     "data": {
      "image/png": "[encoded data removed]",
      "text/plain": [
       "<Figure size 640x480 with 1 Axes>"
      ]
     },
     "metadata": {},
     "output_type": "display_data"
    }
   ],
   "source": [
    "df_coe[\"CategoryA\"].hist(bins=25)"
   ]
  },
  {
   "cell_type": "code",
   "execution_count": null,
   "id": "d2f3f756-9a04-412d-a227-7de0b6fc8c29",
   "metadata": {},
   "outputs": [],
   "source": []
  },
  {
   "cell_type": "markdown",
   "id": "9cf1eaac-18a5-43b2-a62e-c8d5aa18f545",
   "metadata": {},
   "source": [
    "### **Exercise 8**\n",
    "\n",
    "#### Plotting with pandas\n",
    "\n",
    "Continue and use the COE Price DataFrame `df_coe` for the following:\n",
    "1. Try plotting df_coe without specifying any columns, ie. df_coe.plot(), and explain what happened. \n",
    "2. Plot the line plot for the year 2023 only, for both CatA and CatB, complete with markers, axis labels and titles and legends, as shown below (fig left).\n",
    "3. Convert the plot into a bar plot (for 2023, CatA and CatB) , complete with axis labels and titles, etc, as shown below (fig right).\n",
    "\n"
   ]
  },
  {
   "cell_type": "markdown",
   "id": "c2aceee5-f6d6-442a-9648-9f10f858efc4",
   "metadata": {},
   "source": [
    "\n",
    "\n"
   ]
  },
  {
   "attachments": {
    "e8205dd1-2a04-4358-9b06-abda77a2cca5.png": {
     "image/png": "[encoded data removed]"
    }
   },
   "cell_type": "markdown",
   "id": "34bbcf33-5dfc-4246-8019-4693b0ced165",
   "metadata": {},
   "source": [
    "![image.png](attachment:e8205dd1-2a04-4358-9b06-abda77a2cca5.png)"
   ]
  },
  {
   "cell_type": "code",
   "execution_count": null,
   "id": "1906569b-4fbc-40bb-b956-83c7edc0dd4f",
   "metadata": {},
   "outputs": [
    {
     "data": {
      "text/html": [
       "<div>\n",
       "<style scoped>\n",
       "    .dataframe tbody tr th:only-of-type {\n",
       "        vertical-align: middle;\n",
       "    }\n",
       "\n",
       "    .dataframe tbody tr th {\n",
       "        vertical-align: top;\n",
       "    }\n",
       "\n",
       "    .dataframe thead th {\n",
       "        text-align: right;\n",
       "    }\n",
       "</style>\n",
       "<table border=\"1\" class=\"dataframe\">\n",
       "  <thead>\n",
       "    <tr style=\"text-align: right;\">\n",
       "      <th></th>\n",
       "      <th>Date</th>\n",
       "      <th>CategoryA</th>\n",
       "      <th>CategoryB</th>\n",
       "      <th>CategoryC</th>\n",
       "      <th>CategoryD</th>\n",
       "      <th>CategoryE</th>\n",
       "    </tr>\n",
       "  </thead>\n",
       "  <tbody>\n",
       "    <tr>\n",
       "      <th>0</th>\n",
       "      <td>1/1/2010</td>\n",
       "      <td>18502</td>\n",
       "      <td>19190</td>\n",
       "      <td>19001</td>\n",
       "      <td>889</td>\n",
       "      <td>19889</td>\n",
       "    </tr>\n",
       "    <tr>\n",
       "      <th>1</th>\n",
       "      <td>15/1/2010</td>\n",
       "      <td>20501</td>\n",
       "      <td>22400</td>\n",
       "      <td>20090</td>\n",
       "      <td>852</td>\n",
       "      <td>21899</td>\n",
       "    </tr>\n",
       "    <tr>\n",
       "      <th>2</th>\n",
       "      <td>1/2/2010</td>\n",
       "      <td>19989</td>\n",
       "      <td>23180</td>\n",
       "      <td>21390</td>\n",
       "      <td>852</td>\n",
       "      <td>22401</td>\n",
       "    </tr>\n",
       "    <tr>\n",
       "      <th>3</th>\n",
       "      <td>15/2/2010</td>\n",
       "      <td>20340</td>\n",
       "      <td>23889</td>\n",
       "      <td>23501</td>\n",
       "      <td>1001</td>\n",
       "      <td>24229</td>\n",
       "    </tr>\n",
       "    <tr>\n",
       "      <th>4</th>\n",
       "      <td>1/3/2010</td>\n",
       "      <td>20802</td>\n",
       "      <td>26389</td>\n",
       "      <td>27001</td>\n",
       "      <td>1159</td>\n",
       "      <td>27590</td>\n",
       "    </tr>\n",
       "    <tr>\n",
       "      <th>...</th>\n",
       "      <td>...</td>\n",
       "      <td>...</td>\n",
       "      <td>...</td>\n",
       "      <td>...</td>\n",
       "      <td>...</td>\n",
       "      <td>...</td>\n",
       "    </tr>\n",
       "    <tr>\n",
       "      <th>333</th>\n",
       "      <td>15/2/2024</td>\n",
       "      <td>76801</td>\n",
       "      <td>97000</td>\n",
       "      <td>73001</td>\n",
       "      <td>8911</td>\n",
       "      <td>94006</td>\n",
       "    </tr>\n",
       "    <tr>\n",
       "      <th>334</th>\n",
       "      <td>1/3/2024</td>\n",
       "      <td>83000</td>\n",
       "      <td>96010</td>\n",
       "      <td>75599</td>\n",
       "      <td>9400</td>\n",
       "      <td>95010</td>\n",
       "    </tr>\n",
       "    <tr>\n",
       "      <th>335</th>\n",
       "      <td>15/3/2024</td>\n",
       "      <td>85489</td>\n",
       "      <td>96011</td>\n",
       "      <td>70112</td>\n",
       "      <td>9689</td>\n",
       "      <td>95856</td>\n",
       "    </tr>\n",
       "    <tr>\n",
       "      <th>336</th>\n",
       "      <td>1/4/2024</td>\n",
       "      <td>89000</td>\n",
       "      <td>101334</td>\n",
       "      <td>67501</td>\n",
       "      <td>10000</td>\n",
       "      <td>101002</td>\n",
       "    </tr>\n",
       "    <tr>\n",
       "      <th>337</th>\n",
       "      <td>15/4/2024</td>\n",
       "      <td>94010</td>\n",
       "      <td>102001</td>\n",
       "      <td>68502</td>\n",
       "      <td>9990</td>\n",
       "      <td>103249</td>\n",
       "    </tr>\n",
       "  </tbody>\n",
       "</table>\n",
       "<p>338 rows × 6 columns</p>\n",
       "</div>"
      ],
      "text/plain": [
       "          Date  CategoryA  CategoryB  CategoryC  CategoryD  CategoryE\n",
       "0     1/1/2010      18502      19190      19001        889      19889\n",
       "1    15/1/2010      20501      22400      20090        852      21899\n",
       "2     1/2/2010      19989      23180      21390        852      22401\n",
       "3    15/2/2010      20340      23889      23501       1001      24229\n",
       "4     1/3/2010      20802      26389      27001       1159      27590\n",
       "..         ...        ...        ...        ...        ...        ...\n",
       "333  15/2/2024      76801      97000      73001       8911      94006\n",
       "334   1/3/2024      83000      96010      75599       9400      95010\n",
       "335  15/3/2024      85489      96011      70112       9689      95856\n",
       "336   1/4/2024      89000     101334      67501      10000     101002\n",
       "337  15/4/2024      94010     102001      68502       9990     103249\n",
       "\n",
       "[338 rows x 6 columns]"
      ]
     },
     "execution_count": 132,
     "metadata": {},
     "output_type": "execute_result"
    }
   ],
   "source": [
    "# Place your answers here!\n",
    "df_coe = pd.read_csv(\"COE_2010_2024A.csv\")\n",
    "df_coe"
   ]
  },
  {
   "cell_type": "code",
   "execution_count": 133,
   "id": "818acbb5-809f-4b8d-9614-e23691bd83f9",
   "metadata": {},
   "outputs": [
    {
     "data": {
      "text/plain": [
       "<Axes: >"
      ]
     },
     "execution_count": 133,
     "metadata": {},
     "output_type": "execute_result"
    },
    {
     "data": {
      "image/png": "[encoded data removed]",
      "text/plain": [
       "<Figure size 640x480 with 1 Axes>"
      ]
     },
     "metadata": {},
     "output_type": "display_data"
    }
   ],
   "source": [
    "# Place your answers here!\n",
    "df_coe.plot()"
   ]
  },
  {
   "cell_type": "markdown",
   "id": "a1e652cc-45ee-40f4-b776-23165abc8aca",
   "metadata": {},
   "source": [
    "#### The graphs for all five categories in df_coe were plotted."
   ]
  },
  {
   "cell_type": "code",
   "execution_count": 138,
   "id": "f16d9296",
   "metadata": {},
   "outputs": [
    {
     "data": {
      "text/html": [
       "<div>\n",
       "<style scoped>\n",
       "    .dataframe tbody tr th:only-of-type {\n",
       "        vertical-align: middle;\n",
       "    }\n",
       "\n",
       "    .dataframe tbody tr th {\n",
       "        vertical-align: top;\n",
       "    }\n",
       "\n",
       "    .dataframe thead th {\n",
       "        text-align: right;\n",
       "    }\n",
       "</style>\n",
       "<table border=\"1\" class=\"dataframe\">\n",
       "  <thead>\n",
       "    <tr style=\"text-align: right;\">\n",
       "      <th></th>\n",
       "      <th>Date</th>\n",
       "      <th>CategoryA</th>\n",
       "      <th>CategoryB</th>\n",
       "      <th>CategoryC</th>\n",
       "      <th>CategoryD</th>\n",
       "      <th>CategoryE</th>\n",
       "    </tr>\n",
       "  </thead>\n",
       "  <tbody>\n",
       "    <tr>\n",
       "      <th>306</th>\n",
       "      <td>1/1/2023</td>\n",
       "      <td>80000</td>\n",
       "      <td>102002</td>\n",
       "      <td>77301</td>\n",
       "      <td>10890</td>\n",
       "      <td>107889</td>\n",
       "    </tr>\n",
       "    <tr>\n",
       "      <th>307</th>\n",
       "      <td>15/1/2023</td>\n",
       "      <td>86000</td>\n",
       "      <td>105459</td>\n",
       "      <td>77109</td>\n",
       "      <td>11101</td>\n",
       "      <td>107000</td>\n",
       "    </tr>\n",
       "    <tr>\n",
       "      <th>308</th>\n",
       "      <td>1/2/2023</td>\n",
       "      <td>86000</td>\n",
       "      <td>105524</td>\n",
       "      <td>85119</td>\n",
       "      <td>11602</td>\n",
       "      <td>105002</td>\n",
       "    </tr>\n",
       "    <tr>\n",
       "      <th>309</th>\n",
       "      <td>15/2/2023</td>\n",
       "      <td>86556</td>\n",
       "      <td>115001</td>\n",
       "      <td>87790</td>\n",
       "      <td>12189</td>\n",
       "      <td>118001</td>\n",
       "    </tr>\n",
       "    <tr>\n",
       "      <th>310</th>\n",
       "      <td>1/3/2023</td>\n",
       "      <td>88000</td>\n",
       "      <td>115501</td>\n",
       "      <td>91101</td>\n",
       "      <td>12390</td>\n",
       "      <td>116000</td>\n",
       "    </tr>\n",
       "    <tr>\n",
       "      <th>311</th>\n",
       "      <td>15/3/2023</td>\n",
       "      <td>93503</td>\n",
       "      <td>116201</td>\n",
       "      <td>85389</td>\n",
       "      <td>12001</td>\n",
       "      <td>116020</td>\n",
       "    </tr>\n",
       "    <tr>\n",
       "      <th>312</th>\n",
       "      <td>1/4/2023</td>\n",
       "      <td>96501</td>\n",
       "      <td>118501</td>\n",
       "      <td>76801</td>\n",
       "      <td>12001</td>\n",
       "      <td>118990</td>\n",
       "    </tr>\n",
       "    <tr>\n",
       "      <th>313</th>\n",
       "      <td>15/4/2023</td>\n",
       "      <td>103721</td>\n",
       "      <td>120889</td>\n",
       "      <td>75334</td>\n",
       "      <td>12179</td>\n",
       "      <td>124501</td>\n",
       "    </tr>\n",
       "    <tr>\n",
       "      <th>314</th>\n",
       "      <td>1/5/2023</td>\n",
       "      <td>101001</td>\n",
       "      <td>119399</td>\n",
       "      <td>75589</td>\n",
       "      <td>5002</td>\n",
       "      <td>124002</td>\n",
       "    </tr>\n",
       "    <tr>\n",
       "      <th>315</th>\n",
       "      <td>15/5/2023</td>\n",
       "      <td>92000</td>\n",
       "      <td>113034</td>\n",
       "      <td>77501</td>\n",
       "      <td>10602</td>\n",
       "      <td>125000</td>\n",
       "    </tr>\n",
       "    <tr>\n",
       "      <th>316</th>\n",
       "      <td>1/6/2023</td>\n",
       "      <td>98001</td>\n",
       "      <td>120702</td>\n",
       "      <td>81801</td>\n",
       "      <td>11001</td>\n",
       "      <td>120889</td>\n",
       "    </tr>\n",
       "    <tr>\n",
       "      <th>317</th>\n",
       "      <td>15/6/2023</td>\n",
       "      <td>96206</td>\n",
       "      <td>121000</td>\n",
       "      <td>83140</td>\n",
       "      <td>10709</td>\n",
       "      <td>123000</td>\n",
       "    </tr>\n",
       "    <tr>\n",
       "      <th>318</th>\n",
       "      <td>1/7/2023</td>\n",
       "      <td>97000</td>\n",
       "      <td>118002</td>\n",
       "      <td>82223</td>\n",
       "      <td>10090</td>\n",
       "      <td>121000</td>\n",
       "    </tr>\n",
       "    <tr>\n",
       "      <th>319</th>\n",
       "      <td>15/7/2023</td>\n",
       "      <td>95202</td>\n",
       "      <td>118001</td>\n",
       "      <td>82001</td>\n",
       "      <td>10501</td>\n",
       "      <td>122110</td>\n",
       "    </tr>\n",
       "    <tr>\n",
       "      <th>320</th>\n",
       "      <td>1/8/2023</td>\n",
       "      <td>99499</td>\n",
       "      <td>126889</td>\n",
       "      <td>82100</td>\n",
       "      <td>11501</td>\n",
       "      <td>126201</td>\n",
       "    </tr>\n",
       "    <tr>\n",
       "      <th>321</th>\n",
       "      <td>15/8/2023</td>\n",
       "      <td>100000</td>\n",
       "      <td>129890</td>\n",
       "      <td>82801</td>\n",
       "      <td>11402</td>\n",
       "      <td>131000</td>\n",
       "    </tr>\n",
       "    <tr>\n",
       "      <th>322</th>\n",
       "      <td>1/9/2023</td>\n",
       "      <td>101000</td>\n",
       "      <td>134889</td>\n",
       "      <td>82889</td>\n",
       "      <td>10901</td>\n",
       "      <td>137000</td>\n",
       "    </tr>\n",
       "    <tr>\n",
       "      <th>323</th>\n",
       "      <td>15/9/2023</td>\n",
       "      <td>105000</td>\n",
       "      <td>140889</td>\n",
       "      <td>83801</td>\n",
       "      <td>10700</td>\n",
       "      <td>144640</td>\n",
       "    </tr>\n",
       "    <tr>\n",
       "      <th>324</th>\n",
       "      <td>1/10/2023</td>\n",
       "      <td>104000</td>\n",
       "      <td>146002</td>\n",
       "      <td>85900</td>\n",
       "      <td>10856</td>\n",
       "      <td>152000</td>\n",
       "    </tr>\n",
       "    <tr>\n",
       "      <th>325</th>\n",
       "      <td>15/10/2023</td>\n",
       "      <td>106000</td>\n",
       "      <td>150001</td>\n",
       "      <td>84790</td>\n",
       "      <td>11201</td>\n",
       "      <td>158004</td>\n",
       "    </tr>\n",
       "    <tr>\n",
       "      <th>326</th>\n",
       "      <td>1/11/2023</td>\n",
       "      <td>95689</td>\n",
       "      <td>110001</td>\n",
       "      <td>78001</td>\n",
       "      <td>10889</td>\n",
       "      <td>125011</td>\n",
       "    </tr>\n",
       "    <tr>\n",
       "      <th>327</th>\n",
       "      <td>15/11/2023</td>\n",
       "      <td>85001</td>\n",
       "      <td>135336</td>\n",
       "      <td>73889</td>\n",
       "      <td>10001</td>\n",
       "      <td>135002</td>\n",
       "    </tr>\n",
       "    <tr>\n",
       "      <th>328</th>\n",
       "      <td>1/12/2023</td>\n",
       "      <td>88020</td>\n",
       "      <td>130100</td>\n",
       "      <td>71001</td>\n",
       "      <td>9858</td>\n",
       "      <td>133388</td>\n",
       "    </tr>\n",
       "    <tr>\n",
       "      <th>329</th>\n",
       "      <td>15/12/2023</td>\n",
       "      <td>85000</td>\n",
       "      <td>110001</td>\n",
       "      <td>69423</td>\n",
       "      <td>9002</td>\n",
       "      <td>118388</td>\n",
       "    </tr>\n",
       "  </tbody>\n",
       "</table>\n",
       "</div>"
      ],
      "text/plain": [
       "           Date  CategoryA  CategoryB  CategoryC  CategoryD  CategoryE\n",
       "306    1/1/2023      80000     102002      77301      10890     107889\n",
       "307   15/1/2023      86000     105459      77109      11101     107000\n",
       "308    1/2/2023      86000     105524      85119      11602     105002\n",
       "309   15/2/2023      86556     115001      87790      12189     118001\n",
       "310    1/3/2023      88000     115501      91101      12390     116000\n",
       "311   15/3/2023      93503     116201      85389      12001     116020\n",
       "312    1/4/2023      96501     118501      76801      12001     118990\n",
       "313   15/4/2023     103721     120889      75334      12179     124501\n",
       "314    1/5/2023     101001     119399      75589       5002     124002\n",
       "315   15/5/2023      92000     113034      77501      10602     125000\n",
       "316    1/6/2023      98001     120702      81801      11001     120889\n",
       "317   15/6/2023      96206     121000      83140      10709     123000\n",
       "318    1/7/2023      97000     118002      82223      10090     121000\n",
       "319   15/7/2023      95202     118001      82001      10501     122110\n",
       "320    1/8/2023      99499     126889      82100      11501     126201\n",
       "321   15/8/2023     100000     129890      82801      11402     131000\n",
       "322    1/9/2023     101000     134889      82889      10901     137000\n",
       "323   15/9/2023     105000     140889      83801      10700     144640\n",
       "324   1/10/2023     104000     146002      85900      10856     152000\n",
       "325  15/10/2023     106000     150001      84790      11201     158004\n",
       "326   1/11/2023      95689     110001      78001      10889     125011\n",
       "327  15/11/2023      85001     135336      73889      10001     135002\n",
       "328   1/12/2023      88020     130100      71001       9858     133388\n",
       "329  15/12/2023      85000     110001      69423       9002     118388"
      ]
     },
     "execution_count": 138,
     "metadata": {},
     "output_type": "execute_result"
    }
   ],
   "source": [
    "# 2. Plot the line plot for the year 2023 only, for both CatA and CatB, complete with markers, axis labels and titles and legends, as shown below (fig left).\n",
    "\n",
    "df_coe_2023_only = df_coe[df_coe['Date'].apply(lambda x: x.split(\"/\")[-1]=='2023')]\n",
    "df_coe_2023_only"
   ]
  },
  {
   "cell_type": "code",
   "execution_count": 139,
   "id": "ed3137ec-bcb7-4a4e-9bde-0a53388e923d",
   "metadata": {},
   "outputs": [
    {
     "data": {
      "text/plain": [
       "<Axes: title={'center': 'COE Premium for 2023'}, xlabel='Date', ylabel='COE Premium (SGD)'>"
      ]
     },
     "execution_count": 139,
     "metadata": {},
     "output_type": "execute_result"
    },
    {
     "data": {
      "image/png": "[encoded data removed]",
      "text/plain": [
       "<Figure size 640x480 with 1 Axes>"
      ]
     },
     "metadata": {},
     "output_type": "display_data"
    }
   ],
   "source": [
    "df_coe_2023_only.plot(x = \"Date\",\n",
    "                 y = [\"CategoryA\", \"CategoryB\"], \n",
    "                 marker = \"o\", title = \"COE Premium for 2023\", xlabel = \"Date\", ylabel = \"COE Premium (SGD)\")"
   ]
  },
  {
   "cell_type": "code",
   "execution_count": 141,
   "id": "c226d338-3b7e-4438-9069-2562e809e073",
   "metadata": {},
   "outputs": [
    {
     "data": {
      "text/plain": [
       "<Axes: title={'center': 'COE Premium for 2023'}, xlabel='Month (2 bids per month)', ylabel='COE Premium (SGD)'>"
      ]
     },
     "execution_count": 141,
     "metadata": {},
     "output_type": "execute_result"
    },
    {
     "data": {
      "image/png": "[encoded data removed]",
      "text/plain": [
       "<Figure size 640x480 with 1 Axes>"
      ]
     },
     "metadata": {},
     "output_type": "display_data"
    }
   ],
   "source": [
    "df_coe_2023_only.plot(x = \"Date\",\n",
    "                 y = [\"CategoryA\", \"CategoryB\"], \n",
    "                 kind = \"bar\", title = \"COE Premium for 2023\", xlabel = \"Month (2 bids per month)\", ylabel = \"COE Premium (SGD)\")"
   ]
  },
  {
   "cell_type": "code",
   "execution_count": null,
   "id": "39bc7a47",
   "metadata": {},
   "outputs": [],
   "source": []
  }
 ],
 "metadata": {
  "kernelspec": {
   "display_name": "tf-env",
   "language": "python",
   "name": "python3"
  },
  "language_info": {
   "codemirror_mode": {
    "name": "ipython",
    "version": 3
   },
   "file_extension": ".py",
   "mimetype": "text/x-python",
   "name": "python",
   "nbconvert_exporter": "python",
   "pygments_lexer": "ipython3",
   "version": "3.12.4"
  }
 },
 "nbformat": 4,
 "nbformat_minor": 5
}
